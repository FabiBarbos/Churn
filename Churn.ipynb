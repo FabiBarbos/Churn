{
 "cells": [
  {
   "cell_type": "markdown",
   "id": "20eb89a2",
   "metadata": {},
   "source": [
    "Bibliotecas "
   ]
  },
  {
   "cell_type": "code",
   "execution_count": 107,
   "id": "1ecea311",
   "metadata": {},
   "outputs": [],
   "source": [
    "# Importar as bibliotecas\n",
    "# Análise Exploratória de dados \n",
    "import pandas as pd  \n",
    "import numpy as np\n",
    "\n",
    "# Visualização\n",
    "from matplotlib import pyplot as plt  \n",
    "import seaborn as sns \n",
    " \n",
    "# Pré-processamento e modelos    \n",
    "from sklearn.preprocessing import MinMaxScaler \n",
    "from imblearn.over_sampling  import SMOTE\n",
    "from sklearn.ensemble import RandomForestClassifier\n",
    "from sklearn.feature_selection import RFE\n",
    "from sklearn.metrics import classification_report, confusion_matrix, roc_auc_score\n",
    "from sklearn.linear_model import LogisticRegression\n",
    "from sklearn.model_selection import StratifiedKFold\n",
    "from sklearn.model_selection import cross_val_score\n",
    "from sklearn.metrics import f1_score\n",
    "from sklearn.feature_selection import SelectKBest, chi2, f_classif\n",
    "from sklearn import metrics\n",
    "from sklearn.model_selection import train_test_split, cross_validate, GridSearchCV\n",
    "from sklearn.neighbors import KNeighborsClassifier\n",
    "from sklearn.tree import DecisionTreeClassifier\n",
    "from sklearn.naive_bayes import GaussianNB\n",
    "from lightgbm import LGBMClassifier\n",
    "import lightgbm as lgbm\n",
    "\n",
    "\n",
    "pd.set_option(\"display.max_columns\",None) # mostrar todas as colunas \n",
    "pd.set_option(\"display.max_rows\",None) # mostrar todas as linhas"
   ]
  },
  {
   "cell_type": "markdown",
   "id": "0aafaf20",
   "metadata": {},
   "source": [
    "1. Entendimento do negócio"
   ]
  },
  {
   "cell_type": "markdown",
   "id": "213d92ea",
   "metadata": {},
   "source": [
    "1.1. Situação\n",
    "- Os clientes são a base de uma instituição financeira. Portanto, é muito importante para uma instituição prever se os seus clientes irão ou não abandonar (churn) o seu serviço. Assim, quanto melhor for a predição, melhor será o direcionamento, por exemplo, em ações financeiras e em ações de marketing para evitar que o cliente abandone a instituição."
   ]
  },
  {
   "cell_type": "markdown",
   "id": "6dda822f",
   "metadata": {},
   "source": [
    "1.2. Objetivo:\n",
    "- Prever o abandono de clientes (churn) de uma instituição financeira"
   ]
  },
  {
   "cell_type": "markdown",
   "id": "9c9dbca1",
   "metadata": {},
   "source": [
    "1.3. Etapas usadas para solucionar o problema acima:\n",
    "\n",
    "- Entendimento do negócio (que foi descrito acima);\n",
    "- Entendimento dos dados;\n",
    "- Preparação dos dados; \n",
    "- Modelagem e Avaliação;\n",
    "- Previsão."
   ]
  },
  {
   "cell_type": "markdown",
   "id": "bdf060af",
   "metadata": {},
   "source": [
    "2. Entendimento dos dados (Explorar os conjuntos de dados)\n",
    "- 2.1. Importar os conjuntos de dados;\n",
    "- 2.2. Informações sobre os conjuntos de dados;\n",
    "- 2.3. Estatística das variáveis."
   ]
  },
  {
   "cell_type": "markdown",
   "id": "18bf4bc3",
   "metadata": {},
   "source": [
    "2.1. Importar os conjuntos de dados (datasets) "
   ]
  },
  {
   "cell_type": "markdown",
   "id": "c537222d",
   "metadata": {},
   "source": [
    "2.1.1. Importar o conjunto de dados (dataset) nomeado Abandono_clientes (dados de treino)"
   ]
  },
  {
   "cell_type": "code",
   "execution_count": 2,
   "id": "346bf464",
   "metadata": {},
   "outputs": [],
   "source": [
    "df_treino = pd.read_csv(\"Abandono_clientes.csv\", na_values=\"na\")"
   ]
  },
  {
   "cell_type": "markdown",
   "id": "9308861d",
   "metadata": {},
   "source": [
    "2.1.2. Importar a conjunto de dados (dataset) nomeado Abandono_teste (dados teste). Representam dados que nunca foram vistos"
   ]
  },
  {
   "cell_type": "code",
   "execution_count": 3,
   "id": "41790747",
   "metadata": {},
   "outputs": [],
   "source": [
    "df_teste = pd.read_csv(\"Abandono_teste.csv\",na_values=\"na\")  "
   ]
  },
  {
   "cell_type": "markdown",
   "id": "0156c564",
   "metadata": {},
   "source": [
    "2.2. Informações sobre os conjuntos de dados"
   ]
  },
  {
   "cell_type": "markdown",
   "id": "227e7ee8",
   "metadata": {},
   "source": [
    "2.2.1. Dados de treino  "
   ]
  },
  {
   "cell_type": "code",
   "execution_count": 4,
   "id": "7d4b967c",
   "metadata": {},
   "outputs": [
    {
     "data": {
      "text/html": [
       "<div>\n",
       "<style scoped>\n",
       "    .dataframe tbody tr th:only-of-type {\n",
       "        vertical-align: middle;\n",
       "    }\n",
       "\n",
       "    .dataframe tbody tr th {\n",
       "        vertical-align: top;\n",
       "    }\n",
       "\n",
       "    .dataframe thead th {\n",
       "        text-align: right;\n",
       "    }\n",
       "</style>\n",
       "<table border=\"1\" class=\"dataframe\">\n",
       "  <thead>\n",
       "    <tr style=\"text-align: right;\">\n",
       "      <th></th>\n",
       "      <th>RowNumber</th>\n",
       "      <th>CustomerId</th>\n",
       "      <th>Surname</th>\n",
       "      <th>CreditScore</th>\n",
       "      <th>Geography</th>\n",
       "      <th>Gender</th>\n",
       "      <th>Age</th>\n",
       "      <th>Tenure</th>\n",
       "      <th>Balance</th>\n",
       "      <th>NumOfProducts</th>\n",
       "      <th>HasCrCard</th>\n",
       "      <th>IsActiveMember</th>\n",
       "      <th>EstimatedSalary</th>\n",
       "      <th>Exited</th>\n",
       "    </tr>\n",
       "  </thead>\n",
       "  <tbody>\n",
       "    <tr>\n",
       "      <th>0</th>\n",
       "      <td>1</td>\n",
       "      <td>15634602</td>\n",
       "      <td>Hargrave</td>\n",
       "      <td>619</td>\n",
       "      <td>France</td>\n",
       "      <td>Female</td>\n",
       "      <td>42</td>\n",
       "      <td>2</td>\n",
       "      <td>0.00</td>\n",
       "      <td>1</td>\n",
       "      <td>1</td>\n",
       "      <td>1</td>\n",
       "      <td>101348.88</td>\n",
       "      <td>1</td>\n",
       "    </tr>\n",
       "    <tr>\n",
       "      <th>1</th>\n",
       "      <td>2</td>\n",
       "      <td>15647311</td>\n",
       "      <td>Hill</td>\n",
       "      <td>608</td>\n",
       "      <td>Spain</td>\n",
       "      <td>Female</td>\n",
       "      <td>41</td>\n",
       "      <td>1</td>\n",
       "      <td>83807.86</td>\n",
       "      <td>1</td>\n",
       "      <td>0</td>\n",
       "      <td>1</td>\n",
       "      <td>112542.58</td>\n",
       "      <td>0</td>\n",
       "    </tr>\n",
       "    <tr>\n",
       "      <th>2</th>\n",
       "      <td>3</td>\n",
       "      <td>15619304</td>\n",
       "      <td>Onio</td>\n",
       "      <td>502</td>\n",
       "      <td>France</td>\n",
       "      <td>Female</td>\n",
       "      <td>42</td>\n",
       "      <td>8</td>\n",
       "      <td>159660.80</td>\n",
       "      <td>3</td>\n",
       "      <td>1</td>\n",
       "      <td>0</td>\n",
       "      <td>113931.57</td>\n",
       "      <td>1</td>\n",
       "    </tr>\n",
       "    <tr>\n",
       "      <th>3</th>\n",
       "      <td>4</td>\n",
       "      <td>15701354</td>\n",
       "      <td>Boni</td>\n",
       "      <td>699</td>\n",
       "      <td>France</td>\n",
       "      <td>Female</td>\n",
       "      <td>39</td>\n",
       "      <td>1</td>\n",
       "      <td>0.00</td>\n",
       "      <td>2</td>\n",
       "      <td>0</td>\n",
       "      <td>0</td>\n",
       "      <td>93826.63</td>\n",
       "      <td>0</td>\n",
       "    </tr>\n",
       "    <tr>\n",
       "      <th>4</th>\n",
       "      <td>5</td>\n",
       "      <td>15737888</td>\n",
       "      <td>Mitchell</td>\n",
       "      <td>850</td>\n",
       "      <td>Spain</td>\n",
       "      <td>Female</td>\n",
       "      <td>43</td>\n",
       "      <td>2</td>\n",
       "      <td>125510.82</td>\n",
       "      <td>1</td>\n",
       "      <td>1</td>\n",
       "      <td>1</td>\n",
       "      <td>79084.10</td>\n",
       "      <td>0</td>\n",
       "    </tr>\n",
       "  </tbody>\n",
       "</table>\n",
       "</div>"
      ],
      "text/plain": [
       "   RowNumber  CustomerId   Surname  CreditScore Geography  Gender  Age  \\\n",
       "0          1    15634602  Hargrave          619    France  Female   42   \n",
       "1          2    15647311      Hill          608     Spain  Female   41   \n",
       "2          3    15619304      Onio          502    France  Female   42   \n",
       "3          4    15701354      Boni          699    France  Female   39   \n",
       "4          5    15737888  Mitchell          850     Spain  Female   43   \n",
       "\n",
       "   Tenure    Balance  NumOfProducts  HasCrCard  IsActiveMember  \\\n",
       "0       2       0.00              1          1               1   \n",
       "1       1   83807.86              1          0               1   \n",
       "2       8  159660.80              3          1               0   \n",
       "3       1       0.00              2          0               0   \n",
       "4       2  125510.82              1          1               1   \n",
       "\n",
       "   EstimatedSalary  Exited  \n",
       "0        101348.88       1  \n",
       "1        112542.58       0  \n",
       "2        113931.57       1  \n",
       "3         93826.63       0  \n",
       "4         79084.10       0  "
      ]
     },
     "execution_count": 4,
     "metadata": {},
     "output_type": "execute_result"
    }
   ],
   "source": [
    "df_treino.head() # visualizar as cinco primeiras linhas do conjunto de dados treino"
   ]
  },
  {
   "cell_type": "code",
   "execution_count": 5,
   "id": "535db16e",
   "metadata": {},
   "outputs": [
    {
     "data": {
      "text/plain": [
       "RowNumber            int64\n",
       "CustomerId           int64\n",
       "Surname             object\n",
       "CreditScore          int64\n",
       "Geography           object\n",
       "Gender              object\n",
       "Age                  int64\n",
       "Tenure               int64\n",
       "Balance            float64\n",
       "NumOfProducts        int64\n",
       "HasCrCard            int64\n",
       "IsActiveMember       int64\n",
       "EstimatedSalary    float64\n",
       "Exited               int64\n",
       "dtype: object"
      ]
     },
     "metadata": {},
     "output_type": "display_data"
    }
   ],
   "source": [
    "display(df_treino.dtypes) # tipo de cada coluna do conjunto de dados de treino"
   ]
  },
  {
   "cell_type": "markdown",
   "id": "cc1259dc",
   "metadata": {},
   "source": [
    "2.2.2 Dados de teste"
   ]
  },
  {
   "cell_type": "code",
   "execution_count": 6,
   "id": "34498c20",
   "metadata": {},
   "outputs": [
    {
     "data": {
      "text/html": [
       "<div>\n",
       "<style scoped>\n",
       "    .dataframe tbody tr th:only-of-type {\n",
       "        vertical-align: middle;\n",
       "    }\n",
       "\n",
       "    .dataframe tbody tr th {\n",
       "        vertical-align: top;\n",
       "    }\n",
       "\n",
       "    .dataframe thead th {\n",
       "        text-align: right;\n",
       "    }\n",
       "</style>\n",
       "<table border=\"1\" class=\"dataframe\">\n",
       "  <thead>\n",
       "    <tr style=\"text-align: right;\">\n",
       "      <th></th>\n",
       "      <th>RowNumber;CustomerId;Surname;CreditScore;Geography;Gender;Age;Tenure;Balance;NumOfProducts;HasCrCard;IsActiveMember;EstimatedSalary</th>\n",
       "    </tr>\n",
       "  </thead>\n",
       "  <tbody>\n",
       "    <tr>\n",
       "      <th>0</th>\n",
       "      <td>10001;15798485;Copley;565;France;Male;31;1;0;1...</td>\n",
       "    </tr>\n",
       "    <tr>\n",
       "      <th>1</th>\n",
       "      <td>10002;15588959;T'ang;569;France;Male;34;4;0;1;...</td>\n",
       "    </tr>\n",
       "    <tr>\n",
       "      <th>2</th>\n",
       "      <td>10003;15624896;Ku;669;France;Female;20;7;0;2;1...</td>\n",
       "    </tr>\n",
       "    <tr>\n",
       "      <th>3</th>\n",
       "      <td>10004;15639629;McConnan;694;France;Male;39;4;1...</td>\n",
       "    </tr>\n",
       "    <tr>\n",
       "      <th>4</th>\n",
       "      <td>10005;15638852;Ts'ui;504;Spain;Male;28;10;1092...</td>\n",
       "    </tr>\n",
       "  </tbody>\n",
       "</table>\n",
       "</div>"
      ],
      "text/plain": [
       "  RowNumber;CustomerId;Surname;CreditScore;Geography;Gender;Age;Tenure;Balance;NumOfProducts;HasCrCard;IsActiveMember;EstimatedSalary\n",
       "0  10001;15798485;Copley;565;France;Male;31;1;0;1...                                                                                 \n",
       "1  10002;15588959;T'ang;569;France;Male;34;4;0;1;...                                                                                 \n",
       "2  10003;15624896;Ku;669;France;Female;20;7;0;2;1...                                                                                 \n",
       "3  10004;15639629;McConnan;694;France;Male;39;4;1...                                                                                 \n",
       "4  10005;15638852;Ts'ui;504;Spain;Male;28;10;1092...                                                                                 "
      ]
     },
     "execution_count": 6,
     "metadata": {},
     "output_type": "execute_result"
    }
   ],
   "source": [
    "df_teste.head() # visualizar as cinco primeiras linhas do conjunto de dados "
   ]
  },
  {
   "cell_type": "markdown",
   "id": "f1586490",
   "metadata": {},
   "source": [
    "Conforme mostra acima, todas as informações estão em uma única entrada de coluna. Isso ocorreu porque o read_csv usa um parâmetro sep onde o padrão é \",\". Acima as colunas estão separadas por \";\", assim, usar sep=\";\"     "
   ]
  },
  {
   "cell_type": "code",
   "execution_count": 7,
   "id": "df523d76",
   "metadata": {},
   "outputs": [],
   "source": [
    "df_teste = pd.read_csv(\"Abandono_teste.csv\",sep=';', na_values=\"na\")  "
   ]
  },
  {
   "cell_type": "code",
   "execution_count": 8,
   "id": "2fb3c5ca",
   "metadata": {},
   "outputs": [
    {
     "data": {
      "text/html": [
       "<div>\n",
       "<style scoped>\n",
       "    .dataframe tbody tr th:only-of-type {\n",
       "        vertical-align: middle;\n",
       "    }\n",
       "\n",
       "    .dataframe tbody tr th {\n",
       "        vertical-align: top;\n",
       "    }\n",
       "\n",
       "    .dataframe thead th {\n",
       "        text-align: right;\n",
       "    }\n",
       "</style>\n",
       "<table border=\"1\" class=\"dataframe\">\n",
       "  <thead>\n",
       "    <tr style=\"text-align: right;\">\n",
       "      <th></th>\n",
       "      <th>RowNumber</th>\n",
       "      <th>CustomerId</th>\n",
       "      <th>Surname</th>\n",
       "      <th>CreditScore</th>\n",
       "      <th>Geography</th>\n",
       "      <th>Gender</th>\n",
       "      <th>Age</th>\n",
       "      <th>Tenure</th>\n",
       "      <th>Balance</th>\n",
       "      <th>NumOfProducts</th>\n",
       "      <th>HasCrCard</th>\n",
       "      <th>IsActiveMember</th>\n",
       "      <th>EstimatedSalary</th>\n",
       "    </tr>\n",
       "  </thead>\n",
       "  <tbody>\n",
       "    <tr>\n",
       "      <th>0</th>\n",
       "      <td>10001</td>\n",
       "      <td>15798485</td>\n",
       "      <td>Copley</td>\n",
       "      <td>565</td>\n",
       "      <td>France</td>\n",
       "      <td>Male</td>\n",
       "      <td>31</td>\n",
       "      <td>1</td>\n",
       "      <td>0.00</td>\n",
       "      <td>1</td>\n",
       "      <td>0</td>\n",
       "      <td>1</td>\n",
       "      <td>20443.08</td>\n",
       "    </tr>\n",
       "    <tr>\n",
       "      <th>1</th>\n",
       "      <td>10002</td>\n",
       "      <td>15588959</td>\n",
       "      <td>T'ang</td>\n",
       "      <td>569</td>\n",
       "      <td>France</td>\n",
       "      <td>Male</td>\n",
       "      <td>34</td>\n",
       "      <td>4</td>\n",
       "      <td>0.00</td>\n",
       "      <td>1</td>\n",
       "      <td>0</td>\n",
       "      <td>1</td>\n",
       "      <td>4045.90</td>\n",
       "    </tr>\n",
       "    <tr>\n",
       "      <th>2</th>\n",
       "      <td>10003</td>\n",
       "      <td>15624896</td>\n",
       "      <td>Ku</td>\n",
       "      <td>669</td>\n",
       "      <td>France</td>\n",
       "      <td>Female</td>\n",
       "      <td>20</td>\n",
       "      <td>7</td>\n",
       "      <td>0.00</td>\n",
       "      <td>2</td>\n",
       "      <td>1</td>\n",
       "      <td>0</td>\n",
       "      <td>128838.67</td>\n",
       "    </tr>\n",
       "    <tr>\n",
       "      <th>3</th>\n",
       "      <td>10004</td>\n",
       "      <td>15639629</td>\n",
       "      <td>McConnan</td>\n",
       "      <td>694</td>\n",
       "      <td>France</td>\n",
       "      <td>Male</td>\n",
       "      <td>39</td>\n",
       "      <td>4</td>\n",
       "      <td>173255.48</td>\n",
       "      <td>1</td>\n",
       "      <td>1</td>\n",
       "      <td>1</td>\n",
       "      <td>81293.10</td>\n",
       "    </tr>\n",
       "    <tr>\n",
       "      <th>4</th>\n",
       "      <td>10005</td>\n",
       "      <td>15638852</td>\n",
       "      <td>Ts'ui</td>\n",
       "      <td>504</td>\n",
       "      <td>Spain</td>\n",
       "      <td>Male</td>\n",
       "      <td>28</td>\n",
       "      <td>10</td>\n",
       "      <td>109291.36</td>\n",
       "      <td>1</td>\n",
       "      <td>1</td>\n",
       "      <td>1</td>\n",
       "      <td>187593.15</td>\n",
       "    </tr>\n",
       "  </tbody>\n",
       "</table>\n",
       "</div>"
      ],
      "text/plain": [
       "   RowNumber  CustomerId   Surname  CreditScore Geography  Gender  Age  \\\n",
       "0      10001    15798485    Copley          565    France    Male   31   \n",
       "1      10002    15588959     T'ang          569    France    Male   34   \n",
       "2      10003    15624896        Ku          669    France  Female   20   \n",
       "3      10004    15639629  McConnan          694    France    Male   39   \n",
       "4      10005    15638852     Ts'ui          504     Spain    Male   28   \n",
       "\n",
       "   Tenure    Balance  NumOfProducts  HasCrCard  IsActiveMember  \\\n",
       "0       1       0.00              1          0               1   \n",
       "1       4       0.00              1          0               1   \n",
       "2       7       0.00              2          1               0   \n",
       "3       4  173255.48              1          1               1   \n",
       "4      10  109291.36              1          1               1   \n",
       "\n",
       "   EstimatedSalary  \n",
       "0         20443.08  \n",
       "1          4045.90  \n",
       "2        128838.67  \n",
       "3         81293.10  \n",
       "4        187593.15  "
      ]
     },
     "execution_count": 8,
     "metadata": {},
     "output_type": "execute_result"
    }
   ],
   "source": [
    "df_teste.head()"
   ]
  },
  {
   "cell_type": "code",
   "execution_count": 9,
   "id": "72dabbe6",
   "metadata": {},
   "outputs": [
    {
     "data": {
      "text/plain": [
       "RowNumber            int64\n",
       "CustomerId           int64\n",
       "Surname             object\n",
       "CreditScore          int64\n",
       "Geography           object\n",
       "Gender              object\n",
       "Age                  int64\n",
       "Tenure               int64\n",
       "Balance            float64\n",
       "NumOfProducts        int64\n",
       "HasCrCard            int64\n",
       "IsActiveMember       int64\n",
       "EstimatedSalary    float64\n",
       "dtype: object"
      ]
     },
     "metadata": {},
     "output_type": "display_data"
    }
   ],
   "source": [
    "display(df_teste.dtypes) # tipo de cada coluna do conjunto de dados"
   ]
  },
  {
   "cell_type": "markdown",
   "id": "b00892cf",
   "metadata": {},
   "source": [
    "Nos conjuntos de dados acima, cada coluna representa uma informação/variável sobre o cliente."
   ]
  },
  {
   "cell_type": "markdown",
   "id": "fc9d5ac7",
   "metadata": {},
   "source": [
    "Questão 1. O que significa cada variável? Qual é o tipo de cada variável?  \n",
    "\n",
    "a) Variáveis numéricas (int64 ou float64)\n",
    "- RowNumber: número de linhas (int64) \n",
    "- CustomerId: Id do cliente (int64)\n",
    "- CreditScore: score (pontuação) de crédito do cliente (int64)\n",
    "- Age: idade do cliente (int64)\n",
    "- Tenure: tempo de vínculo do cliente com a instituição financeira (int64). Observação: no conjunto de dados não consta a medida de tempo (são meses ou anos). Vou considerar anos.   \n",
    "- Balance: montante em dinheiro disponível na conta do cliente (float64). Observação: no conjunto de dados não cosnta a moeda (é dolár, euro, libra, etc). Vou considerar euros, uma vez que os clientes estão localizados em países da Europa.\n",
    "- NumbOfProducts: número de produtos da instituição financeira que o cliente possui (int64)\n",
    "- HasCrCard: o cliente tem cartão de crédito? 0 = não e 1 = sim (int64)\n",
    "- IsActiveMember: o cliente é um membro ativo? 0 = não e 1 = sim (int64) \n",
    "- EstimatedSalary: salário estimado do cliente (float64)\n",
    "- Exited: o cliente abandonou a instituição financeira? 0 = não e 1 = sim (int64)\n",
    "\n",
    "b) Variáveis categóricas (object)\n",
    "- Surname: sobrenome do cliente\n",
    "- Geography: localização do cliente\n",
    "- Gender: gênero do cliente (male = masculino e female = feminino)"
   ]
  },
  {
   "cell_type": "markdown",
   "id": "1156a88b",
   "metadata": {},
   "source": [
    "Questão 2. Qual a quantidade de variáveis e clientes?   "
   ]
  },
  {
   "cell_type": "code",
   "execution_count": 10,
   "id": "4aadae42",
   "metadata": {},
   "outputs": [
    {
     "name": "stdout",
     "output_type": "stream",
     "text": [
      "Número de variáveis:\t 14\n",
      "Número de clientes:\t 10000\n"
     ]
    }
   ],
   "source": [
    "# quantificar as variáveis e clientes do conjunto de dados de treino\n",
    "print(\"Número de variáveis:\\t {}\".format(df_treino.shape[1]))\n",
    "print(\"Número de clientes:\\t {}\".format(df_treino.shape[0]))"
   ]
  },
  {
   "cell_type": "code",
   "execution_count": 11,
   "id": "5c0fdc20",
   "metadata": {},
   "outputs": [
    {
     "name": "stdout",
     "output_type": "stream",
     "text": [
      "Número de variáveis:\t 13\n",
      "Número de clientes:\t 1000\n"
     ]
    }
   ],
   "source": [
    "# quantificar as variáveis e clientes do conjunto de dados de teste\n",
    "print(\"Número de variáveis:\\t {}\".format(df_teste.shape[1]))\n",
    "print(\"Número de clientes:\\t {}\".format(df_teste.shape[0]))"
   ]
  },
  {
   "cell_type": "markdown",
   "id": "95e21299",
   "metadata": {},
   "source": [
    "Questão 3. Existem valores ausentes nos conjuntos de dados? Qual a quantidade de valores únicos em cada variável?"
   ]
  },
  {
   "cell_type": "code",
   "execution_count": 12,
   "id": "724af753",
   "metadata": {},
   "outputs": [
    {
     "data": {
      "text/html": [
       "<div>\n",
       "<style scoped>\n",
       "    .dataframe tbody tr th:only-of-type {\n",
       "        vertical-align: middle;\n",
       "    }\n",
       "\n",
       "    .dataframe tbody tr th {\n",
       "        vertical-align: top;\n",
       "    }\n",
       "\n",
       "    .dataframe thead th {\n",
       "        text-align: right;\n",
       "    }\n",
       "</style>\n",
       "<table border=\"1\" class=\"dataframe\">\n",
       "  <thead>\n",
       "    <tr style=\"text-align: right;\">\n",
       "      <th></th>\n",
       "      <th>Valores Ausentes</th>\n",
       "      <th>Valores Únicos</th>\n",
       "    </tr>\n",
       "  </thead>\n",
       "  <tbody>\n",
       "    <tr>\n",
       "      <th>RowNumber</th>\n",
       "      <td>0.0</td>\n",
       "      <td>10000</td>\n",
       "    </tr>\n",
       "    <tr>\n",
       "      <th>CustomerId</th>\n",
       "      <td>0.0</td>\n",
       "      <td>10000</td>\n",
       "    </tr>\n",
       "    <tr>\n",
       "      <th>Surname</th>\n",
       "      <td>0.0</td>\n",
       "      <td>2932</td>\n",
       "    </tr>\n",
       "    <tr>\n",
       "      <th>CreditScore</th>\n",
       "      <td>0.0</td>\n",
       "      <td>460</td>\n",
       "    </tr>\n",
       "    <tr>\n",
       "      <th>Geography</th>\n",
       "      <td>0.0</td>\n",
       "      <td>3</td>\n",
       "    </tr>\n",
       "    <tr>\n",
       "      <th>Gender</th>\n",
       "      <td>0.0</td>\n",
       "      <td>2</td>\n",
       "    </tr>\n",
       "    <tr>\n",
       "      <th>Age</th>\n",
       "      <td>0.0</td>\n",
       "      <td>70</td>\n",
       "    </tr>\n",
       "    <tr>\n",
       "      <th>Tenure</th>\n",
       "      <td>0.0</td>\n",
       "      <td>11</td>\n",
       "    </tr>\n",
       "    <tr>\n",
       "      <th>Balance</th>\n",
       "      <td>0.0</td>\n",
       "      <td>6382</td>\n",
       "    </tr>\n",
       "    <tr>\n",
       "      <th>NumOfProducts</th>\n",
       "      <td>0.0</td>\n",
       "      <td>4</td>\n",
       "    </tr>\n",
       "    <tr>\n",
       "      <th>HasCrCard</th>\n",
       "      <td>0.0</td>\n",
       "      <td>2</td>\n",
       "    </tr>\n",
       "    <tr>\n",
       "      <th>IsActiveMember</th>\n",
       "      <td>0.0</td>\n",
       "      <td>2</td>\n",
       "    </tr>\n",
       "    <tr>\n",
       "      <th>EstimatedSalary</th>\n",
       "      <td>0.0</td>\n",
       "      <td>9999</td>\n",
       "    </tr>\n",
       "    <tr>\n",
       "      <th>Exited</th>\n",
       "      <td>0.0</td>\n",
       "      <td>2</td>\n",
       "    </tr>\n",
       "  </tbody>\n",
       "</table>\n",
       "</div>"
      ],
      "text/plain": [
       "                 Valores Ausentes  Valores Únicos\n",
       "RowNumber                     0.0           10000\n",
       "CustomerId                    0.0           10000\n",
       "Surname                       0.0            2932\n",
       "CreditScore                   0.0             460\n",
       "Geography                     0.0               3\n",
       "Gender                        0.0               2\n",
       "Age                           0.0              70\n",
       "Tenure                        0.0              11\n",
       "Balance                       0.0            6382\n",
       "NumOfProducts                 0.0               4\n",
       "HasCrCard                     0.0               2\n",
       "IsActiveMember                0.0               2\n",
       "EstimatedSalary               0.0            9999\n",
       "Exited                        0.0               2"
      ]
     },
     "execution_count": 12,
     "metadata": {},
     "output_type": "execute_result"
    }
   ],
   "source": [
    "# criar um dataframe informando a quantidade de valores ausentes e de valores únicos para cada varíavel do conjunto de dados de treino\n",
    "pd.DataFrame({\"Valores Ausentes\": df_treino.isna().mean(),\n",
    "              \"Valores Únicos\": df_treino.nunique()})"
   ]
  },
  {
   "cell_type": "code",
   "execution_count": 13,
   "id": "3ad5716b",
   "metadata": {},
   "outputs": [
    {
     "data": {
      "text/html": [
       "<div>\n",
       "<style scoped>\n",
       "    .dataframe tbody tr th:only-of-type {\n",
       "        vertical-align: middle;\n",
       "    }\n",
       "\n",
       "    .dataframe tbody tr th {\n",
       "        vertical-align: top;\n",
       "    }\n",
       "\n",
       "    .dataframe thead th {\n",
       "        text-align: right;\n",
       "    }\n",
       "</style>\n",
       "<table border=\"1\" class=\"dataframe\">\n",
       "  <thead>\n",
       "    <tr style=\"text-align: right;\">\n",
       "      <th></th>\n",
       "      <th>Valores Ausentes</th>\n",
       "      <th>Valores Únicos</th>\n",
       "    </tr>\n",
       "  </thead>\n",
       "  <tbody>\n",
       "    <tr>\n",
       "      <th>RowNumber</th>\n",
       "      <td>0.0</td>\n",
       "      <td>1000</td>\n",
       "    </tr>\n",
       "    <tr>\n",
       "      <th>CustomerId</th>\n",
       "      <td>0.0</td>\n",
       "      <td>1000</td>\n",
       "    </tr>\n",
       "    <tr>\n",
       "      <th>Surname</th>\n",
       "      <td>0.0</td>\n",
       "      <td>715</td>\n",
       "    </tr>\n",
       "    <tr>\n",
       "      <th>CreditScore</th>\n",
       "      <td>0.0</td>\n",
       "      <td>353</td>\n",
       "    </tr>\n",
       "    <tr>\n",
       "      <th>Geography</th>\n",
       "      <td>0.0</td>\n",
       "      <td>3</td>\n",
       "    </tr>\n",
       "    <tr>\n",
       "      <th>Gender</th>\n",
       "      <td>0.0</td>\n",
       "      <td>2</td>\n",
       "    </tr>\n",
       "    <tr>\n",
       "      <th>Age</th>\n",
       "      <td>0.0</td>\n",
       "      <td>59</td>\n",
       "    </tr>\n",
       "    <tr>\n",
       "      <th>Tenure</th>\n",
       "      <td>0.0</td>\n",
       "      <td>11</td>\n",
       "    </tr>\n",
       "    <tr>\n",
       "      <th>Balance</th>\n",
       "      <td>0.0</td>\n",
       "      <td>622</td>\n",
       "    </tr>\n",
       "    <tr>\n",
       "      <th>NumOfProducts</th>\n",
       "      <td>0.0</td>\n",
       "      <td>4</td>\n",
       "    </tr>\n",
       "    <tr>\n",
       "      <th>HasCrCard</th>\n",
       "      <td>0.0</td>\n",
       "      <td>2</td>\n",
       "    </tr>\n",
       "    <tr>\n",
       "      <th>IsActiveMember</th>\n",
       "      <td>0.0</td>\n",
       "      <td>2</td>\n",
       "    </tr>\n",
       "    <tr>\n",
       "      <th>EstimatedSalary</th>\n",
       "      <td>0.0</td>\n",
       "      <td>1000</td>\n",
       "    </tr>\n",
       "  </tbody>\n",
       "</table>\n",
       "</div>"
      ],
      "text/plain": [
       "                 Valores Ausentes  Valores Únicos\n",
       "RowNumber                     0.0            1000\n",
       "CustomerId                    0.0            1000\n",
       "Surname                       0.0             715\n",
       "CreditScore                   0.0             353\n",
       "Geography                     0.0               3\n",
       "Gender                        0.0               2\n",
       "Age                           0.0              59\n",
       "Tenure                        0.0              11\n",
       "Balance                       0.0             622\n",
       "NumOfProducts                 0.0               4\n",
       "HasCrCard                     0.0               2\n",
       "IsActiveMember                0.0               2\n",
       "EstimatedSalary               0.0            1000"
      ]
     },
     "execution_count": 13,
     "metadata": {},
     "output_type": "execute_result"
    }
   ],
   "source": [
    "# criar um dataframe informando a quantidade de valores ausentes e de valores únicos para cada varíavel do conjunto de dados de teste\n",
    "pd.DataFrame({\"Valores Ausentes\": df_teste.isna().mean(),\n",
    "              \"Valores Únicos\": df_teste.nunique()})"
   ]
  },
  {
   "cell_type": "markdown",
   "id": "3d9252a9",
   "metadata": {},
   "source": [
    "- Não existem valores ausentes nos conjuntos de dados\n",
    "- E quanto aos valores únicos, é sempre bom verificar, especialmente para as variáveis (i) HasCrCard, IsActiveMember e Exited que precisam conter dois tipos de informação (valor): 1 ou 0 e (ii) gender: female ou male. Logo, a quantidade de valores únicos (ou seja, total unitário) precisa ser 2."
   ]
  },
  {
   "cell_type": "markdown",
   "id": "06099d4d",
   "metadata": {},
   "source": [
    "Questão 4. Existem variáveis que não trazem nenhuma informação útil para o objetivo do projeto (prever o churn \"abondono de clientes\" da instituição financeira)? "
   ]
  },
  {
   "cell_type": "markdown",
   "id": "f219994d",
   "metadata": {},
   "source": [
    "Sim! São as variáveis RowNumber, CustomerId e Surname. Portanto, retirar tais variáveis dos conjuntos de dados. Tais variáveis são apenas para ajudar no gerenciamento do banco de dados da instituição financeira."
   ]
  },
  {
   "cell_type": "code",
   "execution_count": 14,
   "id": "a08b6473",
   "metadata": {},
   "outputs": [
    {
     "name": "stdout",
     "output_type": "stream",
     "text": [
      "Número de variáveis:\t 14\n"
     ]
    }
   ],
   "source": [
    "print(\"Número de variáveis:\\t {}\".format(df_treino.shape[1]))"
   ]
  },
  {
   "cell_type": "code",
   "execution_count": 15,
   "id": "2c05032b",
   "metadata": {},
   "outputs": [],
   "source": [
    "df_treino= df_treino.drop(columns=[\"RowNumber\",\"CustomerId\",\"Surname\"])"
   ]
  },
  {
   "cell_type": "code",
   "execution_count": 16,
   "id": "b7b56932",
   "metadata": {},
   "outputs": [
    {
     "name": "stdout",
     "output_type": "stream",
     "text": [
      "Número de variáveis:\t 11\n"
     ]
    }
   ],
   "source": [
    "print(\"Número de variáveis:\\t {}\".format(df_treino.shape[1])) # verificar se as variáveis foram removidas"
   ]
  },
  {
   "cell_type": "code",
   "execution_count": 17,
   "id": "83e59283",
   "metadata": {},
   "outputs": [
    {
     "data": {
      "text/html": [
       "<div>\n",
       "<style scoped>\n",
       "    .dataframe tbody tr th:only-of-type {\n",
       "        vertical-align: middle;\n",
       "    }\n",
       "\n",
       "    .dataframe tbody tr th {\n",
       "        vertical-align: top;\n",
       "    }\n",
       "\n",
       "    .dataframe thead th {\n",
       "        text-align: right;\n",
       "    }\n",
       "</style>\n",
       "<table border=\"1\" class=\"dataframe\">\n",
       "  <thead>\n",
       "    <tr style=\"text-align: right;\">\n",
       "      <th></th>\n",
       "      <th>CreditScore</th>\n",
       "      <th>Geography</th>\n",
       "      <th>Gender</th>\n",
       "      <th>Age</th>\n",
       "      <th>Tenure</th>\n",
       "      <th>Balance</th>\n",
       "      <th>NumOfProducts</th>\n",
       "      <th>HasCrCard</th>\n",
       "      <th>IsActiveMember</th>\n",
       "      <th>EstimatedSalary</th>\n",
       "      <th>Exited</th>\n",
       "    </tr>\n",
       "  </thead>\n",
       "  <tbody>\n",
       "    <tr>\n",
       "      <th>0</th>\n",
       "      <td>619</td>\n",
       "      <td>France</td>\n",
       "      <td>Female</td>\n",
       "      <td>42</td>\n",
       "      <td>2</td>\n",
       "      <td>0.00</td>\n",
       "      <td>1</td>\n",
       "      <td>1</td>\n",
       "      <td>1</td>\n",
       "      <td>101348.88</td>\n",
       "      <td>1</td>\n",
       "    </tr>\n",
       "    <tr>\n",
       "      <th>1</th>\n",
       "      <td>608</td>\n",
       "      <td>Spain</td>\n",
       "      <td>Female</td>\n",
       "      <td>41</td>\n",
       "      <td>1</td>\n",
       "      <td>83807.86</td>\n",
       "      <td>1</td>\n",
       "      <td>0</td>\n",
       "      <td>1</td>\n",
       "      <td>112542.58</td>\n",
       "      <td>0</td>\n",
       "    </tr>\n",
       "    <tr>\n",
       "      <th>2</th>\n",
       "      <td>502</td>\n",
       "      <td>France</td>\n",
       "      <td>Female</td>\n",
       "      <td>42</td>\n",
       "      <td>8</td>\n",
       "      <td>159660.80</td>\n",
       "      <td>3</td>\n",
       "      <td>1</td>\n",
       "      <td>0</td>\n",
       "      <td>113931.57</td>\n",
       "      <td>1</td>\n",
       "    </tr>\n",
       "    <tr>\n",
       "      <th>3</th>\n",
       "      <td>699</td>\n",
       "      <td>France</td>\n",
       "      <td>Female</td>\n",
       "      <td>39</td>\n",
       "      <td>1</td>\n",
       "      <td>0.00</td>\n",
       "      <td>2</td>\n",
       "      <td>0</td>\n",
       "      <td>0</td>\n",
       "      <td>93826.63</td>\n",
       "      <td>0</td>\n",
       "    </tr>\n",
       "    <tr>\n",
       "      <th>4</th>\n",
       "      <td>850</td>\n",
       "      <td>Spain</td>\n",
       "      <td>Female</td>\n",
       "      <td>43</td>\n",
       "      <td>2</td>\n",
       "      <td>125510.82</td>\n",
       "      <td>1</td>\n",
       "      <td>1</td>\n",
       "      <td>1</td>\n",
       "      <td>79084.10</td>\n",
       "      <td>0</td>\n",
       "    </tr>\n",
       "  </tbody>\n",
       "</table>\n",
       "</div>"
      ],
      "text/plain": [
       "   CreditScore Geography  Gender  Age  Tenure    Balance  NumOfProducts  \\\n",
       "0          619    France  Female   42       2       0.00              1   \n",
       "1          608     Spain  Female   41       1   83807.86              1   \n",
       "2          502    France  Female   42       8  159660.80              3   \n",
       "3          699    France  Female   39       1       0.00              2   \n",
       "4          850     Spain  Female   43       2  125510.82              1   \n",
       "\n",
       "   HasCrCard  IsActiveMember  EstimatedSalary  Exited  \n",
       "0          1               1        101348.88       1  \n",
       "1          0               1        112542.58       0  \n",
       "2          1               0        113931.57       1  \n",
       "3          0               0         93826.63       0  \n",
       "4          1               1         79084.10       0  "
      ]
     },
     "execution_count": 17,
     "metadata": {},
     "output_type": "execute_result"
    }
   ],
   "source": [
    "df_treino.head() # conjunto de dados de treino sem as variáveis RowNumber, CustomerId e Surname"
   ]
  },
  {
   "cell_type": "code",
   "execution_count": 18,
   "id": "05331afb",
   "metadata": {},
   "outputs": [
    {
     "name": "stdout",
     "output_type": "stream",
     "text": [
      "Número de variáveis:\t 13\n"
     ]
    }
   ],
   "source": [
    "print(\"Número de variáveis:\\t {}\".format(df_teste.shape[1]))"
   ]
  },
  {
   "cell_type": "code",
   "execution_count": 19,
   "id": "441d4af7",
   "metadata": {},
   "outputs": [],
   "source": [
    "df_teste= df_teste.drop(columns=[\"RowNumber\",\"CustomerId\",\"Surname\"])"
   ]
  },
  {
   "cell_type": "code",
   "execution_count": 20,
   "id": "dc25a43f",
   "metadata": {},
   "outputs": [
    {
     "name": "stdout",
     "output_type": "stream",
     "text": [
      "Número de variáveis:\t 10\n"
     ]
    }
   ],
   "source": [
    "print(\"Número de variáveis:\\t {}\".format(df_teste.shape[1]))"
   ]
  },
  {
   "cell_type": "code",
   "execution_count": 21,
   "id": "54adf075",
   "metadata": {},
   "outputs": [
    {
     "data": {
      "text/html": [
       "<div>\n",
       "<style scoped>\n",
       "    .dataframe tbody tr th:only-of-type {\n",
       "        vertical-align: middle;\n",
       "    }\n",
       "\n",
       "    .dataframe tbody tr th {\n",
       "        vertical-align: top;\n",
       "    }\n",
       "\n",
       "    .dataframe thead th {\n",
       "        text-align: right;\n",
       "    }\n",
       "</style>\n",
       "<table border=\"1\" class=\"dataframe\">\n",
       "  <thead>\n",
       "    <tr style=\"text-align: right;\">\n",
       "      <th></th>\n",
       "      <th>CreditScore</th>\n",
       "      <th>Geography</th>\n",
       "      <th>Gender</th>\n",
       "      <th>Age</th>\n",
       "      <th>Tenure</th>\n",
       "      <th>Balance</th>\n",
       "      <th>NumOfProducts</th>\n",
       "      <th>HasCrCard</th>\n",
       "      <th>IsActiveMember</th>\n",
       "      <th>EstimatedSalary</th>\n",
       "    </tr>\n",
       "  </thead>\n",
       "  <tbody>\n",
       "    <tr>\n",
       "      <th>0</th>\n",
       "      <td>565</td>\n",
       "      <td>France</td>\n",
       "      <td>Male</td>\n",
       "      <td>31</td>\n",
       "      <td>1</td>\n",
       "      <td>0.00</td>\n",
       "      <td>1</td>\n",
       "      <td>0</td>\n",
       "      <td>1</td>\n",
       "      <td>20443.08</td>\n",
       "    </tr>\n",
       "    <tr>\n",
       "      <th>1</th>\n",
       "      <td>569</td>\n",
       "      <td>France</td>\n",
       "      <td>Male</td>\n",
       "      <td>34</td>\n",
       "      <td>4</td>\n",
       "      <td>0.00</td>\n",
       "      <td>1</td>\n",
       "      <td>0</td>\n",
       "      <td>1</td>\n",
       "      <td>4045.90</td>\n",
       "    </tr>\n",
       "    <tr>\n",
       "      <th>2</th>\n",
       "      <td>669</td>\n",
       "      <td>France</td>\n",
       "      <td>Female</td>\n",
       "      <td>20</td>\n",
       "      <td>7</td>\n",
       "      <td>0.00</td>\n",
       "      <td>2</td>\n",
       "      <td>1</td>\n",
       "      <td>0</td>\n",
       "      <td>128838.67</td>\n",
       "    </tr>\n",
       "    <tr>\n",
       "      <th>3</th>\n",
       "      <td>694</td>\n",
       "      <td>France</td>\n",
       "      <td>Male</td>\n",
       "      <td>39</td>\n",
       "      <td>4</td>\n",
       "      <td>173255.48</td>\n",
       "      <td>1</td>\n",
       "      <td>1</td>\n",
       "      <td>1</td>\n",
       "      <td>81293.10</td>\n",
       "    </tr>\n",
       "    <tr>\n",
       "      <th>4</th>\n",
       "      <td>504</td>\n",
       "      <td>Spain</td>\n",
       "      <td>Male</td>\n",
       "      <td>28</td>\n",
       "      <td>10</td>\n",
       "      <td>109291.36</td>\n",
       "      <td>1</td>\n",
       "      <td>1</td>\n",
       "      <td>1</td>\n",
       "      <td>187593.15</td>\n",
       "    </tr>\n",
       "  </tbody>\n",
       "</table>\n",
       "</div>"
      ],
      "text/plain": [
       "   CreditScore Geography  Gender  Age  Tenure    Balance  NumOfProducts  \\\n",
       "0          565    France    Male   31       1       0.00              1   \n",
       "1          569    France    Male   34       4       0.00              1   \n",
       "2          669    France  Female   20       7       0.00              2   \n",
       "3          694    France    Male   39       4  173255.48              1   \n",
       "4          504     Spain    Male   28      10  109291.36              1   \n",
       "\n",
       "   HasCrCard  IsActiveMember  EstimatedSalary  \n",
       "0          0               1         20443.08  \n",
       "1          0               1          4045.90  \n",
       "2          1               0        128838.67  \n",
       "3          1               1         81293.10  \n",
       "4          1               1        187593.15  "
      ]
     },
     "execution_count": 21,
     "metadata": {},
     "output_type": "execute_result"
    }
   ],
   "source": [
    "df_teste.head() # conjunto de dados de teste sem as variáveis RowNumber, CustomerId e Surname"
   ]
  },
  {
   "cell_type": "markdown",
   "id": "473f23c6",
   "metadata": {},
   "source": [
    "Questão 5. Existem valores duplicados?"
   ]
  },
  {
   "cell_type": "code",
   "execution_count": 22,
   "id": "0ae96061",
   "metadata": {},
   "outputs": [
    {
     "name": "stdout",
     "output_type": "stream",
     "text": [
      "Total de linhas duplicadas: 0\n"
     ]
    }
   ],
   "source": [
    "novo_df_treino = df_treino.drop_duplicates() # remover as linhas duplicadas\n",
    "duplicadas_df_treino = novo_df_treino[novo_df_treino.duplicated()] # calcular o total de linhas duplicadas\n",
    "print(f\"Total de linhas duplicadas: {len(duplicadas_df_treino)}\")"
   ]
  },
  {
   "cell_type": "code",
   "execution_count": 23,
   "id": "571c2989",
   "metadata": {},
   "outputs": [
    {
     "name": "stdout",
     "output_type": "stream",
     "text": [
      "Total de linhas duplicadas: 0\n"
     ]
    }
   ],
   "source": [
    "novo_df_teste = df_teste.drop_duplicates() # remover as linhas duplicadas\n",
    "duplicadas_df_teste = novo_df_teste[novo_df_teste.duplicated()] # calcular o total de linhas duplicadas\n",
    "print(f\"Total de linhas duplicadas: {len(duplicadas_df_teste)}\")"
   ]
  },
  {
   "cell_type": "markdown",
   "id": "1099e8e7",
   "metadata": {},
   "source": [
    "Não! Os conjuntos de dados não possuem valores duplicados."
   ]
  },
  {
   "cell_type": "markdown",
   "id": "c64f2a7f",
   "metadata": {},
   "source": [
    "Questão 6. Existem outliers (valores discrepantes)?"
   ]
  },
  {
   "cell_type": "code",
   "execution_count": 24,
   "id": "b330a105",
   "metadata": {},
   "outputs": [
    {
     "data": {
      "text/plain": [
       "<AxesSubplot:xlabel='CreditScore'>"
      ]
     },
     "execution_count": 24,
     "metadata": {},
     "output_type": "execute_result"
    },
    {
     "data": {
      "image/png": "[encoded data removed]",
      "text/plain": [
       "<Figure size 432x288 with 1 Axes>"
      ]
     },
     "metadata": {
      "needs_background": "light"
     },
     "output_type": "display_data"
    }
   ],
   "source": [
    "# Variáveis numéricas\n",
    "sns.boxplot(x=\"CreditScore\",data=df_treino)"
   ]
  },
  {
   "cell_type": "code",
   "execution_count": 25,
   "id": "ff02e6c0",
   "metadata": {},
   "outputs": [
    {
     "data": {
      "text/plain": [
       "<AxesSubplot:xlabel='Age'>"
      ]
     },
     "execution_count": 25,
     "metadata": {},
     "output_type": "execute_result"
    },
    {
     "data": {
      "image/png": "[encoded data removed]",
      "text/plain": [
       "<Figure size 432x288 with 1 Axes>"
      ]
     },
     "metadata": {
      "needs_background": "light"
     },
     "output_type": "display_data"
    }
   ],
   "source": [
    "# Variáveis numéricas\n",
    "sns.boxplot(x=\"Age\",data=df_treino)"
   ]
  },
  {
   "cell_type": "code",
   "execution_count": 26,
   "id": "3337862f",
   "metadata": {},
   "outputs": [
    {
     "data": {
      "text/plain": [
       "<AxesSubplot:xlabel='Tenure'>"
      ]
     },
     "execution_count": 26,
     "metadata": {},
     "output_type": "execute_result"
    },
    {
     "data": {
      "image/png": "[encoded data removed]",
      "text/plain": [
       "<Figure size 432x288 with 1 Axes>"
      ]
     },
     "metadata": {
      "needs_background": "light"
     },
     "output_type": "display_data"
    }
   ],
   "source": [
    "# Variáveis numéricas\n",
    "sns.boxplot(x=\"Tenure\",data=df_treino)"
   ]
  },
  {
   "cell_type": "code",
   "execution_count": 27,
   "id": "15465ce8",
   "metadata": {},
   "outputs": [
    {
     "data": {
      "text/plain": [
       "<AxesSubplot:xlabel='Balance'>"
      ]
     },
     "execution_count": 27,
     "metadata": {},
     "output_type": "execute_result"
    },
    {
     "data": {
      "image/png": "[encoded data removed]",
      "text/plain": [
       "<Figure size 432x288 with 1 Axes>"
      ]
     },
     "metadata": {
      "needs_background": "light"
     },
     "output_type": "display_data"
    }
   ],
   "source": [
    "# Variáveis numéricas\n",
    "sns.boxplot(x=\"Balance\",data=df_treino)"
   ]
  },
  {
   "cell_type": "code",
   "execution_count": 28,
   "id": "ae3f22df",
   "metadata": {},
   "outputs": [
    {
     "data": {
      "text/plain": [
       "<AxesSubplot:xlabel='NumOfProducts'>"
      ]
     },
     "execution_count": 28,
     "metadata": {},
     "output_type": "execute_result"
    },
    {
     "data": {
      "image/png": "[encoded data removed]",
      "text/plain": [
       "<Figure size 432x288 with 1 Axes>"
      ]
     },
     "metadata": {
      "needs_background": "light"
     },
     "output_type": "display_data"
    }
   ],
   "source": [
    "# Variáveis numéricas\n",
    "sns.boxplot(x=\"NumOfProducts\",data=df_treino)"
   ]
  },
  {
   "cell_type": "code",
   "execution_count": 29,
   "id": "5f196a81",
   "metadata": {},
   "outputs": [
    {
     "data": {
      "text/plain": [
       "<AxesSubplot:xlabel='EstimatedSalary'>"
      ]
     },
     "execution_count": 29,
     "metadata": {},
     "output_type": "execute_result"
    },
    {
     "data": {
      "image/png": "[encoded data removed]",
      "text/plain": [
       "<Figure size 432x288 with 1 Axes>"
      ]
     },
     "metadata": {
      "needs_background": "light"
     },
     "output_type": "display_data"
    }
   ],
   "source": [
    "# Variáveis numéricas\n",
    "sns.boxplot(x=\"EstimatedSalary\",data=df_treino)"
   ]
  },
  {
   "cell_type": "markdown",
   "id": "689de479",
   "metadata": {},
   "source": [
    "Observação geral sobre a presença de outliers: \n",
    "- EstimatedSalary, Balance, Tenure não possuem outliers;\n",
    "- NumOfProducts, Age e CreditScore possuem outliers. \n",
    "\n",
    "\n",
    "Outliers podem causar ruídos na análise de dados, ou seja, viesar a(s) análise(s) subsequentes. Então, o que fazer com os outliers?\n",
    "\n",
    "Listo algumas estratégias:\n",
    "- entrar em contato com a equipe responsável pela coleta dos dados para verificar se tais outliers possam ser devido algum erro durante o processo de coleta dos dados. Caso afirmativo, os outliers seriam arrumados;\n",
    "\n",
    "- remover os outliers. Isso implica perder linha(s) inteira(s) do conjunto de dados. No presente projeto seria perder clientes. Temos uma grande quantidade de observações (n = 10000), porém, a variável alvo (Exited) está desbalanceada (conforme mostrado na etapa posterior), assim, existe o risco de aumentar ainda mais esse desbalanceamento. Portanto, seria preciso avaliar o impacto da remoção dos outliers\n",
    "\n",
    "- substituir os valores dos outliers por um valor de uma medida de estatística descritiva (por exemplo, média ou moda). Ou também alterar o valor do(s) outlier(s) usando os valores da barra superior e inferior, ou seja, outlier(s) acima da barra superior receberiam o valor da barra superior e outlier(s) abaixo da barra inferior receberiam o valor da barra inferior   \n",
    "\n",
    "- Neste presente projeto, inicialmente, vou continuar com os outliers. Partindo da seguinte premissa: \"objetivo é buscar padrões e/ou fazer previsões aos quais não se tem nenhuma informação a priori\". Porém, se os modelos apresentarem performances ruins, retorno nesta questão "
   ]
  },
  {
   "cell_type": "markdown",
   "id": "da9d6cae",
   "metadata": {},
   "source": [
    "2.3. Estatísticas das variáveis"
   ]
  },
  {
   "cell_type": "markdown",
   "id": "9519f438",
   "metadata": {},
   "source": [
    "2.3.1. Variável alvo (também conhecida como target, y ou resposta) no conjunto de dados de treino. Exited é a variável alvo e possui dois valores: \n",
    "- \"1\" cliente abandonou a instituição financeira, ou seja, ocorreu churn\n",
    "- \"0\" cliente não abandonou a instituição financeira"
   ]
  },
  {
   "cell_type": "markdown",
   "id": "752dc250",
   "metadata": {},
   "source": [
    "2.3.1.1. Estatística descritiva da variável alvo"
   ]
  },
  {
   "cell_type": "code",
   "execution_count": 30,
   "id": "1d3973c4",
   "metadata": {},
   "outputs": [],
   "source": [
    "y=df_treino[\"Exited\"]"
   ]
  },
  {
   "cell_type": "markdown",
   "id": "271d6ee5",
   "metadata": {},
   "source": [
    "Questão 7. Como se comporta a variável alvo? "
   ]
  },
  {
   "cell_type": "code",
   "execution_count": 31,
   "id": "149bf744",
   "metadata": {},
   "outputs": [
    {
     "name": "stdout",
     "output_type": "stream",
     "text": [
      "Quantidade de clientes que abandonaram a instituição financeira: 2037\n"
     ]
    }
   ],
   "source": [
    "# Quantidade de clientes que abandonaram a instituição financeira\n",
    "y_1=sum(y==1)\n",
    "print(\"Quantidade de clientes que abandonaram a instituição financeira: {}\".format(y_1))"
   ]
  },
  {
   "cell_type": "code",
   "execution_count": 32,
   "id": "b2008eeb",
   "metadata": {},
   "outputs": [
    {
     "name": "stdout",
     "output_type": "stream",
     "text": [
      "Quantidade de clientes que não abandonaram a instituição financeira: 7963\n"
     ]
    }
   ],
   "source": [
    "# Quantidade de clientes que não abandonaram a instituição financeira\n",
    "y_0=sum(y==0)\n",
    "print(\"Quantidade de clientes que não abandonaram a instituição financeira: {}\".format(y_0))"
   ]
  },
  {
   "cell_type": "code",
   "execution_count": 33,
   "id": "1d2d1cfc",
   "metadata": {},
   "outputs": [
    {
     "name": "stdout",
     "output_type": "stream",
     "text": [
      "Porcentagem de clientes que abandonaram a instituição financeira: 20.37\n",
      "Porcentagem de clientes que não abandonaram a instituição financeira: 79.63\n"
     ]
    }
   ],
   "source": [
    "# Proporção de clientes que abandonaram a instituição financeira\n",
    "prop_y_1=sum(y==1)*100/y.shape[0]\n",
    "print(\"Porcentagem de clientes que abandonaram a instituição financeira: {}\".format(prop_y_1))\n",
    "\n",
    "# Proporção de clientes que não abandonaram a instituição financeira\n",
    "prop_y_0=sum(y==0)*100/y.shape[0]\n",
    "print(\"Porcentagem de clientes que não abandonaram a instituição financeira: {}\".format(prop_y_0))"
   ]
  },
  {
   "cell_type": "code",
   "execution_count": 34,
   "id": "ea15686b",
   "metadata": {},
   "outputs": [
    {
     "data": {
      "text/html": [
       "<div>\n",
       "<style scoped>\n",
       "    .dataframe tbody tr th:only-of-type {\n",
       "        vertical-align: middle;\n",
       "    }\n",
       "\n",
       "    .dataframe tbody tr th {\n",
       "        vertical-align: top;\n",
       "    }\n",
       "\n",
       "    .dataframe thead th {\n",
       "        text-align: right;\n",
       "    }\n",
       "</style>\n",
       "<table border=\"1\" class=\"dataframe\">\n",
       "  <thead>\n",
       "    <tr style=\"text-align: right;\">\n",
       "      <th></th>\n",
       "      <th>Abandono (Churn)</th>\n",
       "      <th>Quantidade de Clientes (N)</th>\n",
       "      <th>Porcentagem de Clientes (%)</th>\n",
       "    </tr>\n",
       "  </thead>\n",
       "  <tbody>\n",
       "    <tr>\n",
       "      <th>0</th>\n",
       "      <td>Não</td>\n",
       "      <td>7963</td>\n",
       "      <td>79.63</td>\n",
       "    </tr>\n",
       "    <tr>\n",
       "      <th>1</th>\n",
       "      <td>Sim</td>\n",
       "      <td>2037</td>\n",
       "      <td>20.37</td>\n",
       "    </tr>\n",
       "  </tbody>\n",
       "</table>\n",
       "</div>"
      ],
      "text/plain": [
       "  Abandono (Churn)  Quantidade de Clientes (N)  Porcentagem de Clientes (%)\n",
       "0              Não                        7963                        79.63\n",
       "1              Sim                        2037                        20.37"
      ]
     },
     "metadata": {},
     "output_type": "display_data"
    }
   ],
   "source": [
    "# Criar um dataframe com os dados acima\n",
    "y_df=pd.DataFrame([[\"Não\",7963,79.63],[\"Sim\",2037,20.37]],index=range(0,2),columns=[\"Abandono (Churn)\",\"Quantidade de Clientes (N)\", \"Porcentagem de Clientes (%)\"])\n",
    "display(y_df)"
   ]
  },
  {
   "cell_type": "code",
   "execution_count": 35,
   "id": "a6cf1e9b",
   "metadata": {},
   "outputs": [
    {
     "data": {
      "image/png": "[encoded data removed]",
      "text/plain": [
       "<Figure size 432x288 with 1 Axes>"
      ]
     },
     "metadata": {
      "needs_background": "light"
     },
     "output_type": "display_data"
    }
   ],
   "source": [
    "# Mostrar os dados da variável alvo em um gráfico de barras (Quantidade de clientes) \n",
    "sns.set_color_codes(\"dark\")\n",
    "g = sns.barplot(x=\"Quantidade de Clientes (N)\", y=\"Abandono (Churn)\",data=y_df, color=\"green\")\n",
    "g.axes.set_title(\"Churn\", fontsize=16,color=\"black\",alpha=3)\n",
    "g.set_xlabel(\"Quantidade de Clientes\", size = 14,color=\"black\")\n",
    "g.set_ylabel(\"\")\n",
    "sns.despine(left=True, bottom=True)\n",
    "plt.show()"
   ]
  },
  {
   "cell_type": "code",
   "execution_count": 36,
   "id": "a32bd505",
   "metadata": {},
   "outputs": [
    {
     "data": {
      "image/png": "[encoded data removed]",
      "text/plain": [
       "<Figure size 432x288 with 1 Axes>"
      ]
     },
     "metadata": {
      "needs_background": "light"
     },
     "output_type": "display_data"
    }
   ],
   "source": [
    "# Mostrar os dados da variável alvo em um gráfico de barras (Quantidade de clientes) \n",
    "sns.set_color_codes(\"dark\")\n",
    "g = sns.barplot(x=\"Porcentagem de Clientes (%)\", y=\"Abandono (Churn)\",data=y_df, color=\"green\")\n",
    "g.axes.set_title(\"Churn\", fontsize=16,color=\"black\",alpha=3)\n",
    "g.set_xlabel(\"Porcentagem de Clientes\", size = 14,color=\"black\")\n",
    "g.set_ylabel(\"\")\n",
    "plt.text(81,0.1,\"79.63%\",fontsize=14)\n",
    "plt.text(21,0.99,\"20.37%\",fontsize=14)         \n",
    "sns.despine(left=True, bottom=True)\n",
    "plt.show()"
   ]
  },
  {
   "cell_type": "markdown",
   "id": "87532442",
   "metadata": {},
   "source": [
    "Através das informações acima podemos verificar que a maioria dos clientes não abandonaram a instituição financeira. Simplesmente, em cada dez clientes, dois abandonaram a instituição financeira. Além disso, está evidente que o conjunto de dados de treino está desbalanceado. "
   ]
  },
  {
   "cell_type": "markdown",
   "id": "88730c35",
   "metadata": {},
   "source": [
    "Consequências de dados desbalanceados na construção de um modelo de aprendizado de máquina (machine learning):\n",
    "\n",
    "O modelo terá uma tendência a dar muitos \"alarmes falsos\". Ou seja, na prática o modelo irá responder muito para a classe majoritária (sem abandono = não churn), mas terá um desempenho inferior para a classe minoritária (com abandono = churn). Logo, esse fato merece atenção na hora do pré-processamento dos dados."
   ]
  },
  {
   "cell_type": "markdown",
   "id": "70a45859",
   "metadata": {},
   "source": [
    "Questão 8. Quem são as outras variáveis?"
   ]
  },
  {
   "cell_type": "markdown",
   "id": "19df3ccc",
   "metadata": {},
   "source": [
    "São as variáveis explicativas (também conhecidas como preditoras, X ou explanatórias) dos conjuntos de dados. São as variáveis: CredtiScore, Geography, Gender, Age, Tenure, Balance, NumberOfProducts, HasCrCard, IsActiveMember, EstimatedSalary. Total: 10 variáveis"
   ]
  },
  {
   "cell_type": "markdown",
   "id": "83077423",
   "metadata": {},
   "source": [
    "2.3.2. Variáveis X "
   ]
  },
  {
   "cell_type": "code",
   "execution_count": 37,
   "id": "a4b71fc3",
   "metadata": {},
   "outputs": [],
   "source": [
    "X_treino=df_treino.drop(columns=[\"Exited\"])"
   ]
  },
  {
   "cell_type": "code",
   "execution_count": 38,
   "id": "be1702ba",
   "metadata": {},
   "outputs": [
    {
     "data": {
      "text/html": [
       "<div>\n",
       "<style scoped>\n",
       "    .dataframe tbody tr th:only-of-type {\n",
       "        vertical-align: middle;\n",
       "    }\n",
       "\n",
       "    .dataframe tbody tr th {\n",
       "        vertical-align: top;\n",
       "    }\n",
       "\n",
       "    .dataframe thead th {\n",
       "        text-align: right;\n",
       "    }\n",
       "</style>\n",
       "<table border=\"1\" class=\"dataframe\">\n",
       "  <thead>\n",
       "    <tr style=\"text-align: right;\">\n",
       "      <th></th>\n",
       "      <th>CreditScore</th>\n",
       "      <th>Geography</th>\n",
       "      <th>Gender</th>\n",
       "      <th>Age</th>\n",
       "      <th>Tenure</th>\n",
       "      <th>Balance</th>\n",
       "      <th>NumOfProducts</th>\n",
       "      <th>HasCrCard</th>\n",
       "      <th>IsActiveMember</th>\n",
       "      <th>EstimatedSalary</th>\n",
       "    </tr>\n",
       "  </thead>\n",
       "  <tbody>\n",
       "    <tr>\n",
       "      <th>0</th>\n",
       "      <td>619</td>\n",
       "      <td>France</td>\n",
       "      <td>Female</td>\n",
       "      <td>42</td>\n",
       "      <td>2</td>\n",
       "      <td>0.00</td>\n",
       "      <td>1</td>\n",
       "      <td>1</td>\n",
       "      <td>1</td>\n",
       "      <td>101348.88</td>\n",
       "    </tr>\n",
       "    <tr>\n",
       "      <th>1</th>\n",
       "      <td>608</td>\n",
       "      <td>Spain</td>\n",
       "      <td>Female</td>\n",
       "      <td>41</td>\n",
       "      <td>1</td>\n",
       "      <td>83807.86</td>\n",
       "      <td>1</td>\n",
       "      <td>0</td>\n",
       "      <td>1</td>\n",
       "      <td>112542.58</td>\n",
       "    </tr>\n",
       "    <tr>\n",
       "      <th>2</th>\n",
       "      <td>502</td>\n",
       "      <td>France</td>\n",
       "      <td>Female</td>\n",
       "      <td>42</td>\n",
       "      <td>8</td>\n",
       "      <td>159660.80</td>\n",
       "      <td>3</td>\n",
       "      <td>1</td>\n",
       "      <td>0</td>\n",
       "      <td>113931.57</td>\n",
       "    </tr>\n",
       "    <tr>\n",
       "      <th>3</th>\n",
       "      <td>699</td>\n",
       "      <td>France</td>\n",
       "      <td>Female</td>\n",
       "      <td>39</td>\n",
       "      <td>1</td>\n",
       "      <td>0.00</td>\n",
       "      <td>2</td>\n",
       "      <td>0</td>\n",
       "      <td>0</td>\n",
       "      <td>93826.63</td>\n",
       "    </tr>\n",
       "    <tr>\n",
       "      <th>4</th>\n",
       "      <td>850</td>\n",
       "      <td>Spain</td>\n",
       "      <td>Female</td>\n",
       "      <td>43</td>\n",
       "      <td>2</td>\n",
       "      <td>125510.82</td>\n",
       "      <td>1</td>\n",
       "      <td>1</td>\n",
       "      <td>1</td>\n",
       "      <td>79084.10</td>\n",
       "    </tr>\n",
       "  </tbody>\n",
       "</table>\n",
       "</div>"
      ],
      "text/plain": [
       "   CreditScore Geography  Gender  Age  Tenure    Balance  NumOfProducts  \\\n",
       "0          619    France  Female   42       2       0.00              1   \n",
       "1          608     Spain  Female   41       1   83807.86              1   \n",
       "2          502    France  Female   42       8  159660.80              3   \n",
       "3          699    France  Female   39       1       0.00              2   \n",
       "4          850     Spain  Female   43       2  125510.82              1   \n",
       "\n",
       "   HasCrCard  IsActiveMember  EstimatedSalary  \n",
       "0          1               1        101348.88  \n",
       "1          0               1        112542.58  \n",
       "2          1               0        113931.57  \n",
       "3          0               0         93826.63  \n",
       "4          1               1         79084.10  "
      ]
     },
     "execution_count": 38,
     "metadata": {},
     "output_type": "execute_result"
    }
   ],
   "source": [
    "X_treino.head()"
   ]
  },
  {
   "cell_type": "markdown",
   "id": "4037f20c",
   "metadata": {},
   "source": [
    "Questão 9. Qual o comportamento geral das variáveis X?   "
   ]
  },
  {
   "cell_type": "markdown",
   "id": "6853a215",
   "metadata": {},
   "source": [
    "2.3.2.1. Análise univariada das variáveis X que são numéricas"
   ]
  },
  {
   "cell_type": "code",
   "execution_count": 39,
   "id": "1eb41dfc",
   "metadata": {},
   "outputs": [],
   "source": [
    "X_numericas=X_treino.select_dtypes(exclude=[\"object\"])"
   ]
  },
  {
   "cell_type": "code",
   "execution_count": 40,
   "id": "a4984a98",
   "metadata": {},
   "outputs": [
    {
     "data": {
      "text/html": [
       "<div>\n",
       "<style scoped>\n",
       "    .dataframe tbody tr th:only-of-type {\n",
       "        vertical-align: middle;\n",
       "    }\n",
       "\n",
       "    .dataframe tbody tr th {\n",
       "        vertical-align: top;\n",
       "    }\n",
       "\n",
       "    .dataframe thead th {\n",
       "        text-align: right;\n",
       "    }\n",
       "</style>\n",
       "<table border=\"1\" class=\"dataframe\">\n",
       "  <thead>\n",
       "    <tr style=\"text-align: right;\">\n",
       "      <th></th>\n",
       "      <th>CreditScore</th>\n",
       "      <th>Age</th>\n",
       "      <th>Tenure</th>\n",
       "      <th>Balance</th>\n",
       "      <th>NumOfProducts</th>\n",
       "      <th>HasCrCard</th>\n",
       "      <th>IsActiveMember</th>\n",
       "      <th>EstimatedSalary</th>\n",
       "    </tr>\n",
       "  </thead>\n",
       "  <tbody>\n",
       "    <tr>\n",
       "      <th>0</th>\n",
       "      <td>619</td>\n",
       "      <td>42</td>\n",
       "      <td>2</td>\n",
       "      <td>0.00</td>\n",
       "      <td>1</td>\n",
       "      <td>1</td>\n",
       "      <td>1</td>\n",
       "      <td>101348.88</td>\n",
       "    </tr>\n",
       "    <tr>\n",
       "      <th>1</th>\n",
       "      <td>608</td>\n",
       "      <td>41</td>\n",
       "      <td>1</td>\n",
       "      <td>83807.86</td>\n",
       "      <td>1</td>\n",
       "      <td>0</td>\n",
       "      <td>1</td>\n",
       "      <td>112542.58</td>\n",
       "    </tr>\n",
       "    <tr>\n",
       "      <th>2</th>\n",
       "      <td>502</td>\n",
       "      <td>42</td>\n",
       "      <td>8</td>\n",
       "      <td>159660.80</td>\n",
       "      <td>3</td>\n",
       "      <td>1</td>\n",
       "      <td>0</td>\n",
       "      <td>113931.57</td>\n",
       "    </tr>\n",
       "    <tr>\n",
       "      <th>3</th>\n",
       "      <td>699</td>\n",
       "      <td>39</td>\n",
       "      <td>1</td>\n",
       "      <td>0.00</td>\n",
       "      <td>2</td>\n",
       "      <td>0</td>\n",
       "      <td>0</td>\n",
       "      <td>93826.63</td>\n",
       "    </tr>\n",
       "    <tr>\n",
       "      <th>4</th>\n",
       "      <td>850</td>\n",
       "      <td>43</td>\n",
       "      <td>2</td>\n",
       "      <td>125510.82</td>\n",
       "      <td>1</td>\n",
       "      <td>1</td>\n",
       "      <td>1</td>\n",
       "      <td>79084.10</td>\n",
       "    </tr>\n",
       "  </tbody>\n",
       "</table>\n",
       "</div>"
      ],
      "text/plain": [
       "   CreditScore  Age  Tenure    Balance  NumOfProducts  HasCrCard  \\\n",
       "0          619   42       2       0.00              1          1   \n",
       "1          608   41       1   83807.86              1          0   \n",
       "2          502   42       8  159660.80              3          1   \n",
       "3          699   39       1       0.00              2          0   \n",
       "4          850   43       2  125510.82              1          1   \n",
       "\n",
       "   IsActiveMember  EstimatedSalary  \n",
       "0               1        101348.88  \n",
       "1               1        112542.58  \n",
       "2               0        113931.57  \n",
       "3               0         93826.63  \n",
       "4               1         79084.10  "
      ]
     },
     "execution_count": 40,
     "metadata": {},
     "output_type": "execute_result"
    }
   ],
   "source": [
    "X_numericas.head()"
   ]
  },
  {
   "cell_type": "code",
   "execution_count": 41,
   "id": "6b194a49",
   "metadata": {},
   "outputs": [
    {
     "data": {
      "text/html": [
       "<div>\n",
       "<style scoped>\n",
       "    .dataframe tbody tr th:only-of-type {\n",
       "        vertical-align: middle;\n",
       "    }\n",
       "\n",
       "    .dataframe tbody tr th {\n",
       "        vertical-align: top;\n",
       "    }\n",
       "\n",
       "    .dataframe thead th {\n",
       "        text-align: right;\n",
       "    }\n",
       "</style>\n",
       "<table border=\"1\" class=\"dataframe\">\n",
       "  <thead>\n",
       "    <tr style=\"text-align: right;\">\n",
       "      <th></th>\n",
       "      <th>CreditScore</th>\n",
       "      <th>Age</th>\n",
       "      <th>Tenure</th>\n",
       "      <th>Balance</th>\n",
       "      <th>NumOfProducts</th>\n",
       "      <th>HasCrCard</th>\n",
       "      <th>IsActiveMember</th>\n",
       "      <th>EstimatedSalary</th>\n",
       "    </tr>\n",
       "  </thead>\n",
       "  <tbody>\n",
       "    <tr>\n",
       "      <th>count</th>\n",
       "      <td>10000.000000</td>\n",
       "      <td>10000.000000</td>\n",
       "      <td>10000.000000</td>\n",
       "      <td>10000.000000</td>\n",
       "      <td>10000.000000</td>\n",
       "      <td>10000.00000</td>\n",
       "      <td>10000.000000</td>\n",
       "      <td>10000.000000</td>\n",
       "    </tr>\n",
       "    <tr>\n",
       "      <th>mean</th>\n",
       "      <td>650.528800</td>\n",
       "      <td>38.921800</td>\n",
       "      <td>5.012800</td>\n",
       "      <td>76485.889288</td>\n",
       "      <td>1.530200</td>\n",
       "      <td>0.70550</td>\n",
       "      <td>0.515100</td>\n",
       "      <td>100090.239881</td>\n",
       "    </tr>\n",
       "    <tr>\n",
       "      <th>std</th>\n",
       "      <td>96.653299</td>\n",
       "      <td>10.487806</td>\n",
       "      <td>2.892174</td>\n",
       "      <td>62397.405202</td>\n",
       "      <td>0.581654</td>\n",
       "      <td>0.45584</td>\n",
       "      <td>0.499797</td>\n",
       "      <td>57510.492818</td>\n",
       "    </tr>\n",
       "    <tr>\n",
       "      <th>min</th>\n",
       "      <td>350.000000</td>\n",
       "      <td>18.000000</td>\n",
       "      <td>0.000000</td>\n",
       "      <td>0.000000</td>\n",
       "      <td>1.000000</td>\n",
       "      <td>0.00000</td>\n",
       "      <td>0.000000</td>\n",
       "      <td>11.580000</td>\n",
       "    </tr>\n",
       "    <tr>\n",
       "      <th>25%</th>\n",
       "      <td>584.000000</td>\n",
       "      <td>32.000000</td>\n",
       "      <td>3.000000</td>\n",
       "      <td>0.000000</td>\n",
       "      <td>1.000000</td>\n",
       "      <td>0.00000</td>\n",
       "      <td>0.000000</td>\n",
       "      <td>51002.110000</td>\n",
       "    </tr>\n",
       "    <tr>\n",
       "      <th>50%</th>\n",
       "      <td>652.000000</td>\n",
       "      <td>37.000000</td>\n",
       "      <td>5.000000</td>\n",
       "      <td>97198.540000</td>\n",
       "      <td>1.000000</td>\n",
       "      <td>1.00000</td>\n",
       "      <td>1.000000</td>\n",
       "      <td>100193.915000</td>\n",
       "    </tr>\n",
       "    <tr>\n",
       "      <th>75%</th>\n",
       "      <td>718.000000</td>\n",
       "      <td>44.000000</td>\n",
       "      <td>7.000000</td>\n",
       "      <td>127644.240000</td>\n",
       "      <td>2.000000</td>\n",
       "      <td>1.00000</td>\n",
       "      <td>1.000000</td>\n",
       "      <td>149388.247500</td>\n",
       "    </tr>\n",
       "    <tr>\n",
       "      <th>max</th>\n",
       "      <td>850.000000</td>\n",
       "      <td>92.000000</td>\n",
       "      <td>10.000000</td>\n",
       "      <td>250898.090000</td>\n",
       "      <td>4.000000</td>\n",
       "      <td>1.00000</td>\n",
       "      <td>1.000000</td>\n",
       "      <td>199992.480000</td>\n",
       "    </tr>\n",
       "  </tbody>\n",
       "</table>\n",
       "</div>"
      ],
      "text/plain": [
       "        CreditScore           Age        Tenure        Balance  NumOfProducts  \\\n",
       "count  10000.000000  10000.000000  10000.000000   10000.000000   10000.000000   \n",
       "mean     650.528800     38.921800      5.012800   76485.889288       1.530200   \n",
       "std       96.653299     10.487806      2.892174   62397.405202       0.581654   \n",
       "min      350.000000     18.000000      0.000000       0.000000       1.000000   \n",
       "25%      584.000000     32.000000      3.000000       0.000000       1.000000   \n",
       "50%      652.000000     37.000000      5.000000   97198.540000       1.000000   \n",
       "75%      718.000000     44.000000      7.000000  127644.240000       2.000000   \n",
       "max      850.000000     92.000000     10.000000  250898.090000       4.000000   \n",
       "\n",
       "         HasCrCard  IsActiveMember  EstimatedSalary  \n",
       "count  10000.00000    10000.000000     10000.000000  \n",
       "mean       0.70550        0.515100    100090.239881  \n",
       "std        0.45584        0.499797     57510.492818  \n",
       "min        0.00000        0.000000        11.580000  \n",
       "25%        0.00000        0.000000     51002.110000  \n",
       "50%        1.00000        1.000000    100193.915000  \n",
       "75%        1.00000        1.000000    149388.247500  \n",
       "max        1.00000        1.000000    199992.480000  "
      ]
     },
     "execution_count": 41,
     "metadata": {},
     "output_type": "execute_result"
    }
   ],
   "source": [
    "X_numericas.describe()"
   ]
  },
  {
   "cell_type": "markdown",
   "id": "ebce8af2",
   "metadata": {},
   "source": [
    "- Acima constam o número de observações (count), média (mean), desvio padrão (std), valor máximo (max) e minimo (min) e os quartis (25%, 50% e 75%) para cada uma das variáveis X numéricas\n",
    "- As variáveis possuem escalas de grandezas distintas. Esse fato merece atenção na hora da etapa de pré-processamento"
   ]
  },
  {
   "cell_type": "markdown",
   "id": "65c70f59",
   "metadata": {},
   "source": [
    "2.3.2.2. Análise univariada das variáveis X que são categóricas"
   ]
  },
  {
   "cell_type": "code",
   "execution_count": 42,
   "id": "f0267ed3",
   "metadata": {},
   "outputs": [],
   "source": [
    "X_categoricas=X_treino.select_dtypes(include=[\"object\"])"
   ]
  },
  {
   "cell_type": "code",
   "execution_count": 43,
   "id": "d5cea869",
   "metadata": {},
   "outputs": [
    {
     "data": {
      "text/html": [
       "<div>\n",
       "<style scoped>\n",
       "    .dataframe tbody tr th:only-of-type {\n",
       "        vertical-align: middle;\n",
       "    }\n",
       "\n",
       "    .dataframe tbody tr th {\n",
       "        vertical-align: top;\n",
       "    }\n",
       "\n",
       "    .dataframe thead th {\n",
       "        text-align: right;\n",
       "    }\n",
       "</style>\n",
       "<table border=\"1\" class=\"dataframe\">\n",
       "  <thead>\n",
       "    <tr style=\"text-align: right;\">\n",
       "      <th></th>\n",
       "      <th>Geography</th>\n",
       "      <th>Gender</th>\n",
       "    </tr>\n",
       "  </thead>\n",
       "  <tbody>\n",
       "    <tr>\n",
       "      <th>0</th>\n",
       "      <td>France</td>\n",
       "      <td>Female</td>\n",
       "    </tr>\n",
       "    <tr>\n",
       "      <th>1</th>\n",
       "      <td>Spain</td>\n",
       "      <td>Female</td>\n",
       "    </tr>\n",
       "    <tr>\n",
       "      <th>2</th>\n",
       "      <td>France</td>\n",
       "      <td>Female</td>\n",
       "    </tr>\n",
       "    <tr>\n",
       "      <th>3</th>\n",
       "      <td>France</td>\n",
       "      <td>Female</td>\n",
       "    </tr>\n",
       "    <tr>\n",
       "      <th>4</th>\n",
       "      <td>Spain</td>\n",
       "      <td>Female</td>\n",
       "    </tr>\n",
       "  </tbody>\n",
       "</table>\n",
       "</div>"
      ],
      "text/plain": [
       "  Geography  Gender\n",
       "0    France  Female\n",
       "1     Spain  Female\n",
       "2    France  Female\n",
       "3    France  Female\n",
       "4     Spain  Female"
      ]
     },
     "execution_count": 43,
     "metadata": {},
     "output_type": "execute_result"
    }
   ],
   "source": [
    "X_categoricas.head()"
   ]
  },
  {
   "cell_type": "code",
   "execution_count": 44,
   "id": "177416c8",
   "metadata": {},
   "outputs": [
    {
     "data": {
      "text/html": [
       "<div>\n",
       "<style scoped>\n",
       "    .dataframe tbody tr th:only-of-type {\n",
       "        vertical-align: middle;\n",
       "    }\n",
       "\n",
       "    .dataframe tbody tr th {\n",
       "        vertical-align: top;\n",
       "    }\n",
       "\n",
       "    .dataframe thead th {\n",
       "        text-align: right;\n",
       "    }\n",
       "</style>\n",
       "<table border=\"1\" class=\"dataframe\">\n",
       "  <thead>\n",
       "    <tr style=\"text-align: right;\">\n",
       "      <th></th>\n",
       "      <th>Geography</th>\n",
       "      <th>Gender</th>\n",
       "    </tr>\n",
       "  </thead>\n",
       "  <tbody>\n",
       "    <tr>\n",
       "      <th>count</th>\n",
       "      <td>10000</td>\n",
       "      <td>10000</td>\n",
       "    </tr>\n",
       "    <tr>\n",
       "      <th>unique</th>\n",
       "      <td>3</td>\n",
       "      <td>2</td>\n",
       "    </tr>\n",
       "    <tr>\n",
       "      <th>top</th>\n",
       "      <td>France</td>\n",
       "      <td>Male</td>\n",
       "    </tr>\n",
       "    <tr>\n",
       "      <th>freq</th>\n",
       "      <td>5014</td>\n",
       "      <td>5457</td>\n",
       "    </tr>\n",
       "  </tbody>\n",
       "</table>\n",
       "</div>"
      ],
      "text/plain": [
       "       Geography Gender\n",
       "count      10000  10000\n",
       "unique         3      2\n",
       "top       France   Male\n",
       "freq        5014   5457"
      ]
     },
     "execution_count": 44,
     "metadata": {},
     "output_type": "execute_result"
    }
   ],
   "source": [
    "X_categoricas.describe(include=object)"
   ]
  },
  {
   "cell_type": "code",
   "execution_count": 45,
   "id": "564ce89e",
   "metadata": {},
   "outputs": [
    {
     "name": "stderr",
     "output_type": "stream",
     "text": [
      "C:\\Users\\Fabi Borges\\anaconda3\\lib\\site-packages\\seaborn\\_decorators.py:36: FutureWarning: Pass the following variable as a keyword arg: x. From version 0.12, the only valid positional argument will be `data`, and passing other arguments without an explicit keyword will result in an error or misinterpretation.\n",
      "  warnings.warn(\n",
      "C:\\Users\\Fabi Borges\\anaconda3\\lib\\site-packages\\seaborn\\_decorators.py:36: FutureWarning: Pass the following variable as a keyword arg: x. From version 0.12, the only valid positional argument will be `data`, and passing other arguments without an explicit keyword will result in an error or misinterpretation.\n",
      "  warnings.warn(\n",
      "C:\\Users\\Fabi Borges\\anaconda3\\lib\\site-packages\\seaborn\\_decorators.py:36: FutureWarning: Pass the following variable as a keyword arg: x. From version 0.12, the only valid positional argument will be `data`, and passing other arguments without an explicit keyword will result in an error or misinterpretation.\n",
      "  warnings.warn(\n",
      "C:\\Users\\Fabi Borges\\anaconda3\\lib\\site-packages\\seaborn\\_decorators.py:36: FutureWarning: Pass the following variable as a keyword arg: x. From version 0.12, the only valid positional argument will be `data`, and passing other arguments without an explicit keyword will result in an error or misinterpretation.\n",
      "  warnings.warn(\n",
      "C:\\Users\\Fabi Borges\\anaconda3\\lib\\site-packages\\seaborn\\_decorators.py:36: FutureWarning: Pass the following variable as a keyword arg: x. From version 0.12, the only valid positional argument will be `data`, and passing other arguments without an explicit keyword will result in an error or misinterpretation.\n",
      "  warnings.warn(\n",
      "C:\\Users\\Fabi Borges\\anaconda3\\lib\\site-packages\\seaborn\\_decorators.py:36: FutureWarning: Pass the following variable as a keyword arg: x. From version 0.12, the only valid positional argument will be `data`, and passing other arguments without an explicit keyword will result in an error or misinterpretation.\n",
      "  warnings.warn(\n",
      "C:\\Users\\Fabi Borges\\anaconda3\\lib\\site-packages\\seaborn\\_decorators.py:36: FutureWarning: Pass the following variable as a keyword arg: x. From version 0.12, the only valid positional argument will be `data`, and passing other arguments without an explicit keyword will result in an error or misinterpretation.\n",
      "  warnings.warn(\n",
      "C:\\Users\\Fabi Borges\\anaconda3\\lib\\site-packages\\seaborn\\_decorators.py:36: FutureWarning: Pass the following variable as a keyword arg: x. From version 0.12, the only valid positional argument will be `data`, and passing other arguments without an explicit keyword will result in an error or misinterpretation.\n",
      "  warnings.warn(\n",
      "C:\\Users\\Fabi Borges\\anaconda3\\lib\\site-packages\\seaborn\\_decorators.py:36: FutureWarning: Pass the following variable as a keyword arg: x. From version 0.12, the only valid positional argument will be `data`, and passing other arguments without an explicit keyword will result in an error or misinterpretation.\n",
      "  warnings.warn(\n",
      "C:\\Users\\Fabi Borges\\anaconda3\\lib\\site-packages\\seaborn\\_decorators.py:36: FutureWarning: Pass the following variable as a keyword arg: x. From version 0.12, the only valid positional argument will be `data`, and passing other arguments without an explicit keyword will result in an error or misinterpretation.\n",
      "  warnings.warn(\n"
     ]
    },
    {
     "data": {
      "image/png": "[encoded data removed]",
      "text/plain": [
       "<Figure size 576x720 with 10 Axes>"
      ]
     },
     "metadata": {
      "needs_background": "light"
     },
     "output_type": "display_data"
    }
   ],
   "source": [
    "fig, ax = plt.subplots(5,2, figsize = (8,10)) # visualizar as variáveis X\n",
    "sns.countplot(X_numericas[\"IsActiveMember\"], palette = 'Paired', ax = ax[0][0])\n",
    "sns.countplot(X_numericas[\"HasCrCard\"], palette = 'Paired', ax = ax[0][1])\n",
    "sns.countplot(X_categoricas[\"Gender\"], palette = \"Paired\", ax = ax[1][0])\n",
    "sns.countplot(X_categoricas[\"Geography\"], palette = \"Paired\", ax = ax[1][1])\n",
    "sns.boxplot(X_numericas[\"CreditScore\"], palette = 'Paired', ax = ax[2][0])\n",
    "sns.boxplot(X_numericas[\"Age\"], palette = 'Paired', ax = ax[2][1])\n",
    "sns.boxplot(X_numericas[\"Tenure\"], palette = \"Paired\", ax = ax[3][0])\n",
    "sns.boxplot(X_numericas[\"Balance\"], palette = \"Paired\", ax = ax[3][1])\n",
    "sns.countplot(X_numericas[\"NumOfProducts\"], palette = \"Paired\", ax = ax[4][0])\n",
    "sns.boxplot(X_numericas[\"EstimatedSalary\"], palette = \"Paired\", ax = ax[4][1])\n",
    "plt.tight_layout()\n",
    "plt.show()"
   ]
  },
  {
   "cell_type": "markdown",
   "id": "12d97284",
   "metadata": {},
   "source": [
    "2.3.2.3. Análise das variáveis X considerando a variável alvo "
   ]
  },
  {
   "cell_type": "code",
   "execution_count": 46,
   "id": "9d32dfce",
   "metadata": {},
   "outputs": [
    {
     "data": {
      "image/png": "[encoded data removed]",
      "text/plain": [
       "<Figure size 864x720 with 10 Axes>"
      ]
     },
     "metadata": {
      "needs_background": "light"
     },
     "output_type": "display_data"
    }
   ],
   "source": [
    "fig, ax = plt.subplots(5,2, figsize = (12,10))\n",
    "sns.histplot(hue= 'Exited', x= 'CreditScore', multiple='stack', data = df_treino, palette = 'Paired', ax = ax[0][0])\n",
    "sns.histplot(hue= 'Exited', x= 'Age', multiple='stack', data = df_treino, palette = 'Paired', ax = ax[0][1])\n",
    "sns.histplot(hue= 'Exited', x= 'Tenure', multiple='stack', data = df_treino, palette = 'Paired', ax = ax[1][0])\n",
    "sns.histplot(hue= 'Exited', x= 'Balance', multiple='stack', data = df_treino, palette = 'Paired', ax = ax[1][1])\n",
    "sns.histplot(hue= 'Exited', x= 'EstimatedSalary', multiple='stack', data = df_treino, palette = 'Paired', ax = ax[2][0])\n",
    "sns.countplot(x= 'Gender', hue= 'Exited', data = df_treino, palette = 'Paired', ax = ax[2][1])\n",
    "sns.countplot(x= 'NumOfProducts', hue= 'Exited', data = df_treino, palette = 'Paired', ax = ax[3][0])\n",
    "sns.countplot(x= 'HasCrCard', hue= 'Exited', data = df_treino, palette = 'Paired', ax = ax[3][1])\n",
    "sns.countplot(x= 'IsActiveMember', hue= 'Exited', data = df_treino, palette = 'Paired', ax = ax[4][0])\n",
    "sns.countplot(x= 'Geography', hue= 'Exited', data = df_treino, palette = 'Paired', ax = ax[4][1])\n",
    "plt.tight_layout()\n",
    "plt.show()"
   ]
  },
  {
   "cell_type": "markdown",
   "id": "0e53808d",
   "metadata": {},
   "source": [
    "Olhar com mais detalhes determinadas variáveis Xs"
   ]
  },
  {
   "cell_type": "code",
   "execution_count": 47,
   "id": "a6b79361",
   "metadata": {},
   "outputs": [
    {
     "data": {
      "text/plain": [
       "1    5151\n",
       "0    4849\n",
       "Name: IsActiveMember, dtype: int64"
      ]
     },
     "execution_count": 47,
     "metadata": {},
     "output_type": "execute_result"
    }
   ],
   "source": [
    "df_treino.IsActiveMember.value_counts() # total de clientes em cada categoria de membro ativo"
   ]
  },
  {
   "cell_type": "code",
   "execution_count": 48,
   "id": "eeab631b",
   "metadata": {},
   "outputs": [],
   "source": [
    "# número de clientes em cada categoria de membro ativo (1 ou 0)\n",
    "num_yes = len(df_treino[df_treino.IsActiveMember == 1])\n",
    "num_no = len(df_treino[df_treino.IsActiveMember == 0])\n",
    "\n",
    "# número de clientes que abandonaram em cada categoria de membro ativo\n",
    "ex_yes = len(df_treino[(df_treino.IsActiveMember == 1) & (df_treino.Exited == 1)])\n",
    "ex_no = len(df_treino[(df_treino.IsActiveMember == 0) & (df_treino.Exited == 1)]) \n",
    "\n",
    "yes_ex_rate = ex_yes/num_yes\n",
    "no_ex_rate = ex_no/num_no"
   ]
  },
  {
   "cell_type": "code",
   "execution_count": 49,
   "id": "c2af3d30",
   "metadata": {},
   "outputs": [
    {
     "data": {
      "image/png": "[encoded data removed]",
      "text/plain": [
       "<Figure size 432x288 with 1 Axes>"
      ]
     },
     "metadata": {
      "needs_background": "light"
     },
     "output_type": "display_data"
    }
   ],
   "source": [
    "plt.barh(y = ['Yes_Active','No_Active'] , width = [num_yes,num_no], color = 'lightblue')\n",
    "plt.barh(y = ['Yes_Active','No_Active'] , width = [ex_yes,ex_no] , color = 'darkblue')\n",
    "\n",
    "plt.xlim(0,5800)\n",
    "\n",
    "# mostrar a porcentagem de cliente que abandonou em cada categoria de membro ativo \n",
    "plt.text(5000 , 'No_Active','{:.1f} %'.format(no_ex_rate*100))\n",
    "plt.text(5200 , 'Yes_Active','{:.1f} %'.format(yes_ex_rate*100))\n",
    "\n",
    "plt.title('Churn (%) vs Membro Ativo')\n",
    "plt.xlabel('Número de clientes')\n",
    "\n",
    "plt.show()"
   ]
  },
  {
   "cell_type": "code",
   "execution_count": 50,
   "id": "4c031d19",
   "metadata": {},
   "outputs": [
    {
     "data": {
      "text/plain": [
       "1    7055\n",
       "0    2945\n",
       "Name: HasCrCard, dtype: int64"
      ]
     },
     "execution_count": 50,
     "metadata": {},
     "output_type": "execute_result"
    }
   ],
   "source": [
    "df_treino.HasCrCard.value_counts() # total de clientes que possuem e não possuem cartão de crédito "
   ]
  },
  {
   "cell_type": "code",
   "execution_count": 51,
   "id": "a47179d7",
   "metadata": {},
   "outputs": [],
   "source": [
    "# número de clientes em cada categoria de membro ativo (1 ou 0)\n",
    "num_yes = len(df_treino[df_treino.HasCrCard == 1])\n",
    "num_no = len(df_treino[df_treino.HasCrCard == 0])\n",
    "\n",
    "# número de clientes que abandonaram em cada categoria de membro ativo\n",
    "ex_yes = len(df_treino[(df_treino.HasCrCard == 1) & (df_treino.Exited == 1)])\n",
    "ex_no = len(df_treino[(df_treino.HasCrCard == 0) & (df_treino.Exited == 1)]) \n",
    "\n",
    "yes_ex_rate = ex_yes/num_yes\n",
    "no_ex_rate = ex_no/num_no"
   ]
  },
  {
   "cell_type": "code",
   "execution_count": 52,
   "id": "ba0f68b5",
   "metadata": {},
   "outputs": [
    {
     "data": {
      "image/png": "[encoded data removed]",
      "text/plain": [
       "<Figure size 432x288 with 1 Axes>"
      ]
     },
     "metadata": {
      "needs_background": "light"
     },
     "output_type": "display_data"
    }
   ],
   "source": [
    "plt.barh(y = ['Yes_CrCard','No_CrCard'] , width = [num_yes,num_no], color = 'lightblue')\n",
    "plt.barh(y = ['Yes_CrCard','No_CrCard'] , width = [ex_yes,ex_no] , color = 'darkblue')\n",
    "\n",
    "plt.xlim(0,8000)\n",
    "\n",
    "# mostrar a porcentagem de cliente que abandonou em cada categoria de membro ativo \n",
    "plt.text(3000 , 'No_CrCard','{:.1f} %'.format(no_ex_rate*100))\n",
    "plt.text(7100 , 'Yes_CrCard','{:.1f} %'.format(yes_ex_rate*100))\n",
    "\n",
    "plt.title('Churn (%) vs Cartão de Crédito')\n",
    "plt.xlabel('Número de clientes')\n",
    "\n",
    "plt.show()"
   ]
  },
  {
   "cell_type": "code",
   "execution_count": 53,
   "id": "700df41f",
   "metadata": {},
   "outputs": [
    {
     "data": {
      "text/plain": [
       "1    5084\n",
       "2    4590\n",
       "3     266\n",
       "4      60\n",
       "Name: NumOfProducts, dtype: int64"
      ]
     },
     "execution_count": 53,
     "metadata": {},
     "output_type": "execute_result"
    }
   ],
   "source": [
    "df_treino.NumOfProducts.value_counts() # total de clientes em cada categoria de produto "
   ]
  },
  {
   "cell_type": "code",
   "execution_count": 54,
   "id": "f1863d79",
   "metadata": {},
   "outputs": [],
   "source": [
    "# número de clientes em cada categoria de produto (1, 2, 3 ou 4 produtos)\n",
    "num_p1 = len(df_treino[df_treino.NumOfProducts == 1])\n",
    "num_p2 = len(df_treino[df_treino.NumOfProducts == 2])\n",
    "num_p3 = len(df_treino[df_treino.NumOfProducts == 3])\n",
    "num_p4 = len(df_treino[df_treino.NumOfProducts == 4])\n",
    "\n",
    "# número de clientes que abandonaram em cada categoria de produto\n",
    "ex_p1 = len(df_treino[(df_treino.NumOfProducts == 1) & (df_treino.Exited == 1)])\n",
    "ex_p2 = len(df_treino[(df_treino.NumOfProducts == 2) & (df_treino.Exited == 1)]) \n",
    "ex_p3 = len(df_treino[(df_treino.NumOfProducts == 3) & (df_treino.Exited == 1)])\n",
    "ex_p4 = len(df_treino[(df_treino.NumOfProducts == 4) & (df_treino.Exited == 1)])\n",
    "\n",
    "p1_ex_rate = ex_p1/num_p1\n",
    "p2_ex_rate = ex_p2/num_p2\n",
    "p3_ex_rate = ex_p3/num_p3\n",
    "p4_ex_rate = ex_p4/num_p4"
   ]
  },
  {
   "cell_type": "code",
   "execution_count": 55,
   "id": "7220dc87",
   "metadata": {},
   "outputs": [
    {
     "data": {
      "image/png": "[encoded data removed]",
      "text/plain": [
       "<Figure size 432x288 with 1 Axes>"
      ]
     },
     "metadata": {
      "needs_background": "light"
     },
     "output_type": "display_data"
    }
   ],
   "source": [
    "plt.barh(y = ['1_product','2_products','3_products','4_products'] , width = [num_p1,num_p2,num_p3,num_p4], color = 'lightblue')\n",
    "plt.barh(y = ['1_product','2_products','3_products','4_products'] , width = [ex_p1,ex_p2,ex_p3,ex_p4] , color = 'darkblue')\n",
    "\n",
    "plt.xlim(0,6000)\n",
    "\n",
    "# mostrar a porcentagem de cliente que abandonou em cada categoria de produto \n",
    "plt.text(200 , '4_products','{:.1f} %'.format(p4_ex_rate*100)) \n",
    "plt.text(400 , '3_products','{:.1f} %'.format(p3_ex_rate*100))\n",
    "plt.text(4700 , '2_products','{:.1f} %'.format(p2_ex_rate*100))\n",
    "plt.text(5200 , '1_product','{:.1f} %'.format(p1_ex_rate*100))\n",
    "\n",
    "plt.title('Churn (%) vs Número de produtos')\n",
    "plt.xlabel('Número de clientes')\n",
    "\n",
    "plt.show()"
   ]
  },
  {
   "cell_type": "code",
   "execution_count": 56,
   "id": "ff6cddbe",
   "metadata": {},
   "outputs": [
    {
     "data": {
      "image/png": "[encoded data removed]",
      "text/plain": [
       "<Figure size 360x360 with 1 Axes>"
      ]
     },
     "metadata": {
      "needs_background": "light"
     },
     "output_type": "display_data"
    }
   ],
   "source": [
    "# montante médio em dinheiro disponível na conta dos clientes que abandonaram (1) e que não abandonaram a instituição financeira  \n",
    "sns.catplot(data = df_treino , x = 'Exited'  , y = 'Balance' , kind = 'bar' , color = 'blue')\n",
    "plt.plot([0,1.4],[df_treino[df_treino.Exited == 0]['Balance'].mean(),df_treino[df_treino.Exited == 0]['Balance'].mean()],linestyle = '--' , c ='k'\n",
    "         , alpha = 0.8)\n",
    "plt.show()"
   ]
  },
  {
   "cell_type": "code",
   "execution_count": 57,
   "id": "61d4d0d1",
   "metadata": {},
   "outputs": [
    {
     "data": {
      "image/png": "[encoded data removed]",
      "text/plain": [
       "<Figure size 360x360 with 1 Axes>"
      ]
     },
     "metadata": {
      "needs_background": "light"
     },
     "output_type": "display_data"
    }
   ],
   "source": [
    "# Salário estimado médio dos clientes que abandonaram (1) e que não abandonaram a instituição financeira  \n",
    "sns.catplot(data = df_treino , x = 'Exited'  , y = 'EstimatedSalary' , kind = 'bar' , color = 'blue')\n",
    "plt.plot([0,1.4],[df_treino[df_treino.Exited == 0]['EstimatedSalary'].mean(),df_treino[df_treino.Exited == 0]['EstimatedSalary'].mean()],linestyle = '--' , c ='k'\n",
    "         , alpha = 0.8)\n",
    "plt.show()"
   ]
  },
  {
   "cell_type": "code",
   "execution_count": 58,
   "id": "40165cd1",
   "metadata": {},
   "outputs": [
    {
     "data": {
      "image/png": "[encoded data removed]",
      "text/plain": [
       "<Figure size 360x360 with 1 Axes>"
      ]
     },
     "metadata": {
      "needs_background": "light"
     },
     "output_type": "display_data"
    }
   ],
   "source": [
    "# Salário estimado médio dos clientes que abandonaram (1) e que não abandonaram a instituição financeira  \n",
    "sns.catplot(data = df_treino , x = 'Exited'  , y = 'CreditScore' , kind = 'bar' , color = 'blue')\n",
    "plt.plot([0,1.4],[df_treino[df_treino.Exited == 0]['CreditScore'].mean(),df_treino[df_treino.Exited == 0]['CreditScore'].mean()],linestyle = '--' , c ='k'\n",
    "         , alpha = 0.8)\n",
    "plt.show()"
   ]
  },
  {
   "cell_type": "markdown",
   "id": "e670d645",
   "metadata": {},
   "source": [
    "- A maioria dos clientes estão localizados na França. Os clientes alemães apresentaram maior número de abandono junto à instituição financeira\n",
    "- O maior número de abandono ocorreu entre clientes do sexo feminino\n",
    "- Clientes que não são membros ativos abandonaram mais a instituição financeira do que os clientes que são membros ativos \n",
    "- Todos os clientes (n = 60) que tinham 4 produtos abandonaram a instituição financeira. Clientes que tinham um (27.7%) e dois (7.6%) produtos abandonaram menos a instituição financeira do que os clientes tinham mais produtos\n",
    "- Os clientes que mais abandonaram a instituição financeira foram os que tinham mais dinheiro disponível na conta. \n",
    "- Além disso, o salário estimado é praticamente o mesmo entre os clientes que abandonaram e os que permaneceram na instituição financeira. Assim como, a porcentagem de clientes que possui cartão de crédito é a mesma para os clientes que abandonaram e os que não abandonaram "
   ]
  },
  {
   "cell_type": "markdown",
   "id": "f0f7e3bb",
   "metadata": {},
   "source": [
    "3. Preparação dos dados (Pré-processamento)"
   ]
  },
  {
   "cell_type": "markdown",
   "id": "73fb312c",
   "metadata": {},
   "source": [
    "3.1. Tratamento das variáveis categóricas"
   ]
  },
  {
   "cell_type": "code",
   "execution_count": 59,
   "id": "bef3fc90",
   "metadata": {},
   "outputs": [],
   "source": [
    "# Codificando (Encoding) a variável categórica Geography\n",
    "df_treino = pd.get_dummies(df_treino, columns = ['Geography'])"
   ]
  },
  {
   "cell_type": "code",
   "execution_count": 60,
   "id": "e34c0972",
   "metadata": {},
   "outputs": [
    {
     "data": {
      "text/html": [
       "<div>\n",
       "<style scoped>\n",
       "    .dataframe tbody tr th:only-of-type {\n",
       "        vertical-align: middle;\n",
       "    }\n",
       "\n",
       "    .dataframe tbody tr th {\n",
       "        vertical-align: top;\n",
       "    }\n",
       "\n",
       "    .dataframe thead th {\n",
       "        text-align: right;\n",
       "    }\n",
       "</style>\n",
       "<table border=\"1\" class=\"dataframe\">\n",
       "  <thead>\n",
       "    <tr style=\"text-align: right;\">\n",
       "      <th></th>\n",
       "      <th>CreditScore</th>\n",
       "      <th>Gender</th>\n",
       "      <th>Age</th>\n",
       "      <th>Tenure</th>\n",
       "      <th>Balance</th>\n",
       "      <th>NumOfProducts</th>\n",
       "      <th>HasCrCard</th>\n",
       "      <th>IsActiveMember</th>\n",
       "      <th>EstimatedSalary</th>\n",
       "      <th>Exited</th>\n",
       "      <th>Geography_France</th>\n",
       "      <th>Geography_Germany</th>\n",
       "      <th>Geography_Spain</th>\n",
       "    </tr>\n",
       "  </thead>\n",
       "  <tbody>\n",
       "    <tr>\n",
       "      <th>0</th>\n",
       "      <td>619</td>\n",
       "      <td>Female</td>\n",
       "      <td>42</td>\n",
       "      <td>2</td>\n",
       "      <td>0.00</td>\n",
       "      <td>1</td>\n",
       "      <td>1</td>\n",
       "      <td>1</td>\n",
       "      <td>101348.88</td>\n",
       "      <td>1</td>\n",
       "      <td>1</td>\n",
       "      <td>0</td>\n",
       "      <td>0</td>\n",
       "    </tr>\n",
       "    <tr>\n",
       "      <th>1</th>\n",
       "      <td>608</td>\n",
       "      <td>Female</td>\n",
       "      <td>41</td>\n",
       "      <td>1</td>\n",
       "      <td>83807.86</td>\n",
       "      <td>1</td>\n",
       "      <td>0</td>\n",
       "      <td>1</td>\n",
       "      <td>112542.58</td>\n",
       "      <td>0</td>\n",
       "      <td>0</td>\n",
       "      <td>0</td>\n",
       "      <td>1</td>\n",
       "    </tr>\n",
       "    <tr>\n",
       "      <th>2</th>\n",
       "      <td>502</td>\n",
       "      <td>Female</td>\n",
       "      <td>42</td>\n",
       "      <td>8</td>\n",
       "      <td>159660.80</td>\n",
       "      <td>3</td>\n",
       "      <td>1</td>\n",
       "      <td>0</td>\n",
       "      <td>113931.57</td>\n",
       "      <td>1</td>\n",
       "      <td>1</td>\n",
       "      <td>0</td>\n",
       "      <td>0</td>\n",
       "    </tr>\n",
       "    <tr>\n",
       "      <th>3</th>\n",
       "      <td>699</td>\n",
       "      <td>Female</td>\n",
       "      <td>39</td>\n",
       "      <td>1</td>\n",
       "      <td>0.00</td>\n",
       "      <td>2</td>\n",
       "      <td>0</td>\n",
       "      <td>0</td>\n",
       "      <td>93826.63</td>\n",
       "      <td>0</td>\n",
       "      <td>1</td>\n",
       "      <td>0</td>\n",
       "      <td>0</td>\n",
       "    </tr>\n",
       "    <tr>\n",
       "      <th>4</th>\n",
       "      <td>850</td>\n",
       "      <td>Female</td>\n",
       "      <td>43</td>\n",
       "      <td>2</td>\n",
       "      <td>125510.82</td>\n",
       "      <td>1</td>\n",
       "      <td>1</td>\n",
       "      <td>1</td>\n",
       "      <td>79084.10</td>\n",
       "      <td>0</td>\n",
       "      <td>0</td>\n",
       "      <td>0</td>\n",
       "      <td>1</td>\n",
       "    </tr>\n",
       "  </tbody>\n",
       "</table>\n",
       "</div>"
      ],
      "text/plain": [
       "   CreditScore  Gender  Age  Tenure    Balance  NumOfProducts  HasCrCard  \\\n",
       "0          619  Female   42       2       0.00              1          1   \n",
       "1          608  Female   41       1   83807.86              1          0   \n",
       "2          502  Female   42       8  159660.80              3          1   \n",
       "3          699  Female   39       1       0.00              2          0   \n",
       "4          850  Female   43       2  125510.82              1          1   \n",
       "\n",
       "   IsActiveMember  EstimatedSalary  Exited  Geography_France  \\\n",
       "0               1        101348.88       1                 1   \n",
       "1               1        112542.58       0                 0   \n",
       "2               0        113931.57       1                 1   \n",
       "3               0         93826.63       0                 1   \n",
       "4               1         79084.10       0                 0   \n",
       "\n",
       "   Geography_Germany  Geography_Spain  \n",
       "0                  0                0  \n",
       "1                  0                1  \n",
       "2                  0                0  \n",
       "3                  0                0  \n",
       "4                  0                1  "
      ]
     },
     "execution_count": 60,
     "metadata": {},
     "output_type": "execute_result"
    }
   ],
   "source": [
    "df_treino.head()"
   ]
  },
  {
   "cell_type": "code",
   "execution_count": 61,
   "id": "f4bd3f1a",
   "metadata": {},
   "outputs": [],
   "source": [
    "# Codificando (Encoding) a variável categórica \"Gender\"\n",
    "df_treino['Gender'] = df_treino['Gender'].map({'Female':0, 'Male':1 })"
   ]
  },
  {
   "cell_type": "code",
   "execution_count": 62,
   "id": "a579f224",
   "metadata": {},
   "outputs": [
    {
     "data": {
      "text/html": [
       "<div>\n",
       "<style scoped>\n",
       "    .dataframe tbody tr th:only-of-type {\n",
       "        vertical-align: middle;\n",
       "    }\n",
       "\n",
       "    .dataframe tbody tr th {\n",
       "        vertical-align: top;\n",
       "    }\n",
       "\n",
       "    .dataframe thead th {\n",
       "        text-align: right;\n",
       "    }\n",
       "</style>\n",
       "<table border=\"1\" class=\"dataframe\">\n",
       "  <thead>\n",
       "    <tr style=\"text-align: right;\">\n",
       "      <th></th>\n",
       "      <th>CreditScore</th>\n",
       "      <th>Gender</th>\n",
       "      <th>Age</th>\n",
       "      <th>Tenure</th>\n",
       "      <th>Balance</th>\n",
       "      <th>NumOfProducts</th>\n",
       "      <th>HasCrCard</th>\n",
       "      <th>IsActiveMember</th>\n",
       "      <th>EstimatedSalary</th>\n",
       "      <th>Exited</th>\n",
       "      <th>Geography_France</th>\n",
       "      <th>Geography_Germany</th>\n",
       "      <th>Geography_Spain</th>\n",
       "    </tr>\n",
       "  </thead>\n",
       "  <tbody>\n",
       "    <tr>\n",
       "      <th>0</th>\n",
       "      <td>619</td>\n",
       "      <td>0</td>\n",
       "      <td>42</td>\n",
       "      <td>2</td>\n",
       "      <td>0.00</td>\n",
       "      <td>1</td>\n",
       "      <td>1</td>\n",
       "      <td>1</td>\n",
       "      <td>101348.88</td>\n",
       "      <td>1</td>\n",
       "      <td>1</td>\n",
       "      <td>0</td>\n",
       "      <td>0</td>\n",
       "    </tr>\n",
       "    <tr>\n",
       "      <th>1</th>\n",
       "      <td>608</td>\n",
       "      <td>0</td>\n",
       "      <td>41</td>\n",
       "      <td>1</td>\n",
       "      <td>83807.86</td>\n",
       "      <td>1</td>\n",
       "      <td>0</td>\n",
       "      <td>1</td>\n",
       "      <td>112542.58</td>\n",
       "      <td>0</td>\n",
       "      <td>0</td>\n",
       "      <td>0</td>\n",
       "      <td>1</td>\n",
       "    </tr>\n",
       "    <tr>\n",
       "      <th>2</th>\n",
       "      <td>502</td>\n",
       "      <td>0</td>\n",
       "      <td>42</td>\n",
       "      <td>8</td>\n",
       "      <td>159660.80</td>\n",
       "      <td>3</td>\n",
       "      <td>1</td>\n",
       "      <td>0</td>\n",
       "      <td>113931.57</td>\n",
       "      <td>1</td>\n",
       "      <td>1</td>\n",
       "      <td>0</td>\n",
       "      <td>0</td>\n",
       "    </tr>\n",
       "    <tr>\n",
       "      <th>3</th>\n",
       "      <td>699</td>\n",
       "      <td>0</td>\n",
       "      <td>39</td>\n",
       "      <td>1</td>\n",
       "      <td>0.00</td>\n",
       "      <td>2</td>\n",
       "      <td>0</td>\n",
       "      <td>0</td>\n",
       "      <td>93826.63</td>\n",
       "      <td>0</td>\n",
       "      <td>1</td>\n",
       "      <td>0</td>\n",
       "      <td>0</td>\n",
       "    </tr>\n",
       "    <tr>\n",
       "      <th>4</th>\n",
       "      <td>850</td>\n",
       "      <td>0</td>\n",
       "      <td>43</td>\n",
       "      <td>2</td>\n",
       "      <td>125510.82</td>\n",
       "      <td>1</td>\n",
       "      <td>1</td>\n",
       "      <td>1</td>\n",
       "      <td>79084.10</td>\n",
       "      <td>0</td>\n",
       "      <td>0</td>\n",
       "      <td>0</td>\n",
       "      <td>1</td>\n",
       "    </tr>\n",
       "  </tbody>\n",
       "</table>\n",
       "</div>"
      ],
      "text/plain": [
       "   CreditScore  Gender  Age  Tenure    Balance  NumOfProducts  HasCrCard  \\\n",
       "0          619       0   42       2       0.00              1          1   \n",
       "1          608       0   41       1   83807.86              1          0   \n",
       "2          502       0   42       8  159660.80              3          1   \n",
       "3          699       0   39       1       0.00              2          0   \n",
       "4          850       0   43       2  125510.82              1          1   \n",
       "\n",
       "   IsActiveMember  EstimatedSalary  Exited  Geography_France  \\\n",
       "0               1        101348.88       1                 1   \n",
       "1               1        112542.58       0                 0   \n",
       "2               0        113931.57       1                 1   \n",
       "3               0         93826.63       0                 1   \n",
       "4               1         79084.10       0                 0   \n",
       "\n",
       "   Geography_Germany  Geography_Spain  \n",
       "0                  0                0  \n",
       "1                  0                1  \n",
       "2                  0                0  \n",
       "3                  0                0  \n",
       "4                  0                1  "
      ]
     },
     "execution_count": 62,
     "metadata": {},
     "output_type": "execute_result"
    }
   ],
   "source": [
    "df_treino.head()"
   ]
  },
  {
   "cell_type": "code",
   "execution_count": 63,
   "id": "26d00218",
   "metadata": {},
   "outputs": [],
   "source": [
    "# Encoding a variável categórica \n",
    "df_teste = pd.get_dummies(df_teste, columns = ['Geography'])"
   ]
  },
  {
   "cell_type": "code",
   "execution_count": 64,
   "id": "89212045",
   "metadata": {},
   "outputs": [
    {
     "data": {
      "text/html": [
       "<div>\n",
       "<style scoped>\n",
       "    .dataframe tbody tr th:only-of-type {\n",
       "        vertical-align: middle;\n",
       "    }\n",
       "\n",
       "    .dataframe tbody tr th {\n",
       "        vertical-align: top;\n",
       "    }\n",
       "\n",
       "    .dataframe thead th {\n",
       "        text-align: right;\n",
       "    }\n",
       "</style>\n",
       "<table border=\"1\" class=\"dataframe\">\n",
       "  <thead>\n",
       "    <tr style=\"text-align: right;\">\n",
       "      <th></th>\n",
       "      <th>CreditScore</th>\n",
       "      <th>Gender</th>\n",
       "      <th>Age</th>\n",
       "      <th>Tenure</th>\n",
       "      <th>Balance</th>\n",
       "      <th>NumOfProducts</th>\n",
       "      <th>HasCrCard</th>\n",
       "      <th>IsActiveMember</th>\n",
       "      <th>EstimatedSalary</th>\n",
       "      <th>Geography_France</th>\n",
       "      <th>Geography_Germany</th>\n",
       "      <th>Geography_Spain</th>\n",
       "    </tr>\n",
       "  </thead>\n",
       "  <tbody>\n",
       "    <tr>\n",
       "      <th>0</th>\n",
       "      <td>565</td>\n",
       "      <td>Male</td>\n",
       "      <td>31</td>\n",
       "      <td>1</td>\n",
       "      <td>0.00</td>\n",
       "      <td>1</td>\n",
       "      <td>0</td>\n",
       "      <td>1</td>\n",
       "      <td>20443.08</td>\n",
       "      <td>1</td>\n",
       "      <td>0</td>\n",
       "      <td>0</td>\n",
       "    </tr>\n",
       "    <tr>\n",
       "      <th>1</th>\n",
       "      <td>569</td>\n",
       "      <td>Male</td>\n",
       "      <td>34</td>\n",
       "      <td>4</td>\n",
       "      <td>0.00</td>\n",
       "      <td>1</td>\n",
       "      <td>0</td>\n",
       "      <td>1</td>\n",
       "      <td>4045.90</td>\n",
       "      <td>1</td>\n",
       "      <td>0</td>\n",
       "      <td>0</td>\n",
       "    </tr>\n",
       "    <tr>\n",
       "      <th>2</th>\n",
       "      <td>669</td>\n",
       "      <td>Female</td>\n",
       "      <td>20</td>\n",
       "      <td>7</td>\n",
       "      <td>0.00</td>\n",
       "      <td>2</td>\n",
       "      <td>1</td>\n",
       "      <td>0</td>\n",
       "      <td>128838.67</td>\n",
       "      <td>1</td>\n",
       "      <td>0</td>\n",
       "      <td>0</td>\n",
       "    </tr>\n",
       "    <tr>\n",
       "      <th>3</th>\n",
       "      <td>694</td>\n",
       "      <td>Male</td>\n",
       "      <td>39</td>\n",
       "      <td>4</td>\n",
       "      <td>173255.48</td>\n",
       "      <td>1</td>\n",
       "      <td>1</td>\n",
       "      <td>1</td>\n",
       "      <td>81293.10</td>\n",
       "      <td>1</td>\n",
       "      <td>0</td>\n",
       "      <td>0</td>\n",
       "    </tr>\n",
       "    <tr>\n",
       "      <th>4</th>\n",
       "      <td>504</td>\n",
       "      <td>Male</td>\n",
       "      <td>28</td>\n",
       "      <td>10</td>\n",
       "      <td>109291.36</td>\n",
       "      <td>1</td>\n",
       "      <td>1</td>\n",
       "      <td>1</td>\n",
       "      <td>187593.15</td>\n",
       "      <td>0</td>\n",
       "      <td>0</td>\n",
       "      <td>1</td>\n",
       "    </tr>\n",
       "  </tbody>\n",
       "</table>\n",
       "</div>"
      ],
      "text/plain": [
       "   CreditScore  Gender  Age  Tenure    Balance  NumOfProducts  HasCrCard  \\\n",
       "0          565    Male   31       1       0.00              1          0   \n",
       "1          569    Male   34       4       0.00              1          0   \n",
       "2          669  Female   20       7       0.00              2          1   \n",
       "3          694    Male   39       4  173255.48              1          1   \n",
       "4          504    Male   28      10  109291.36              1          1   \n",
       "\n",
       "   IsActiveMember  EstimatedSalary  Geography_France  Geography_Germany  \\\n",
       "0               1         20443.08                 1                  0   \n",
       "1               1          4045.90                 1                  0   \n",
       "2               0        128838.67                 1                  0   \n",
       "3               1         81293.10                 1                  0   \n",
       "4               1        187593.15                 0                  0   \n",
       "\n",
       "   Geography_Spain  \n",
       "0                0  \n",
       "1                0  \n",
       "2                0  \n",
       "3                0  \n",
       "4                1  "
      ]
     },
     "execution_count": 64,
     "metadata": {},
     "output_type": "execute_result"
    }
   ],
   "source": [
    "df_teste.head()"
   ]
  },
  {
   "cell_type": "code",
   "execution_count": 65,
   "id": "52a79830",
   "metadata": {},
   "outputs": [],
   "source": [
    "# Encoding the categorical data\n",
    "df_teste['Gender'] = df_teste['Gender'].map({'Female':0, 'Male':1 })"
   ]
  },
  {
   "cell_type": "code",
   "execution_count": 66,
   "id": "4c4aa55e",
   "metadata": {},
   "outputs": [
    {
     "data": {
      "text/html": [
       "<div>\n",
       "<style scoped>\n",
       "    .dataframe tbody tr th:only-of-type {\n",
       "        vertical-align: middle;\n",
       "    }\n",
       "\n",
       "    .dataframe tbody tr th {\n",
       "        vertical-align: top;\n",
       "    }\n",
       "\n",
       "    .dataframe thead th {\n",
       "        text-align: right;\n",
       "    }\n",
       "</style>\n",
       "<table border=\"1\" class=\"dataframe\">\n",
       "  <thead>\n",
       "    <tr style=\"text-align: right;\">\n",
       "      <th></th>\n",
       "      <th>CreditScore</th>\n",
       "      <th>Gender</th>\n",
       "      <th>Age</th>\n",
       "      <th>Tenure</th>\n",
       "      <th>Balance</th>\n",
       "      <th>NumOfProducts</th>\n",
       "      <th>HasCrCard</th>\n",
       "      <th>IsActiveMember</th>\n",
       "      <th>EstimatedSalary</th>\n",
       "      <th>Geography_France</th>\n",
       "      <th>Geography_Germany</th>\n",
       "      <th>Geography_Spain</th>\n",
       "    </tr>\n",
       "  </thead>\n",
       "  <tbody>\n",
       "    <tr>\n",
       "      <th>0</th>\n",
       "      <td>565</td>\n",
       "      <td>1</td>\n",
       "      <td>31</td>\n",
       "      <td>1</td>\n",
       "      <td>0.00</td>\n",
       "      <td>1</td>\n",
       "      <td>0</td>\n",
       "      <td>1</td>\n",
       "      <td>20443.08</td>\n",
       "      <td>1</td>\n",
       "      <td>0</td>\n",
       "      <td>0</td>\n",
       "    </tr>\n",
       "    <tr>\n",
       "      <th>1</th>\n",
       "      <td>569</td>\n",
       "      <td>1</td>\n",
       "      <td>34</td>\n",
       "      <td>4</td>\n",
       "      <td>0.00</td>\n",
       "      <td>1</td>\n",
       "      <td>0</td>\n",
       "      <td>1</td>\n",
       "      <td>4045.90</td>\n",
       "      <td>1</td>\n",
       "      <td>0</td>\n",
       "      <td>0</td>\n",
       "    </tr>\n",
       "    <tr>\n",
       "      <th>2</th>\n",
       "      <td>669</td>\n",
       "      <td>0</td>\n",
       "      <td>20</td>\n",
       "      <td>7</td>\n",
       "      <td>0.00</td>\n",
       "      <td>2</td>\n",
       "      <td>1</td>\n",
       "      <td>0</td>\n",
       "      <td>128838.67</td>\n",
       "      <td>1</td>\n",
       "      <td>0</td>\n",
       "      <td>0</td>\n",
       "    </tr>\n",
       "    <tr>\n",
       "      <th>3</th>\n",
       "      <td>694</td>\n",
       "      <td>1</td>\n",
       "      <td>39</td>\n",
       "      <td>4</td>\n",
       "      <td>173255.48</td>\n",
       "      <td>1</td>\n",
       "      <td>1</td>\n",
       "      <td>1</td>\n",
       "      <td>81293.10</td>\n",
       "      <td>1</td>\n",
       "      <td>0</td>\n",
       "      <td>0</td>\n",
       "    </tr>\n",
       "    <tr>\n",
       "      <th>4</th>\n",
       "      <td>504</td>\n",
       "      <td>1</td>\n",
       "      <td>28</td>\n",
       "      <td>10</td>\n",
       "      <td>109291.36</td>\n",
       "      <td>1</td>\n",
       "      <td>1</td>\n",
       "      <td>1</td>\n",
       "      <td>187593.15</td>\n",
       "      <td>0</td>\n",
       "      <td>0</td>\n",
       "      <td>1</td>\n",
       "    </tr>\n",
       "  </tbody>\n",
       "</table>\n",
       "</div>"
      ],
      "text/plain": [
       "   CreditScore  Gender  Age  Tenure    Balance  NumOfProducts  HasCrCard  \\\n",
       "0          565       1   31       1       0.00              1          0   \n",
       "1          569       1   34       4       0.00              1          0   \n",
       "2          669       0   20       7       0.00              2          1   \n",
       "3          694       1   39       4  173255.48              1          1   \n",
       "4          504       1   28      10  109291.36              1          1   \n",
       "\n",
       "   IsActiveMember  EstimatedSalary  Geography_France  Geography_Germany  \\\n",
       "0               1         20443.08                 1                  0   \n",
       "1               1          4045.90                 1                  0   \n",
       "2               0        128838.67                 1                  0   \n",
       "3               1         81293.10                 1                  0   \n",
       "4               1        187593.15                 0                  0   \n",
       "\n",
       "   Geography_Spain  \n",
       "0                0  \n",
       "1                0  \n",
       "2                0  \n",
       "3                0  \n",
       "4                1  "
      ]
     },
     "execution_count": 66,
     "metadata": {},
     "output_type": "execute_result"
    }
   ],
   "source": [
    "df_teste.head()"
   ]
  },
  {
   "cell_type": "markdown",
   "id": "ad3cc703",
   "metadata": {},
   "source": [
    "3.2. Seleção das variáveis X"
   ]
  },
  {
   "cell_type": "markdown",
   "id": "ddf64738",
   "metadata": {},
   "source": [
    "Questão 10. Existe correlação entre as variáveis?"
   ]
  },
  {
   "cell_type": "code",
   "execution_count": 67,
   "id": "2c7a7d55",
   "metadata": {},
   "outputs": [
    {
     "data": {
      "text/plain": [
       "<AxesSubplot:>"
      ]
     },
     "execution_count": 67,
     "metadata": {},
     "output_type": "execute_result"
    },
    {
     "data": {
      "image/png": "[encoded data removed]",
      "text/plain": [
       "<Figure size 1440x864 with 2 Axes>"
      ]
     },
     "metadata": {
      "needs_background": "light"
     },
     "output_type": "display_data"
    }
   ],
   "source": [
    "plt.figure(figsize=(20,12))\n",
    "plt.rcParams.update({'font.size': 10})\n",
    "sns.heatmap(df_treino.corr(), annot=True, cmap='Blues') # criar um heatmap (mapa de calor)"
   ]
  },
  {
   "cell_type": "markdown",
   "id": "318cf0e4",
   "metadata": {},
   "source": [
    "- não existem variáveis Xs (ou seja, características dos clientes) altamente correlacionadas com a variável alvo (Exited)\n",
    "- mas entre todas as variáveis Xs, Age, Geography_Germany, IsActiveMember, Balance e Gender são as que estão mais correlacionadas com a variável alvo"
   ]
  },
  {
   "cell_type": "markdown",
   "id": "4bb1cae6",
   "metadata": {},
   "source": [
    "3.2.1. Transformação da escala dos dados"
   ]
  },
  {
   "cell_type": "code",
   "execution_count": 68,
   "id": "607b05d8",
   "metadata": {},
   "outputs": [
    {
     "data": {
      "text/html": [
       "<div>\n",
       "<style scoped>\n",
       "    .dataframe tbody tr th:only-of-type {\n",
       "        vertical-align: middle;\n",
       "    }\n",
       "\n",
       "    .dataframe tbody tr th {\n",
       "        vertical-align: top;\n",
       "    }\n",
       "\n",
       "    .dataframe thead th {\n",
       "        text-align: right;\n",
       "    }\n",
       "</style>\n",
       "<table border=\"1\" class=\"dataframe\">\n",
       "  <thead>\n",
       "    <tr style=\"text-align: right;\">\n",
       "      <th></th>\n",
       "      <th>CreditScore</th>\n",
       "      <th>Gender</th>\n",
       "      <th>Age</th>\n",
       "      <th>Tenure</th>\n",
       "      <th>Balance</th>\n",
       "      <th>NumOfProducts</th>\n",
       "      <th>HasCrCard</th>\n",
       "      <th>IsActiveMember</th>\n",
       "      <th>EstimatedSalary</th>\n",
       "      <th>Exited</th>\n",
       "      <th>Geography_France</th>\n",
       "      <th>Geography_Germany</th>\n",
       "      <th>Geography_Spain</th>\n",
       "    </tr>\n",
       "  </thead>\n",
       "  <tbody>\n",
       "    <tr>\n",
       "      <th>0</th>\n",
       "      <td>619</td>\n",
       "      <td>0</td>\n",
       "      <td>42</td>\n",
       "      <td>2</td>\n",
       "      <td>0.00</td>\n",
       "      <td>1</td>\n",
       "      <td>1</td>\n",
       "      <td>1</td>\n",
       "      <td>101348.88</td>\n",
       "      <td>1</td>\n",
       "      <td>1</td>\n",
       "      <td>0</td>\n",
       "      <td>0</td>\n",
       "    </tr>\n",
       "    <tr>\n",
       "      <th>1</th>\n",
       "      <td>608</td>\n",
       "      <td>0</td>\n",
       "      <td>41</td>\n",
       "      <td>1</td>\n",
       "      <td>83807.86</td>\n",
       "      <td>1</td>\n",
       "      <td>0</td>\n",
       "      <td>1</td>\n",
       "      <td>112542.58</td>\n",
       "      <td>0</td>\n",
       "      <td>0</td>\n",
       "      <td>0</td>\n",
       "      <td>1</td>\n",
       "    </tr>\n",
       "    <tr>\n",
       "      <th>2</th>\n",
       "      <td>502</td>\n",
       "      <td>0</td>\n",
       "      <td>42</td>\n",
       "      <td>8</td>\n",
       "      <td>159660.80</td>\n",
       "      <td>3</td>\n",
       "      <td>1</td>\n",
       "      <td>0</td>\n",
       "      <td>113931.57</td>\n",
       "      <td>1</td>\n",
       "      <td>1</td>\n",
       "      <td>0</td>\n",
       "      <td>0</td>\n",
       "    </tr>\n",
       "    <tr>\n",
       "      <th>3</th>\n",
       "      <td>699</td>\n",
       "      <td>0</td>\n",
       "      <td>39</td>\n",
       "      <td>1</td>\n",
       "      <td>0.00</td>\n",
       "      <td>2</td>\n",
       "      <td>0</td>\n",
       "      <td>0</td>\n",
       "      <td>93826.63</td>\n",
       "      <td>0</td>\n",
       "      <td>1</td>\n",
       "      <td>0</td>\n",
       "      <td>0</td>\n",
       "    </tr>\n",
       "    <tr>\n",
       "      <th>4</th>\n",
       "      <td>850</td>\n",
       "      <td>0</td>\n",
       "      <td>43</td>\n",
       "      <td>2</td>\n",
       "      <td>125510.82</td>\n",
       "      <td>1</td>\n",
       "      <td>1</td>\n",
       "      <td>1</td>\n",
       "      <td>79084.10</td>\n",
       "      <td>0</td>\n",
       "      <td>0</td>\n",
       "      <td>0</td>\n",
       "      <td>1</td>\n",
       "    </tr>\n",
       "  </tbody>\n",
       "</table>\n",
       "</div>"
      ],
      "text/plain": [
       "   CreditScore  Gender  Age  Tenure    Balance  NumOfProducts  HasCrCard  \\\n",
       "0          619       0   42       2       0.00              1          1   \n",
       "1          608       0   41       1   83807.86              1          0   \n",
       "2          502       0   42       8  159660.80              3          1   \n",
       "3          699       0   39       1       0.00              2          0   \n",
       "4          850       0   43       2  125510.82              1          1   \n",
       "\n",
       "   IsActiveMember  EstimatedSalary  Exited  Geography_France  \\\n",
       "0               1        101348.88       1                 1   \n",
       "1               1        112542.58       0                 0   \n",
       "2               0        113931.57       1                 1   \n",
       "3               0         93826.63       0                 1   \n",
       "4               1         79084.10       0                 0   \n",
       "\n",
       "   Geography_Germany  Geography_Spain  \n",
       "0                  0                0  \n",
       "1                  0                1  \n",
       "2                  0                0  \n",
       "3                  0                0  \n",
       "4                  0                1  "
      ]
     },
     "execution_count": 68,
     "metadata": {},
     "output_type": "execute_result"
    }
   ],
   "source": [
    "df_treino.head()"
   ]
  },
  {
   "cell_type": "markdown",
   "id": "1c19f312",
   "metadata": {},
   "source": [
    "As variáveis CreditScore, Balance e EstimatedSalary possuem escalas de grandezas distintas. Portanto, deixar as variáveis numa mesma escala para evitar que análises posteriores fiquem enviesadas para as variáveis de maior grandeza"
   ]
  },
  {
   "cell_type": "code",
   "execution_count": 69,
   "id": "c861dd54",
   "metadata": {},
   "outputs": [],
   "source": [
    "X_Treino=df_treino.drop(columns=['Exited'])"
   ]
  },
  {
   "cell_type": "code",
   "execution_count": 70,
   "id": "b2b419ec",
   "metadata": {},
   "outputs": [
    {
     "data": {
      "text/html": [
       "<div>\n",
       "<style scoped>\n",
       "    .dataframe tbody tr th:only-of-type {\n",
       "        vertical-align: middle;\n",
       "    }\n",
       "\n",
       "    .dataframe tbody tr th {\n",
       "        vertical-align: top;\n",
       "    }\n",
       "\n",
       "    .dataframe thead th {\n",
       "        text-align: right;\n",
       "    }\n",
       "</style>\n",
       "<table border=\"1\" class=\"dataframe\">\n",
       "  <thead>\n",
       "    <tr style=\"text-align: right;\">\n",
       "      <th></th>\n",
       "      <th>CreditScore</th>\n",
       "      <th>Gender</th>\n",
       "      <th>Age</th>\n",
       "      <th>Tenure</th>\n",
       "      <th>Balance</th>\n",
       "      <th>NumOfProducts</th>\n",
       "      <th>HasCrCard</th>\n",
       "      <th>IsActiveMember</th>\n",
       "      <th>EstimatedSalary</th>\n",
       "      <th>Geography_France</th>\n",
       "      <th>Geography_Germany</th>\n",
       "      <th>Geography_Spain</th>\n",
       "    </tr>\n",
       "  </thead>\n",
       "  <tbody>\n",
       "    <tr>\n",
       "      <th>0</th>\n",
       "      <td>619</td>\n",
       "      <td>0</td>\n",
       "      <td>42</td>\n",
       "      <td>2</td>\n",
       "      <td>0.00</td>\n",
       "      <td>1</td>\n",
       "      <td>1</td>\n",
       "      <td>1</td>\n",
       "      <td>101348.88</td>\n",
       "      <td>1</td>\n",
       "      <td>0</td>\n",
       "      <td>0</td>\n",
       "    </tr>\n",
       "    <tr>\n",
       "      <th>1</th>\n",
       "      <td>608</td>\n",
       "      <td>0</td>\n",
       "      <td>41</td>\n",
       "      <td>1</td>\n",
       "      <td>83807.86</td>\n",
       "      <td>1</td>\n",
       "      <td>0</td>\n",
       "      <td>1</td>\n",
       "      <td>112542.58</td>\n",
       "      <td>0</td>\n",
       "      <td>0</td>\n",
       "      <td>1</td>\n",
       "    </tr>\n",
       "    <tr>\n",
       "      <th>2</th>\n",
       "      <td>502</td>\n",
       "      <td>0</td>\n",
       "      <td>42</td>\n",
       "      <td>8</td>\n",
       "      <td>159660.80</td>\n",
       "      <td>3</td>\n",
       "      <td>1</td>\n",
       "      <td>0</td>\n",
       "      <td>113931.57</td>\n",
       "      <td>1</td>\n",
       "      <td>0</td>\n",
       "      <td>0</td>\n",
       "    </tr>\n",
       "    <tr>\n",
       "      <th>3</th>\n",
       "      <td>699</td>\n",
       "      <td>0</td>\n",
       "      <td>39</td>\n",
       "      <td>1</td>\n",
       "      <td>0.00</td>\n",
       "      <td>2</td>\n",
       "      <td>0</td>\n",
       "      <td>0</td>\n",
       "      <td>93826.63</td>\n",
       "      <td>1</td>\n",
       "      <td>0</td>\n",
       "      <td>0</td>\n",
       "    </tr>\n",
       "    <tr>\n",
       "      <th>4</th>\n",
       "      <td>850</td>\n",
       "      <td>0</td>\n",
       "      <td>43</td>\n",
       "      <td>2</td>\n",
       "      <td>125510.82</td>\n",
       "      <td>1</td>\n",
       "      <td>1</td>\n",
       "      <td>1</td>\n",
       "      <td>79084.10</td>\n",
       "      <td>0</td>\n",
       "      <td>0</td>\n",
       "      <td>1</td>\n",
       "    </tr>\n",
       "  </tbody>\n",
       "</table>\n",
       "</div>"
      ],
      "text/plain": [
       "   CreditScore  Gender  Age  Tenure    Balance  NumOfProducts  HasCrCard  \\\n",
       "0          619       0   42       2       0.00              1          1   \n",
       "1          608       0   41       1   83807.86              1          0   \n",
       "2          502       0   42       8  159660.80              3          1   \n",
       "3          699       0   39       1       0.00              2          0   \n",
       "4          850       0   43       2  125510.82              1          1   \n",
       "\n",
       "   IsActiveMember  EstimatedSalary  Geography_France  Geography_Germany  \\\n",
       "0               1        101348.88                 1                  0   \n",
       "1               1        112542.58                 0                  0   \n",
       "2               0        113931.57                 1                  0   \n",
       "3               0         93826.63                 1                  0   \n",
       "4               1         79084.10                 0                  0   \n",
       "\n",
       "   Geography_Spain  \n",
       "0                0  \n",
       "1                1  \n",
       "2                0  \n",
       "3                0  \n",
       "4                1  "
      ]
     },
     "execution_count": 70,
     "metadata": {},
     "output_type": "execute_result"
    }
   ],
   "source": [
    "X_Treino.head()"
   ]
  },
  {
   "cell_type": "code",
   "execution_count": 71,
   "id": "9ae470c4",
   "metadata": {},
   "outputs": [],
   "source": [
    "sc = MinMaxScaler()"
   ]
  },
  {
   "cell_type": "code",
   "execution_count": 72,
   "id": "e87a9613",
   "metadata": {},
   "outputs": [
    {
     "data": {
      "text/html": [
       "<div>\n",
       "<style scoped>\n",
       "    .dataframe tbody tr th:only-of-type {\n",
       "        vertical-align: middle;\n",
       "    }\n",
       "\n",
       "    .dataframe tbody tr th {\n",
       "        vertical-align: top;\n",
       "    }\n",
       "\n",
       "    .dataframe thead th {\n",
       "        text-align: right;\n",
       "    }\n",
       "</style>\n",
       "<table border=\"1\" class=\"dataframe\">\n",
       "  <thead>\n",
       "    <tr style=\"text-align: right;\">\n",
       "      <th></th>\n",
       "      <th>CreditScore</th>\n",
       "      <th>Gender</th>\n",
       "      <th>Age</th>\n",
       "      <th>Tenure</th>\n",
       "      <th>Balance</th>\n",
       "      <th>NumOfProducts</th>\n",
       "      <th>HasCrCard</th>\n",
       "      <th>IsActiveMember</th>\n",
       "      <th>EstimatedSalary</th>\n",
       "      <th>Geography_France</th>\n",
       "      <th>Geography_Germany</th>\n",
       "      <th>Geography_Spain</th>\n",
       "    </tr>\n",
       "  </thead>\n",
       "  <tbody>\n",
       "    <tr>\n",
       "      <th>0</th>\n",
       "      <td>0.538</td>\n",
       "      <td>0</td>\n",
       "      <td>42</td>\n",
       "      <td>2</td>\n",
       "      <td>0.000000</td>\n",
       "      <td>1</td>\n",
       "      <td>1</td>\n",
       "      <td>1</td>\n",
       "      <td>0.506735</td>\n",
       "      <td>1</td>\n",
       "      <td>0</td>\n",
       "      <td>0</td>\n",
       "    </tr>\n",
       "    <tr>\n",
       "      <th>1</th>\n",
       "      <td>0.516</td>\n",
       "      <td>0</td>\n",
       "      <td>41</td>\n",
       "      <td>1</td>\n",
       "      <td>0.334031</td>\n",
       "      <td>1</td>\n",
       "      <td>0</td>\n",
       "      <td>1</td>\n",
       "      <td>0.562709</td>\n",
       "      <td>0</td>\n",
       "      <td>0</td>\n",
       "      <td>1</td>\n",
       "    </tr>\n",
       "    <tr>\n",
       "      <th>2</th>\n",
       "      <td>0.304</td>\n",
       "      <td>0</td>\n",
       "      <td>42</td>\n",
       "      <td>8</td>\n",
       "      <td>0.636357</td>\n",
       "      <td>3</td>\n",
       "      <td>1</td>\n",
       "      <td>0</td>\n",
       "      <td>0.569654</td>\n",
       "      <td>1</td>\n",
       "      <td>0</td>\n",
       "      <td>0</td>\n",
       "    </tr>\n",
       "    <tr>\n",
       "      <th>3</th>\n",
       "      <td>0.698</td>\n",
       "      <td>0</td>\n",
       "      <td>39</td>\n",
       "      <td>1</td>\n",
       "      <td>0.000000</td>\n",
       "      <td>2</td>\n",
       "      <td>0</td>\n",
       "      <td>0</td>\n",
       "      <td>0.469120</td>\n",
       "      <td>1</td>\n",
       "      <td>0</td>\n",
       "      <td>0</td>\n",
       "    </tr>\n",
       "    <tr>\n",
       "      <th>4</th>\n",
       "      <td>1.000</td>\n",
       "      <td>0</td>\n",
       "      <td>43</td>\n",
       "      <td>2</td>\n",
       "      <td>0.500246</td>\n",
       "      <td>1</td>\n",
       "      <td>1</td>\n",
       "      <td>1</td>\n",
       "      <td>0.395400</td>\n",
       "      <td>0</td>\n",
       "      <td>0</td>\n",
       "      <td>1</td>\n",
       "    </tr>\n",
       "  </tbody>\n",
       "</table>\n",
       "</div>"
      ],
      "text/plain": [
       "   CreditScore  Gender  Age  Tenure   Balance  NumOfProducts  HasCrCard  \\\n",
       "0        0.538       0   42       2  0.000000              1          1   \n",
       "1        0.516       0   41       1  0.334031              1          0   \n",
       "2        0.304       0   42       8  0.636357              3          1   \n",
       "3        0.698       0   39       1  0.000000              2          0   \n",
       "4        1.000       0   43       2  0.500246              1          1   \n",
       "\n",
       "   IsActiveMember  EstimatedSalary  Geography_France  Geography_Germany  \\\n",
       "0               1         0.506735                 1                  0   \n",
       "1               1         0.562709                 0                  0   \n",
       "2               0         0.569654                 1                  0   \n",
       "3               0         0.469120                 1                  0   \n",
       "4               1         0.395400                 0                  0   \n",
       "\n",
       "   Geography_Spain  \n",
       "0                0  \n",
       "1                1  \n",
       "2                0  \n",
       "3                0  \n",
       "4                1  "
      ]
     },
     "execution_count": 72,
     "metadata": {},
     "output_type": "execute_result"
    }
   ],
   "source": [
    "X_Treino[['CreditScore','Balance','EstimatedSalary']] = sc.fit_transform(X_Treino[['CreditScore','Balance','EstimatedSalary']])\n",
    "X_Treino.head()"
   ]
  },
  {
   "cell_type": "code",
   "execution_count": 73,
   "id": "7be4093a",
   "metadata": {},
   "outputs": [
    {
     "data": {
      "text/html": [
       "<div>\n",
       "<style scoped>\n",
       "    .dataframe tbody tr th:only-of-type {\n",
       "        vertical-align: middle;\n",
       "    }\n",
       "\n",
       "    .dataframe tbody tr th {\n",
       "        vertical-align: top;\n",
       "    }\n",
       "\n",
       "    .dataframe thead th {\n",
       "        text-align: right;\n",
       "    }\n",
       "</style>\n",
       "<table border=\"1\" class=\"dataframe\">\n",
       "  <thead>\n",
       "    <tr style=\"text-align: right;\">\n",
       "      <th></th>\n",
       "      <th>CreditScore</th>\n",
       "      <th>Gender</th>\n",
       "      <th>Age</th>\n",
       "      <th>Tenure</th>\n",
       "      <th>Balance</th>\n",
       "      <th>NumOfProducts</th>\n",
       "      <th>HasCrCard</th>\n",
       "      <th>IsActiveMember</th>\n",
       "      <th>EstimatedSalary</th>\n",
       "      <th>Geography_France</th>\n",
       "      <th>Geography_Germany</th>\n",
       "      <th>Geography_Spain</th>\n",
       "    </tr>\n",
       "  </thead>\n",
       "  <tbody>\n",
       "    <tr>\n",
       "      <th>0</th>\n",
       "      <td>0.411157</td>\n",
       "      <td>1</td>\n",
       "      <td>31</td>\n",
       "      <td>1</td>\n",
       "      <td>0.000000</td>\n",
       "      <td>1</td>\n",
       "      <td>0</td>\n",
       "      <td>1</td>\n",
       "      <td>0.101298</td>\n",
       "      <td>1</td>\n",
       "      <td>0</td>\n",
       "      <td>0</td>\n",
       "    </tr>\n",
       "    <tr>\n",
       "      <th>1</th>\n",
       "      <td>0.419421</td>\n",
       "      <td>1</td>\n",
       "      <td>34</td>\n",
       "      <td>4</td>\n",
       "      <td>0.000000</td>\n",
       "      <td>1</td>\n",
       "      <td>0</td>\n",
       "      <td>1</td>\n",
       "      <td>0.019060</td>\n",
       "      <td>1</td>\n",
       "      <td>0</td>\n",
       "      <td>0</td>\n",
       "    </tr>\n",
       "    <tr>\n",
       "      <th>2</th>\n",
       "      <td>0.626033</td>\n",
       "      <td>0</td>\n",
       "      <td>20</td>\n",
       "      <td>7</td>\n",
       "      <td>0.000000</td>\n",
       "      <td>2</td>\n",
       "      <td>1</td>\n",
       "      <td>0</td>\n",
       "      <td>0.644939</td>\n",
       "      <td>1</td>\n",
       "      <td>0</td>\n",
       "      <td>0</td>\n",
       "    </tr>\n",
       "    <tr>\n",
       "      <th>3</th>\n",
       "      <td>0.677686</td>\n",
       "      <td>1</td>\n",
       "      <td>39</td>\n",
       "      <td>4</td>\n",
       "      <td>0.819096</td>\n",
       "      <td>1</td>\n",
       "      <td>1</td>\n",
       "      <td>1</td>\n",
       "      <td>0.406481</td>\n",
       "      <td>1</td>\n",
       "      <td>0</td>\n",
       "      <td>0</td>\n",
       "    </tr>\n",
       "    <tr>\n",
       "      <th>4</th>\n",
       "      <td>0.285124</td>\n",
       "      <td>1</td>\n",
       "      <td>28</td>\n",
       "      <td>10</td>\n",
       "      <td>0.516695</td>\n",
       "      <td>1</td>\n",
       "      <td>1</td>\n",
       "      <td>1</td>\n",
       "      <td>0.939612</td>\n",
       "      <td>0</td>\n",
       "      <td>0</td>\n",
       "      <td>1</td>\n",
       "    </tr>\n",
       "  </tbody>\n",
       "</table>\n",
       "</div>"
      ],
      "text/plain": [
       "   CreditScore  Gender  Age  Tenure   Balance  NumOfProducts  HasCrCard  \\\n",
       "0     0.411157       1   31       1  0.000000              1          0   \n",
       "1     0.419421       1   34       4  0.000000              1          0   \n",
       "2     0.626033       0   20       7  0.000000              2          1   \n",
       "3     0.677686       1   39       4  0.819096              1          1   \n",
       "4     0.285124       1   28      10  0.516695              1          1   \n",
       "\n",
       "   IsActiveMember  EstimatedSalary  Geography_France  Geography_Germany  \\\n",
       "0               1         0.101298                 1                  0   \n",
       "1               1         0.019060                 1                  0   \n",
       "2               0         0.644939                 1                  0   \n",
       "3               1         0.406481                 1                  0   \n",
       "4               1         0.939612                 0                  0   \n",
       "\n",
       "   Geography_Spain  \n",
       "0                0  \n",
       "1                0  \n",
       "2                0  \n",
       "3                0  \n",
       "4                1  "
      ]
     },
     "execution_count": 73,
     "metadata": {},
     "output_type": "execute_result"
    }
   ],
   "source": [
    "df_teste[['CreditScore','Balance','EstimatedSalary']] = sc.fit_transform(df_teste[['CreditScore','Balance','EstimatedSalary']])\n",
    "df_teste.head()"
   ]
  },
  {
   "cell_type": "markdown",
   "id": "13263d20",
   "metadata": {},
   "source": [
    "3.2.2. Seleção das variáveis X (Redução da dimensionalidade = redução de variáveis)  "
   ]
  },
  {
   "cell_type": "markdown",
   "id": "aac0a2a2",
   "metadata": {},
   "source": [
    "Três técnicas usadas: Random Forest, RFE e SelectKBest"
   ]
  },
  {
   "cell_type": "markdown",
   "id": "d033f9af",
   "metadata": {},
   "source": [
    "3.2.2.1. Random Forest (RF)"
   ]
  },
  {
   "cell_type": "code",
   "execution_count": 74,
   "id": "0af02f4d",
   "metadata": {},
   "outputs": [
    {
     "data": {
      "text/plain": [
       "RandomForestClassifier()"
      ]
     },
     "execution_count": 74,
     "metadata": {},
     "output_type": "execute_result"
    }
   ],
   "source": [
    "model = RandomForestClassifier()\n",
    "model.fit(X_Treino,y)"
   ]
  },
  {
   "cell_type": "code",
   "execution_count": 75,
   "id": "b7c4d6b1",
   "metadata": {},
   "outputs": [
    {
     "data": {
      "text/plain": [
       "<AxesSubplot:>"
      ]
     },
     "execution_count": 75,
     "metadata": {},
     "output_type": "execute_result"
    },
    {
     "data": {
      "image/png": "[encoded data removed]",
      "text/plain": [
       "<Figure size 432x288 with 1 Axes>"
      ]
     },
     "metadata": {
      "needs_background": "light"
     },
     "output_type": "display_data"
    }
   ],
   "source": [
    "sns.barplot(y= X_Treino.columns, x = model.feature_importances_)"
   ]
  },
  {
   "cell_type": "markdown",
   "id": "8a78e685",
   "metadata": {},
   "source": [
    "3.2.2.2. Recursive Feature Elimination (RFE) with Random Forest (RF)"
   ]
  },
  {
   "cell_type": "code",
   "execution_count": 76,
   "id": "7f2fb895",
   "metadata": {},
   "outputs": [],
   "source": [
    "selector = RFE(model, n_features_to_select=6)\n",
    "x_feature_selected = selector.fit_transform(X_Treino, y)"
   ]
  },
  {
   "cell_type": "code",
   "execution_count": 77,
   "id": "00f7f2c6",
   "metadata": {},
   "outputs": [
    {
     "data": {
      "text/plain": [
       "Index(['CreditScore', 'Age', 'Tenure', 'Balance', 'NumOfProducts',\n",
       "       'EstimatedSalary'],\n",
       "      dtype='object')"
      ]
     },
     "execution_count": 77,
     "metadata": {},
     "output_type": "execute_result"
    }
   ],
   "source": [
    "X_Treino.columns[selector.get_support(indices=True)]"
   ]
  },
  {
   "cell_type": "markdown",
   "id": "30c2389e",
   "metadata": {},
   "source": [
    "3.2.2.3. SelectKBest"
   ]
  },
  {
   "cell_type": "code",
   "execution_count": 78,
   "id": "7a75e97e",
   "metadata": {},
   "outputs": [],
   "source": [
    "selector = SelectKBest(f_classif, k=6)\n",
    "X_Treino_feature_selected = selector.fit_transform(X_Treino, y)"
   ]
  },
  {
   "cell_type": "code",
   "execution_count": 79,
   "id": "13c9b591",
   "metadata": {},
   "outputs": [
    {
     "data": {
      "text/plain": [
       "Index(['Gender', 'Age', 'Balance', 'IsActiveMember', 'Geography_France',\n",
       "       'Geography_Germany'],\n",
       "      dtype='object')"
      ]
     },
     "execution_count": 79,
     "metadata": {},
     "output_type": "execute_result"
    }
   ],
   "source": [
    "X_Treino.columns[selector.get_support(indices=True)]"
   ]
  },
  {
   "cell_type": "code",
   "execution_count": 80,
   "id": "4db2c25c",
   "metadata": {},
   "outputs": [
    {
     "data": {
      "text/plain": [
       "<AxesSubplot:>"
      ]
     },
     "execution_count": 80,
     "metadata": {},
     "output_type": "execute_result"
    },
    {
     "data": {
      "image/png": "[encoded data removed]",
      "text/plain": [
       "<Figure size 432x288 with 1 Axes>"
      ]
     },
     "metadata": {
      "needs_background": "light"
     },
     "output_type": "display_data"
    }
   ],
   "source": [
    "sns.barplot(y=X_Treino.columns, x = selector.scores_)"
   ]
  },
  {
   "cell_type": "markdown",
   "id": "0d890db9",
   "metadata": {},
   "source": [
    "Geography_Spain e HasCrCard foram as únicas que não apareceram entre as seis variáveis mais importantes nas três abordagens usadas acima. Sendo assim, inicialmente, vou ajustar modelos  usando todas as variáveis. Caso não obtenha boa performe dos mesmos, retorno para essa questão, ou seja, , ajustar modelos sem as duas variáveis (Geography_Sapin e HasCrCard)   "
   ]
  },
  {
   "cell_type": "markdown",
   "id": "ef0c25d7",
   "metadata": {},
   "source": [
    "3.2.2. Balanceamento da variável alvo (Exited) \n",
    "- Gerar novas observações da classe minoritária usando o algoritmo SMOTE (Synthetic Minority Oversampling Technique). No caso do presente projeto, a classe minoritária é o abandono de clientes (churn) junto à instituição financeira"
   ]
  },
  {
   "cell_type": "code",
   "execution_count": 81,
   "id": "22fb670e",
   "metadata": {},
   "outputs": [],
   "source": [
    "smote = SMOTE()"
   ]
  },
  {
   "cell_type": "code",
   "execution_count": 82,
   "id": "bc36e2b2",
   "metadata": {},
   "outputs": [],
   "source": [
    "X_Treino_balanceado, y_balanceado = smote.fit_resample(X_Treino, y)"
   ]
  },
  {
   "cell_type": "code",
   "execution_count": 83,
   "id": "65286f36",
   "metadata": {},
   "outputs": [
    {
     "data": {
      "text/plain": [
       "0    1\n",
       "Name: Exited, dtype: int64"
      ]
     },
     "execution_count": 83,
     "metadata": {},
     "output_type": "execute_result"
    }
   ],
   "source": [
    "y_balanceado = pd.Series(y_balanceado, name=y.name)\n",
    "y_balanceado.head(1)"
   ]
  },
  {
   "cell_type": "markdown",
   "id": "d8c97189",
   "metadata": {},
   "source": [
    "Verificar se gerou novas observações da classe minoritária   "
   ]
  },
  {
   "cell_type": "code",
   "execution_count": 84,
   "id": "7abfe0fd",
   "metadata": {},
   "outputs": [
    {
     "data": {
      "image/png": "[encoded data removed]",
      "text/plain": [
       "<Figure size 432x288 with 1 Axes>"
      ]
     },
     "metadata": {
      "needs_background": "light"
     },
     "output_type": "display_data"
    }
   ],
   "source": [
    "ax = sns.countplot(x=y_balanceado)\n",
    "ax.set_ylabel(\"Quantidade de clientes\")\n",
    "ax.set_xlabel(\"Exited\");"
   ]
  },
  {
   "cell_type": "markdown",
   "id": "d633f8b6",
   "metadata": {},
   "source": [
    "4. Modelagem (Modelo de Classificação, pois a variável alvo (Exited) é binária 0 ou 1)\n",
    "\n",
    "4.1. Geração (criação) dos modelos e avaliação dos modelos "
   ]
  },
  {
   "cell_type": "markdown",
   "id": "9d35b1ad",
   "metadata": {},
   "source": [
    "4.1.1. Primeiro modelo (Regressão Logística)"
   ]
  },
  {
   "cell_type": "code",
   "execution_count": 85,
   "id": "9beb555d",
   "metadata": {},
   "outputs": [],
   "source": [
    "classifierLR = LogisticRegression(max_iter=500, random_state = 42)"
   ]
  },
  {
   "cell_type": "markdown",
   "id": "68691d22",
   "metadata": {},
   "source": [
    "4.1.1.1. Dados desbalanceados"
   ]
  },
  {
   "cell_type": "code",
   "execution_count": 86,
   "id": "ea6d9d49",
   "metadata": {},
   "outputs": [],
   "source": [
    "# Creating Logistic Regression list of metrics\n",
    "logistic_regression_sem_balancear = []\n",
    "\n",
    "# Cross validating the model\n",
    "cv_result = cross_validate(classifierLR, X_Treino, y, cv=10,\n",
    "                            scoring=['accuracy',\n",
    "                                      'precision',\n",
    "                                      'recall',\n",
    "                                      'f1',\n",
    "                                      'roc_auc'])\n",
    "\n",
    "# Appending metrics to Logistic Regression list\n",
    "for i in ['test_accuracy','test_precision','test_recall','test_f1','test_roc_auc']:\n",
    "  logistic_regression_sem_balancear.append(cv_result[i].mean())"
   ]
  },
  {
   "cell_type": "code",
   "execution_count": 87,
   "id": "4e1ca2dc",
   "metadata": {},
   "outputs": [
    {
     "data": {
      "text/plain": [
       "[0.8098000000000001,\n",
       " 0.5961425526650028,\n",
       " 0.21162223510093692,\n",
       " 0.3108457701518028,\n",
       " 0.7661327514611408]"
      ]
     },
     "execution_count": 87,
     "metadata": {},
     "output_type": "execute_result"
    }
   ],
   "source": [
    "# Printing the Logistic Regression metrics\n",
    "logistic_regression_sem_balancear"
   ]
  },
  {
   "cell_type": "markdown",
   "id": "09c2b7a7",
   "metadata": {},
   "source": [
    "4.1.1.2. Dados balanceados"
   ]
  },
  {
   "cell_type": "code",
   "execution_count": 88,
   "id": "bfd7ae85",
   "metadata": {},
   "outputs": [],
   "source": [
    "# Creating Logistic Regression list of metrics\n",
    "logistic_regression_balanceado = []\n",
    "\n",
    "# Cross validating the model\n",
    "cv_result = cross_validate(classifierLR, X_Treino_balanceado, y_balanceado, cv=10,\n",
    "                       # Printing the Logistic Regression metrics\n",
    "                              scoring=['accuracy',\n",
    "                                      'precision',\n",
    "                                      'recall',\n",
    "                                      'f1',\n",
    "                                      'roc_auc'])\n",
    "\n",
    "# Appending metrics to Logistic Regression list\n",
    "for i in ['test_accuracy','test_precision','test_recall','test_f1','test_roc_auc']:\n",
    "  logistic_regression_balanceado.append(cv_result[i].mean())"
   ]
  },
  {
   "cell_type": "code",
   "execution_count": 89,
   "id": "fa69489b",
   "metadata": {},
   "outputs": [
    {
     "data": {
      "text/plain": [
       "[0.75882961574981,\n",
       " 0.7645039613979744,\n",
       " 0.7457477159952838,\n",
       " 0.7530394233193525,\n",
       " 0.8428336442082547]"
      ]
     },
     "execution_count": 89,
     "metadata": {},
     "output_type": "execute_result"
    }
   ],
   "source": [
    "# Printing the Logistic Regression metrics\n",
    "logistic_regression_balanceado"
   ]
  },
  {
   "cell_type": "markdown",
   "id": "e97274a1",
   "metadata": {},
   "source": [
    "4.1.2. Segundo modelo (Naive Bayes)"
   ]
  },
  {
   "cell_type": "code",
   "execution_count": 90,
   "id": "f9eaab28",
   "metadata": {},
   "outputs": [],
   "source": [
    "classifierNB = GaussianNB()"
   ]
  },
  {
   "cell_type": "markdown",
   "id": "e9d5213e",
   "metadata": {},
   "source": [
    "4.1.2.1. Dados desbalanceados"
   ]
  },
  {
   "cell_type": "code",
   "execution_count": 91,
   "id": "f029279f",
   "metadata": {},
   "outputs": [],
   "source": [
    "# Creating Gaussian Naive Bayes list of metrics\n",
    "naive_bayes_sem_balancear = []\n",
    "\n",
    "# Cross validating the model\n",
    "cv_result = cross_validate(classifierNB, X_Treino, y, cv=10,\n",
    "                            scoring=['accuracy',\n",
    "                                      'precision',\n",
    "                                      'recall',\n",
    "                                      'f1',\n",
    "                                      'roc_auc'])\n",
    "\n",
    "# Appending metrics to Gaussian Naive Bayes list\n",
    "for i in ['test_accuracy','test_precision','test_recall','test_f1','test_roc_auc']:\n",
    "  naive_bayes_sem_balancear.append(cv_result[i].mean())"
   ]
  },
  {
   "cell_type": "code",
   "execution_count": 92,
   "id": "0b11e162",
   "metadata": {},
   "outputs": [
    {
     "data": {
      "text/plain": [
       "[0.8187,\n",
       " 0.5892423243275735,\n",
       " 0.3696657973534241,\n",
       " 0.4534118831665996,\n",
       " 0.7839032521924916]"
      ]
     },
     "execution_count": 92,
     "metadata": {},
     "output_type": "execute_result"
    }
   ],
   "source": [
    "# Printing the Gaussian Naive Bayes metrics\n",
    "naive_bayes_sem_balancear"
   ]
  },
  {
   "cell_type": "markdown",
   "id": "9b71d9dd",
   "metadata": {},
   "source": [
    "4.1.2.2. Dados balanceados"
   ]
  },
  {
   "cell_type": "code",
   "execution_count": 93,
   "id": "d431f48e",
   "metadata": {},
   "outputs": [],
   "source": [
    "# Creating Gaussian Naive Bayes list of metrics\n",
    "naive_bayes_balanceado = []\n",
    "\n",
    "# Cross validating the model\n",
    "cv_result = cross_validate(classifierNB, X_Treino_balanceado, y_balanceado, cv=10,\n",
    "                            scoring=['accuracy',\n",
    "                                      'precision',\n",
    "                                      'recall',\n",
    "                                      'f1',\n",
    "                                      'roc_auc'])\n",
    "\n",
    "# Appending metrics to Gaussian Naive Bayes list\n",
    "for i in ['test_accuracy','test_precision','test_recall','test_f1','test_roc_auc']:\n",
    "  naive_bayes_balanceado.append(cv_result[i].mean())"
   ]
  },
  {
   "cell_type": "code",
   "execution_count": 94,
   "id": "d542e93f",
   "metadata": {},
   "outputs": [
    {
     "data": {
      "text/plain": [
       "[0.749784783932216,\n",
       " 0.7570778853230276,\n",
       " 0.7348070339148692,\n",
       " 0.744693783139605,\n",
       " 0.8284785968232619]"
      ]
     },
     "execution_count": 94,
     "metadata": {},
     "output_type": "execute_result"
    }
   ],
   "source": [
    "# Printing the Gaussian Naive Bayes metrics\n",
    "naive_bayes_balanceado"
   ]
  },
  {
   "cell_type": "markdown",
   "id": "e28c84be",
   "metadata": {},
   "source": [
    "4.1.3. Terceiro modelo (Random Forest - RF)"
   ]
  },
  {
   "cell_type": "code",
   "execution_count": 95,
   "id": "c0d9981b",
   "metadata": {},
   "outputs": [],
   "source": [
    "classifierRF = RandomForestClassifier(random_state = 42)"
   ]
  },
  {
   "cell_type": "markdown",
   "id": "2701a89b",
   "metadata": {},
   "source": [
    "4.1.3.1. Dados desbalanceados"
   ]
  },
  {
   "cell_type": "code",
   "execution_count": 96,
   "id": "f39e9c50",
   "metadata": {},
   "outputs": [],
   "source": [
    "# Creating Random Forest list of metrics\n",
    "random_forest_sem_balancear = []\n",
    "\n",
    "# Cross validating the model\n",
    "cv_result = cross_validate(classifierRF, X_Treino, y, cv=10,\n",
    "                            scoring=['accuracy',\n",
    "                                      'precision',\n",
    "                                      'recall',\n",
    "                                      'f1',\n",
    "                                      'roc_auc'])\n",
    "\n",
    "# Appending metrics to Random Forest list\n",
    "for i in ['test_accuracy','test_precision','test_recall','test_f1','test_roc_auc']:\n",
    "  random_forest_sem_balancear.append(cv_result[i].mean())"
   ]
  },
  {
   "cell_type": "code",
   "execution_count": 97,
   "id": "acbee52b",
   "metadata": {},
   "outputs": [
    {
     "data": {
      "text/plain": [
       "[0.8630000000000001,\n",
       " 0.7705378586364408,\n",
       " 0.46785231333912874,\n",
       " 0.5809749250078682,\n",
       " 0.8515074719404115]"
      ]
     },
     "execution_count": 97,
     "metadata": {},
     "output_type": "execute_result"
    }
   ],
   "source": [
    "# Printing the RF metrics\n",
    "random_forest_sem_balancear"
   ]
  },
  {
   "cell_type": "markdown",
   "id": "304ddd0b",
   "metadata": {},
   "source": [
    "4.1.3.2. Dados balanceados"
   ]
  },
  {
   "cell_type": "code",
   "execution_count": 98,
   "id": "729e2e44",
   "metadata": {},
   "outputs": [],
   "source": [
    "# Creating Random Forest list of metrics\n",
    "random_forest_balanceado = []\n",
    "\n",
    "# Cross validating the model\n",
    "cv_result = cross_validate(classifierRF, X_Treino_balanceado, y_balanceado, cv=10,\n",
    "                            scoring=['accuracy',\n",
    "                                      'precision',\n",
    "                                      'recall',\n",
    "                                      'f1',\n",
    "                                      'roc_auc'])\n",
    "\n",
    "# Appending metrics to Random Forest list\n",
    "for i in ['test_accuracy','test_precision','test_recall','test_f1','test_roc_auc']:\n",
    "  random_forest_balanceado.append(cv_result[i].mean())"
   ]
  },
  {
   "cell_type": "code",
   "execution_count": 99,
   "id": "9c39bfc3",
   "metadata": {},
   "outputs": [
    {
     "data": {
      "text/plain": [
       "[0.8903116887008805,\n",
       " 0.887939178373532,\n",
       " 0.8925490060087136,\n",
       " 0.8885899979920234,\n",
       " 0.9552211756832116]"
      ]
     },
     "execution_count": 99,
     "metadata": {},
     "output_type": "execute_result"
    }
   ],
   "source": [
    "# Printing the RF metrics\n",
    "random_forest_balanceado"
   ]
  },
  {
   "cell_type": "markdown",
   "id": "7e0fdec3",
   "metadata": {},
   "source": [
    "4.1.4. Quarto modelo (Decision Tree)"
   ]
  },
  {
   "cell_type": "code",
   "execution_count": 100,
   "id": "c33ceab3",
   "metadata": {},
   "outputs": [],
   "source": [
    "classifierDT = DecisionTreeClassifier(random_state = 42)"
   ]
  },
  {
   "cell_type": "markdown",
   "id": "a2c22455",
   "metadata": {},
   "source": [
    "4.1.4.1. Dados desbalanceados"
   ]
  },
  {
   "cell_type": "code",
   "execution_count": 101,
   "id": "c1ccda60",
   "metadata": {},
   "outputs": [],
   "source": [
    "# Creating Decision Tree list of metrics\n",
    "decision_tree_sem_balancear = []\n",
    "\n",
    "# Cross validating the model\n",
    "cv_result = cross_validate(classifierDT, X_Treino, y, cv=10,\n",
    "                            scoring=['accuracy',\n",
    "                                      'precision',\n",
    "                                      'recall',\n",
    "                                      'f1',\n",
    "                                      'roc_auc'])\n",
    "\n",
    "# Appending metrics to Decision Tree list\n",
    "for i in ['test_accuracy','test_precision','test_recall','test_f1','test_roc_auc']:\n",
    "  decision_tree_sem_balancear.append(cv_result[i].mean())"
   ]
  },
  {
   "cell_type": "code",
   "execution_count": 102,
   "id": "67cb962e",
   "metadata": {},
   "outputs": [
    {
     "data": {
      "text/plain": [
       "[0.792,\n",
       " 0.4893383370229999,\n",
       " 0.5130131362889984,\n",
       " 0.5005873097862061,\n",
       " 0.688191971320984]"
      ]
     },
     "execution_count": 102,
     "metadata": {},
     "output_type": "execute_result"
    }
   ],
   "source": [
    "# Printing the Decision Tree metrics\n",
    "decision_tree_sem_balancear"
   ]
  },
  {
   "cell_type": "markdown",
   "id": "31e9acc3",
   "metadata": {},
   "source": [
    "4.1.4.2. Dados Balanceados"
   ]
  },
  {
   "cell_type": "code",
   "execution_count": 103,
   "id": "c77b8bd6",
   "metadata": {},
   "outputs": [],
   "source": [
    "# Creating Decision Tree list of metrics\n",
    "decision_tree_balanceado = []\n",
    "\n",
    "# Cross validating the model\n",
    "cv_result = cross_validate(classifierDT, X_Treino_balanceado, y_balanceado, cv=10,\n",
    "                            scoring=['accuracy',\n",
    "                                      'precision',\n",
    "                                      'recall',\n",
    "                                      'f1',\n",
    "                                      'roc_auc'])\n",
    "\n",
    "# Appending metrics to Decision Tree list\n",
    "for i in ['test_accuracy','test_precision','test_recall','test_f1','test_roc_auc']:\n",
    "  decision_tree_balanceado.append(cv_result[i].mean())"
   ]
  },
  {
   "cell_type": "code",
   "execution_count": 104,
   "id": "8f5773d6",
   "metadata": {},
   "outputs": [
    {
     "data": {
      "text/plain": [
       "[0.8231241344828348,\n",
       " 0.8119698961270198,\n",
       " 0.8401762577000434,\n",
       " 0.8244526148422322,\n",
       " 0.8231388277649225]"
      ]
     },
     "execution_count": 104,
     "metadata": {},
     "output_type": "execute_result"
    }
   ],
   "source": [
    "# Printing the Decision Tree metrics\n",
    "decision_tree_balanceado"
   ]
  },
  {
   "cell_type": "markdown",
   "id": "3cf42dab",
   "metadata": {},
   "source": [
    "4.1.5. Quinto modelo (LGBM) "
   ]
  },
  {
   "cell_type": "code",
   "execution_count": 108,
   "id": "d80be656",
   "metadata": {},
   "outputs": [],
   "source": [
    "LGBM_model=LGBMClassifier(random_state=42)"
   ]
  },
  {
   "cell_type": "markdown",
   "id": "9f3fb24b",
   "metadata": {},
   "source": [
    "4.1.5.1. Dados desbalanceados"
   ]
  },
  {
   "cell_type": "code",
   "execution_count": 109,
   "id": "3d57ba09",
   "metadata": {},
   "outputs": [],
   "source": [
    "# Creating LGBM list of metrics\n",
    "LGBM_model_sem_balancear = []\n",
    "\n",
    "# Cross validating the model\n",
    "cv_result = cross_validate(LGBM_model, X_Treino, y, cv=10,\n",
    "                            scoring=['accuracy',\n",
    "                                      'precision',\n",
    "                                      'recall',\n",
    "                                      'f1',\n",
    "                                      'roc_auc'])\n",
    "\n",
    "# Appending metrics to LGBM list\n",
    "for i in ['test_accuracy','test_precision','test_recall','test_f1','test_roc_auc']:\n",
    "  LGBM_model_sem_balancear.append(cv_result[i].mean())"
   ]
  },
  {
   "cell_type": "code",
   "execution_count": 110,
   "id": "a77f1f8c",
   "metadata": {},
   "outputs": [
    {
     "data": {
      "text/plain": [
       "[0.8604,\n",
       " 0.7344783914452692,\n",
       " 0.4943470491644934,\n",
       " 0.5896946865730821,\n",
       " 0.8596630991335639]"
      ]
     },
     "execution_count": 110,
     "metadata": {},
     "output_type": "execute_result"
    }
   ],
   "source": [
    "# Printing the LGBM metrics\n",
    "LGBM_model_sem_balancear"
   ]
  },
  {
   "cell_type": "markdown",
   "id": "efe0b75a",
   "metadata": {},
   "source": [
    "4.1.5.2. Dados balanceados"
   ]
  },
  {
   "cell_type": "code",
   "execution_count": 111,
   "id": "16571713",
   "metadata": {},
   "outputs": [],
   "source": [
    "# Creating LGBM list of metrics\n",
    "LGBM_model_balanceado = []\n",
    "\n",
    "# Cross validating the model\n",
    "cv_result = cross_validate(LGBM_model, X_Treino_balanceado, y_balanceado, cv=10,\n",
    "                            scoring=['accuracy',\n",
    "                                      'precision',\n",
    "                                      'recall',\n",
    "                                      'f1',\n",
    "                                      'roc_auc'])\n",
    "\n",
    "# Appending metrics to LGBM list\n",
    "for i in ['test_accuracy','test_precision','test_recall','test_f1','test_roc_auc']:\n",
    "  LGBM_model_balanceado.append(cv_result[i].mean())"
   ]
  },
  {
   "cell_type": "code",
   "execution_count": 112,
   "id": "ecfc34c1",
   "metadata": {},
   "outputs": [
    {
     "data": {
      "text/plain": [
       "[0.8567820268953051,\n",
       " 0.863404785949937,\n",
       " 0.8468378593090925,\n",
       " 0.8531524375527338,\n",
       " 0.9349910732834807]"
      ]
     },
     "execution_count": 112,
     "metadata": {},
     "output_type": "execute_result"
    }
   ],
   "source": [
    "# Printing the LGBM metrics\n",
    "LGBM_model_balanceado"
   ]
  },
  {
   "cell_type": "markdown",
   "id": "88539b4f",
   "metadata": {},
   "source": [
    "4.2. Comparar as métricas dos modelos"
   ]
  },
  {
   "cell_type": "code",
   "execution_count": 113,
   "id": "bf341ac9",
   "metadata": {},
   "outputs": [
    {
     "data": {
      "text/html": [
       "<div>\n",
       "<style scoped>\n",
       "    .dataframe tbody tr th:only-of-type {\n",
       "        vertical-align: middle;\n",
       "    }\n",
       "\n",
       "    .dataframe tbody tr th {\n",
       "        vertical-align: top;\n",
       "    }\n",
       "\n",
       "    .dataframe thead th {\n",
       "        text-align: right;\n",
       "    }\n",
       "</style>\n",
       "<table border=\"1\" class=\"dataframe\">\n",
       "  <thead>\n",
       "    <tr style=\"text-align: right;\">\n",
       "      <th></th>\n",
       "      <th>Accuracy</th>\n",
       "      <th>Precision</th>\n",
       "      <th>Recall</th>\n",
       "      <th>F1 Score</th>\n",
       "      <th>AUROC</th>\n",
       "    </tr>\n",
       "  </thead>\n",
       "  <tbody>\n",
       "    <tr>\n",
       "      <th>Logistic Regression sem balancear</th>\n",
       "      <td>80.98</td>\n",
       "      <td>59.61</td>\n",
       "      <td>21.16</td>\n",
       "      <td>31.08</td>\n",
       "      <td>76.61</td>\n",
       "    </tr>\n",
       "    <tr>\n",
       "      <th>Logistic Regression balanceado</th>\n",
       "      <td>75.88</td>\n",
       "      <td>76.45</td>\n",
       "      <td>74.57</td>\n",
       "      <td>75.30</td>\n",
       "      <td>84.28</td>\n",
       "    </tr>\n",
       "    <tr>\n",
       "      <th>Naive Bayes sem balancear</th>\n",
       "      <td>81.87</td>\n",
       "      <td>58.92</td>\n",
       "      <td>36.97</td>\n",
       "      <td>45.34</td>\n",
       "      <td>78.39</td>\n",
       "    </tr>\n",
       "    <tr>\n",
       "      <th>Naive Bayes balanceado</th>\n",
       "      <td>74.98</td>\n",
       "      <td>75.71</td>\n",
       "      <td>73.48</td>\n",
       "      <td>74.47</td>\n",
       "      <td>82.85</td>\n",
       "    </tr>\n",
       "    <tr>\n",
       "      <th>Random Forest sem balancear</th>\n",
       "      <td>86.30</td>\n",
       "      <td>77.05</td>\n",
       "      <td>46.79</td>\n",
       "      <td>58.10</td>\n",
       "      <td>85.15</td>\n",
       "    </tr>\n",
       "    <tr>\n",
       "      <th>Random Forest balanceado</th>\n",
       "      <td>89.03</td>\n",
       "      <td>88.79</td>\n",
       "      <td>89.25</td>\n",
       "      <td>88.86</td>\n",
       "      <td>95.52</td>\n",
       "    </tr>\n",
       "    <tr>\n",
       "      <th>Decision Tree sem balancear</th>\n",
       "      <td>79.20</td>\n",
       "      <td>48.93</td>\n",
       "      <td>51.30</td>\n",
       "      <td>50.06</td>\n",
       "      <td>68.82</td>\n",
       "    </tr>\n",
       "    <tr>\n",
       "      <th>Decision Tree balanceado</th>\n",
       "      <td>82.31</td>\n",
       "      <td>81.20</td>\n",
       "      <td>84.02</td>\n",
       "      <td>82.45</td>\n",
       "      <td>82.31</td>\n",
       "    </tr>\n",
       "    <tr>\n",
       "      <th>LGBM sem balancear</th>\n",
       "      <td>86.04</td>\n",
       "      <td>73.45</td>\n",
       "      <td>49.43</td>\n",
       "      <td>58.97</td>\n",
       "      <td>85.97</td>\n",
       "    </tr>\n",
       "    <tr>\n",
       "      <th>LGBM balanceado</th>\n",
       "      <td>85.68</td>\n",
       "      <td>86.34</td>\n",
       "      <td>84.68</td>\n",
       "      <td>85.32</td>\n",
       "      <td>93.50</td>\n",
       "    </tr>\n",
       "  </tbody>\n",
       "</table>\n",
       "</div>"
      ],
      "text/plain": [
       "                                   Accuracy  Precision  Recall  F1 Score  \\\n",
       "Logistic Regression sem balancear     80.98      59.61   21.16     31.08   \n",
       "Logistic Regression balanceado        75.88      76.45   74.57     75.30   \n",
       "Naive Bayes sem balancear             81.87      58.92   36.97     45.34   \n",
       "Naive Bayes balanceado                74.98      75.71   73.48     74.47   \n",
       "Random Forest sem balancear           86.30      77.05   46.79     58.10   \n",
       "Random Forest balanceado              89.03      88.79   89.25     88.86   \n",
       "Decision Tree sem balancear           79.20      48.93   51.30     50.06   \n",
       "Decision Tree balanceado              82.31      81.20   84.02     82.45   \n",
       "LGBM sem balancear                    86.04      73.45   49.43     58.97   \n",
       "LGBM balanceado                       85.68      86.34   84.68     85.32   \n",
       "\n",
       "                                   AUROC  \n",
       "Logistic Regression sem balancear  76.61  \n",
       "Logistic Regression balanceado     84.28  \n",
       "Naive Bayes sem balancear          78.39  \n",
       "Naive Bayes balanceado             82.85  \n",
       "Random Forest sem balancear        85.15  \n",
       "Random Forest balanceado           95.52  \n",
       "Decision Tree sem balancear        68.82  \n",
       "Decision Tree balanceado           82.31  \n",
       "LGBM sem balancear                 85.97  \n",
       "LGBM balanceado                    93.50  "
      ]
     },
     "execution_count": 113,
     "metadata": {},
     "output_type": "execute_result"
    }
   ],
   "source": [
    "metricas = (pd.DataFrame([logistic_regression_sem_balancear,logistic_regression_balanceado,naive_bayes_sem_balancear,naive_bayes_balanceado,random_forest_sem_balancear, random_forest_balanceado, decision_tree_sem_balancear,decision_tree_balanceado, LGBM_model_sem_balancear, LGBM_model_balanceado],\n",
    "                        index=['Logistic Regression sem balancear','Logistic Regression balanceado','Naive Bayes sem balancear','Naive Bayes balanceado','Random Forest sem balancear', 'Random Forest balanceado','Decision Tree sem balancear','Decision Tree balanceado','LGBM sem balancear','LGBM balanceado'],\n",
    "                        columns=['Accuracy','Precision','Recall','F1 Score','AUROC'])*100).round(2)\n",
    "\n",
    "metricas"
   ]
  },
  {
   "cell_type": "markdown",
   "id": "9105bb18",
   "metadata": {},
   "source": [
    "Para o problema de negócio, o mais importante é prever corretamente os clientes que provavelmente abandonarão a instituição financeira (verdadeiros positivos, ou seja, previsão de que ocorre abondono \"churn\" e, de fato, ocorre) e, também, minimizar o número de clientes erroneamente classificados como sem previsão de abandonar (falsos negativos, ou seja, previsão de que não ocorre abandono \"churn\", mas ocorre). Portanto, a métrica utilizada será o recall."
   ]
  },
  {
   "cell_type": "code",
   "execution_count": 114,
   "id": "fcb646bb",
   "metadata": {},
   "outputs": [
    {
     "data": {
      "text/plain": [
       "Random Forest balanceado             89.25\n",
       "LGBM balanceado                      84.68\n",
       "Decision Tree balanceado             84.02\n",
       "Logistic Regression balanceado       74.57\n",
       "Naive Bayes balanceado               73.48\n",
       "Decision Tree sem balancear          51.30\n",
       "LGBM sem balancear                   49.43\n",
       "Random Forest sem balancear          46.79\n",
       "Naive Bayes sem balancear            36.97\n",
       "Logistic Regression sem balancear    21.16\n",
       "Name: Recall, dtype: float64"
      ]
     },
     "execution_count": 114,
     "metadata": {},
     "output_type": "execute_result"
    }
   ],
   "source": [
    "metricas['Recall'].sort_values(ascending=False)"
   ]
  },
  {
   "cell_type": "markdown",
   "id": "1f6a75ec",
   "metadata": {},
   "source": [
    "- Melhor modelo: Random Forest balanceado\n",
    "- Além disso, o RF balanceado também mostrou maiores performances nas outras métrica\n",
    "- Modelos sem balancear: não apresentaram boas performances  "
   ]
  },
  {
   "cell_type": "markdown",
   "id": "6f31cf44",
   "metadata": {},
   "source": [
    "4.3. Tunagem de hiperparâmetros do Melhor Modelo (RF)"
   ]
  },
  {
   "cell_type": "code",
   "execution_count": 116,
   "id": "de08ea3c",
   "metadata": {},
   "outputs": [
    {
     "name": "stdout",
     "output_type": "stream",
     "text": [
      "Best Recall Score: 89.62 %\n",
      "Best Parameters: {'criterion': 'entropy', 'max_depth': None, 'min_samples_leaf': 1, 'n_estimators': 200}\n"
     ]
    }
   ],
   "source": [
    "tuned_classifierRF = RandomForestClassifier()\n",
    "\n",
    "# Parameters to be used\n",
    "params_RF = {'n_estimators':[100,200],\n",
    "             'min_samples_leaf':[1,2,3],\n",
    "             'max_depth':[None,1,2],\n",
    "             'criterion':['gini','entropy']}\n",
    "\n",
    "gs_RF = GridSearchCV(estimator=tuned_classifierRF, \n",
    "                      param_grid=params_RF, \n",
    "                      cv=10, \n",
    "                      scoring='recall')\n",
    "\n",
    "# Fitting the model to the training set  \n",
    "gs_RF.fit(X_Treino_balanceado, y_balanceado)\n",
    "\n",
    "# Printing the best score adquired from the tunning\n",
    "best_recall = gs_RF.best_score_\n",
    "print(\"Best Recall Score: {:.2f} %\".format(best_recall*100))\n",
    "\n",
    "# Printing the best parameter found\n",
    "best_parameters = gs_RF.best_params_\n",
    "print(\"Best Parameters:\", best_parameters)"
   ]
  },
  {
   "cell_type": "code",
   "execution_count": 117,
   "id": "f9d788f3",
   "metadata": {},
   "outputs": [
    {
     "name": "stdout",
     "output_type": "stream",
     "text": [
      "Best Recall Score: 89.68 %\n",
      "Best Parameters: {'criterion': 'gini', 'max_depth': None, 'min_samples_leaf': 1, 'n_estimators': 200}\n"
     ]
    }
   ],
   "source": [
    "tuned_classifierRF = RandomForestClassifier()\n",
    "\n",
    "# Parameters to be used\n",
    "params_RF = {'n_estimators':[100,200,300],\n",
    "             'min_samples_leaf':[1,2,3],\n",
    "             'max_depth':[None,1,2],\n",
    "             'criterion':['gini','entropy']}\n",
    "\n",
    "gs_RF = GridSearchCV(estimator=tuned_classifierRF, \n",
    "                      param_grid=params_RF, \n",
    "                      cv=10, \n",
    "                      scoring='recall')\n",
    "\n",
    "# Fitting the model to the training set  \n",
    "gs_RF.fit(X_Treino_balanceado, y_balanceado)\n",
    "\n",
    "# Printing the best score adquired from the tunning\n",
    "best_recall = gs_RF.best_score_\n",
    "print(\"Best Recall Score: {:.2f} %\".format(best_recall*100))\n",
    "\n",
    "# Printing the best parameter found\n",
    "best_parameters = gs_RF.best_params_\n",
    "print(\"Best Parameters:\", best_parameters)"
   ]
  },
  {
   "cell_type": "markdown",
   "id": "baecb761",
   "metadata": {},
   "source": [
    "4.4. Treinando com todos os dados de treino\n",
    "- Treinar (ajustar) o melhor modelo (RF balanceado) com os melhores hiperparâmetros"
   ]
  },
  {
   "cell_type": "code",
   "execution_count": 118,
   "id": "1e707623",
   "metadata": {},
   "outputs": [
    {
     "data": {
      "text/plain": [
       "RandomForestClassifier(n_estimators=300, random_state=42)"
      ]
     },
     "execution_count": 118,
     "metadata": {},
     "output_type": "execute_result"
    }
   ],
   "source": [
    "RF = RandomForestClassifier(n_estimators=300, max_depth=None, \n",
    "                             criterion='gini', random_state=42)\n",
    "\n",
    "RF.fit(X_Treino_balanceado, y_balanceado)"
   ]
  },
  {
   "cell_type": "code",
   "execution_count": 119,
   "id": "ef587012",
   "metadata": {},
   "outputs": [
    {
     "data": {
      "text/html": [
       "<div>\n",
       "<style scoped>\n",
       "    .dataframe tbody tr th:only-of-type {\n",
       "        vertical-align: middle;\n",
       "    }\n",
       "\n",
       "    .dataframe tbody tr th {\n",
       "        vertical-align: top;\n",
       "    }\n",
       "\n",
       "    .dataframe thead th {\n",
       "        text-align: right;\n",
       "    }\n",
       "</style>\n",
       "<table border=\"1\" class=\"dataframe\">\n",
       "  <thead>\n",
       "    <tr style=\"text-align: right;\">\n",
       "      <th></th>\n",
       "      <th>CreditScore</th>\n",
       "      <th>Gender</th>\n",
       "      <th>Age</th>\n",
       "      <th>Tenure</th>\n",
       "      <th>Balance</th>\n",
       "      <th>NumOfProducts</th>\n",
       "      <th>HasCrCard</th>\n",
       "      <th>IsActiveMember</th>\n",
       "      <th>EstimatedSalary</th>\n",
       "      <th>Geography_France</th>\n",
       "      <th>Geography_Germany</th>\n",
       "      <th>Geography_Spain</th>\n",
       "    </tr>\n",
       "  </thead>\n",
       "  <tbody>\n",
       "    <tr>\n",
       "      <th>0</th>\n",
       "      <td>0.411157</td>\n",
       "      <td>1</td>\n",
       "      <td>31</td>\n",
       "      <td>1</td>\n",
       "      <td>0.000000</td>\n",
       "      <td>1</td>\n",
       "      <td>0</td>\n",
       "      <td>1</td>\n",
       "      <td>0.101298</td>\n",
       "      <td>1</td>\n",
       "      <td>0</td>\n",
       "      <td>0</td>\n",
       "    </tr>\n",
       "    <tr>\n",
       "      <th>1</th>\n",
       "      <td>0.419421</td>\n",
       "      <td>1</td>\n",
       "      <td>34</td>\n",
       "      <td>4</td>\n",
       "      <td>0.000000</td>\n",
       "      <td>1</td>\n",
       "      <td>0</td>\n",
       "      <td>1</td>\n",
       "      <td>0.019060</td>\n",
       "      <td>1</td>\n",
       "      <td>0</td>\n",
       "      <td>0</td>\n",
       "    </tr>\n",
       "    <tr>\n",
       "      <th>2</th>\n",
       "      <td>0.626033</td>\n",
       "      <td>0</td>\n",
       "      <td>20</td>\n",
       "      <td>7</td>\n",
       "      <td>0.000000</td>\n",
       "      <td>2</td>\n",
       "      <td>1</td>\n",
       "      <td>0</td>\n",
       "      <td>0.644939</td>\n",
       "      <td>1</td>\n",
       "      <td>0</td>\n",
       "      <td>0</td>\n",
       "    </tr>\n",
       "    <tr>\n",
       "      <th>3</th>\n",
       "      <td>0.677686</td>\n",
       "      <td>1</td>\n",
       "      <td>39</td>\n",
       "      <td>4</td>\n",
       "      <td>0.819096</td>\n",
       "      <td>1</td>\n",
       "      <td>1</td>\n",
       "      <td>1</td>\n",
       "      <td>0.406481</td>\n",
       "      <td>1</td>\n",
       "      <td>0</td>\n",
       "      <td>0</td>\n",
       "    </tr>\n",
       "    <tr>\n",
       "      <th>4</th>\n",
       "      <td>0.285124</td>\n",
       "      <td>1</td>\n",
       "      <td>28</td>\n",
       "      <td>10</td>\n",
       "      <td>0.516695</td>\n",
       "      <td>1</td>\n",
       "      <td>1</td>\n",
       "      <td>1</td>\n",
       "      <td>0.939612</td>\n",
       "      <td>0</td>\n",
       "      <td>0</td>\n",
       "      <td>1</td>\n",
       "    </tr>\n",
       "  </tbody>\n",
       "</table>\n",
       "</div>"
      ],
      "text/plain": [
       "   CreditScore  Gender  Age  Tenure   Balance  NumOfProducts  HasCrCard  \\\n",
       "0     0.411157       1   31       1  0.000000              1          0   \n",
       "1     0.419421       1   34       4  0.000000              1          0   \n",
       "2     0.626033       0   20       7  0.000000              2          1   \n",
       "3     0.677686       1   39       4  0.819096              1          1   \n",
       "4     0.285124       1   28      10  0.516695              1          1   \n",
       "\n",
       "   IsActiveMember  EstimatedSalary  Geography_France  Geography_Germany  \\\n",
       "0               1         0.101298                 1                  0   \n",
       "1               1         0.019060                 1                  0   \n",
       "2               0         0.644939                 1                  0   \n",
       "3               1         0.406481                 1                  0   \n",
       "4               1         0.939612                 0                  0   \n",
       "\n",
       "   Geography_Spain  \n",
       "0                0  \n",
       "1                0  \n",
       "2                0  \n",
       "3                0  \n",
       "4                1  "
      ]
     },
     "execution_count": 119,
     "metadata": {},
     "output_type": "execute_result"
    }
   ],
   "source": [
    "df_teste.head()"
   ]
  },
  {
   "cell_type": "markdown",
   "id": "c9b4de02",
   "metadata": {},
   "source": [
    "5. Previsão usando os dados de teste"
   ]
  },
  {
   "cell_type": "code",
   "execution_count": 120,
   "id": "d3b54b0d",
   "metadata": {},
   "outputs": [],
   "source": [
    "pred_RF_test = RF.predict(df_teste)"
   ]
  },
  {
   "cell_type": "code",
   "execution_count": 121,
   "id": "c23e0d15",
   "metadata": {},
   "outputs": [
    {
     "data": {
      "text/plain": [
       "array([0, 0, 0, 0, 0, 0, 0, 0, 0, 0, 0, 0, 1, 0, 0, 0, 1, 0, 0, 0, 0, 0,\n",
       "       1, 0, 0, 0, 0, 0, 0, 0, 1, 0, 0, 0, 0, 0, 1, 0, 0, 0, 0, 0, 0, 0,\n",
       "       0, 0, 0, 1, 0, 0, 0, 0, 0, 0, 0, 1, 0, 0, 0, 0, 0, 1, 0, 0, 1, 1,\n",
       "       0, 0, 1, 1, 0, 1, 0, 0, 0, 1, 0, 0, 1, 0, 0, 0, 0, 0, 0, 0, 0, 0,\n",
       "       0, 0, 0, 1, 0, 1, 0, 0, 0, 0, 0, 0, 0, 0, 0, 0, 0, 0, 1, 0, 0, 1,\n",
       "       0, 0, 0, 0, 1, 0, 0, 1, 0, 0, 0, 1, 0, 0, 0, 0, 1, 0, 0, 0, 1, 0,\n",
       "       0, 1, 0, 0, 0, 0, 1, 0, 1, 0, 0, 0, 0, 1, 0, 0, 0, 0, 0, 0, 0, 0,\n",
       "       0, 0, 0, 0, 0, 0, 0, 0, 0, 0, 0, 0, 0, 0, 0, 1, 0, 0, 0, 0, 1, 0,\n",
       "       0, 0, 0, 1, 0, 1, 1, 0, 1, 0, 0, 0, 0, 0, 0, 0, 0, 1, 0, 0, 1, 0,\n",
       "       1, 0, 0, 0, 0, 0, 0, 0, 1, 1, 0, 1, 0, 0, 0, 0, 0, 0, 0, 0, 0, 1,\n",
       "       1, 0, 0, 1, 0, 0, 1, 1, 0, 0, 0, 0, 0, 0, 0, 0, 0, 0, 0, 0, 0, 0,\n",
       "       1, 0, 0, 0, 0, 0, 0, 1, 0, 0, 0, 0, 1, 0, 0, 0, 0, 1, 1, 0, 1, 0,\n",
       "       0, 0, 0, 1, 0, 0, 1, 1, 1, 0, 1, 0, 0, 1, 0, 0, 1, 0, 0, 1, 0, 1,\n",
       "       1, 1, 1, 0, 0, 0, 0, 0, 0, 0, 0, 0, 0, 0, 1, 1, 0, 0, 0, 0, 0, 0,\n",
       "       0, 0, 1, 0, 0, 0, 0, 1, 0, 0, 1, 0, 1, 0, 0, 0, 0, 0, 0, 0, 0, 0,\n",
       "       0, 1, 1, 0, 0, 0, 0, 0, 1, 0, 0, 1, 0, 0, 0, 1, 0, 1, 1, 0, 0, 0,\n",
       "       1, 0, 0, 0, 0, 0, 0, 0, 0, 0, 0, 0, 0, 0, 0, 1, 0, 0, 0, 0, 0, 1,\n",
       "       0, 0, 0, 0, 0, 1, 0, 0, 0, 0, 0, 0, 0, 1, 0, 0, 0, 1, 0, 0, 0, 0,\n",
       "       1, 0, 0, 0, 1, 0, 0, 0, 1, 1, 0, 0, 0, 0, 0, 1, 0, 0, 0, 1, 0, 0,\n",
       "       0, 1, 0, 0, 1, 0, 1, 0, 0, 1, 0, 1, 0, 0, 0, 0, 0, 1, 1, 1, 0, 0,\n",
       "       0, 0, 1, 1, 0, 0, 0, 0, 0, 0, 0, 0, 0, 1, 0, 0, 0, 0, 0, 1, 0, 0,\n",
       "       0, 1, 0, 1, 0, 1, 1, 1, 0, 0, 0, 0, 0, 1, 0, 0, 0, 0, 0, 0, 0, 1,\n",
       "       0, 0, 0, 0, 1, 0, 0, 0, 0, 0, 0, 0, 0, 1, 0, 0, 1, 0, 0, 0, 0, 0,\n",
       "       1, 0, 0, 0, 0, 0, 0, 0, 0, 0, 0, 0, 0, 0, 0, 0, 0, 0, 0, 0, 1, 1,\n",
       "       0, 0, 0, 1, 0, 0, 0, 0, 0, 0, 0, 1, 0, 0, 0, 0, 1, 1, 0, 0, 0, 1,\n",
       "       0, 0, 0, 0, 0, 1, 0, 0, 0, 0, 0, 1, 0, 1, 0, 0, 0, 1, 1, 0, 0, 0,\n",
       "       0, 0, 0, 0, 0, 0, 0, 0, 0, 0, 1, 1, 0, 0, 0, 0, 0, 0, 0, 1, 0, 1,\n",
       "       1, 0, 0, 0, 1, 0, 0, 0, 1, 0, 0, 1, 0, 0, 0, 0, 0, 1, 0, 0, 0, 0,\n",
       "       0, 0, 0, 1, 0, 0, 0, 0, 0, 0, 1, 1, 0, 0, 0, 0, 1, 0, 0, 0, 0, 0,\n",
       "       1, 0, 1, 0, 0, 0, 0, 1, 1, 0, 0, 0, 0, 0, 0, 0, 0, 0, 0, 1, 0, 0,\n",
       "       0, 0, 0, 0, 0, 0, 1, 1, 0, 1, 0, 0, 0, 0, 0, 0, 0, 0, 0, 0, 0, 0,\n",
       "       0, 0, 0, 1, 1, 0, 1, 0, 1, 0, 0, 0, 0, 0, 0, 0, 0, 0, 0, 0, 0, 0,\n",
       "       0, 0, 0, 0, 0, 0, 0, 1, 0, 1, 0, 0, 0, 0, 0, 0, 0, 1, 0, 0, 0, 0,\n",
       "       0, 1, 0, 0, 0, 0, 0, 0, 1, 1, 0, 0, 0, 0, 1, 0, 0, 0, 1, 1, 0, 0,\n",
       "       0, 0, 0, 1, 1, 0, 0, 0, 0, 0, 0, 0, 0, 0, 0, 0, 0, 0, 0, 0, 0, 1,\n",
       "       0, 0, 0, 0, 0, 0, 0, 0, 0, 0, 0, 0, 0, 1, 0, 1, 0, 0, 0, 0, 0, 0,\n",
       "       0, 1, 1, 0, 1, 0, 0, 0, 0, 0, 0, 0, 1, 1, 0, 0, 0, 0, 0, 0, 0, 0,\n",
       "       0, 0, 0, 1, 0, 1, 0, 0, 0, 0, 0, 1, 0, 0, 0, 0, 0, 0, 0, 0, 1, 0,\n",
       "       0, 0, 0, 0, 0, 0, 0, 0, 0, 0, 0, 0, 0, 0, 1, 0, 1, 1, 0, 0, 0, 0,\n",
       "       0, 0, 0, 0, 0, 1, 0, 0, 0, 0, 0, 0, 0, 0, 0, 1, 0, 1, 0, 0, 0, 0,\n",
       "       0, 0, 0, 0, 0, 0, 0, 1, 0, 0, 0, 0, 1, 0, 0, 0, 1, 1, 0, 0, 1, 0,\n",
       "       0, 0, 0, 0, 0, 0, 1, 0, 0, 0, 0, 0, 0, 0, 1, 0, 0, 0, 0, 1, 0, 0,\n",
       "       0, 0, 0, 1, 0, 0, 0, 1, 0, 0, 0, 1, 0, 1, 0, 1, 0, 0, 0, 0, 1, 0,\n",
       "       0, 1, 0, 0, 1, 0, 0, 0, 0, 0, 1, 1, 0, 0, 0, 0, 0, 0, 0, 0, 0, 1,\n",
       "       0, 0, 0, 1, 1, 0, 0, 1, 0, 0, 0, 1, 0, 0, 0, 0, 0, 0, 0, 1, 0, 0,\n",
       "       0, 0, 0, 0, 1, 0, 1, 1, 0, 0], dtype=int64)"
      ]
     },
     "execution_count": 121,
     "metadata": {},
     "output_type": "execute_result"
    }
   ],
   "source": [
    "pred_RF_test"
   ]
  },
  {
   "cell_type": "code",
   "execution_count": 122,
   "id": "faa4b85c",
   "metadata": {},
   "outputs": [],
   "source": [
    "np.savetxt('C:/Users/Fabi Borges/LightHouse/test1.csv', pred_RF_test, delimiter=',')"
   ]
  }
 ],
 "metadata": {
  "kernelspec": {
   "display_name": "Python 3",
   "language": "python",
   "name": "python3"
  },
  "language_info": {
   "codemirror_mode": {
    "name": "ipython",
    "version": 3
   },
   "file_extension": ".py",
   "mimetype": "text/x-python",
   "name": "python",
   "nbconvert_exporter": "python",
   "pygments_lexer": "ipython3",
   "version": "3.8.8"
  }
 },
 "nbformat": 4,
 "nbformat_minor": 5
}
