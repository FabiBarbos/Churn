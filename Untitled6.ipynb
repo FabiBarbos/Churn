{
  "nbformat": 4,
  "nbformat_minor": 0,
  "metadata": {
    "colab": {
      "provenance": [],
      "authorship_tag": "ABX9TyNasV1ZsbftnjaASib5ZNPy",
      "include_colab_link": true
    },
    "kernelspec": {
      "name": "python3",
      "display_name": "Python 3"
    },
    "language_info": {
      "name": "python"
    }
  },
  "cells": [
    {
      "cell_type": "markdown",
      "metadata": {
        "id": "view-in-github",
        "colab_type": "text"
      },
      "source": [
        "<a href=\"https://colab.research.google.com/github/FabiBarbos/Churn/blob/main/Untitled6.ipynb\" target=\"_parent\"><img src=\"https://colab.research.google.com/assets/colab-badge.svg\" alt=\"Open In Colab\"/></a>"
      ]
    },
    {
      "cell_type": "code",
      "execution_count": 1,
      "metadata": {
        "id": "PM_e5oECHtsb"
      },
      "outputs": [],
      "source": [
        "# Importando as bibliotecas\n",
        "import pandas as pd # Para utilização de dataframe\n",
        "import matplotlib.pyplot as plt # Para gerar os gráficos\n",
        "import seaborn as sns # Para gerar gráficos\n",
        "import datetime as dt # Para facilitar a manipulação de dados com datas\n",
        "import numpy as np\n",
        "\n",
        "pd.options.mode.chained_assignment = None"
      ]
    },
    {
      "cell_type": "code",
      "source": [
        "# Importando os dados do dataset \n",
        "df = pd.read_excel(\"segmentacao.xlsx\")"
      ],
      "metadata": {
        "id": "xs_nJfCiIWvH"
      },
      "execution_count": 3,
      "outputs": []
    },
    {
      "cell_type": "code",
      "source": [
        "# Analisando os primeiros dados do dataset\n",
        "df.head()"
      ],
      "metadata": {
        "colab": {
          "base_uri": "https://localhost:8080/",
          "height": 206
        },
        "id": "cYJzcarUIupo",
        "outputId": "b848f26d-9647-4a61-e7ae-5d2adf6a9065"
      },
      "execution_count": 4,
      "outputs": [
        {
          "output_type": "execute_result",
          "data": {
            "text/plain": [
              "   order_id  quantity   Venda          Empresa_que_compra data_compra\n",
              "0     11077         4  31.000  Rattlesnake Canyon Grocery  1998-05-06\n",
              "1     11077         3  35.280  Rattlesnake Canyon Grocery  1998-05-06\n",
              "2     11077         2  29.700  Rattlesnake Canyon Grocery  1998-05-06\n",
              "3     11077         2  64.505  Rattlesnake Canyon Grocery  1998-05-06\n",
              "4     11077         2  33.853  Rattlesnake Canyon Grocery  1998-05-06"
            ],
            "text/html": [
              "\n",
              "  <div id=\"df-c86b08ef-bd69-4bf1-a3a0-5e5bdb6c7867\">\n",
              "    <div class=\"colab-df-container\">\n",
              "      <div>\n",
              "<style scoped>\n",
              "    .dataframe tbody tr th:only-of-type {\n",
              "        vertical-align: middle;\n",
              "    }\n",
              "\n",
              "    .dataframe tbody tr th {\n",
              "        vertical-align: top;\n",
              "    }\n",
              "\n",
              "    .dataframe thead th {\n",
              "        text-align: right;\n",
              "    }\n",
              "</style>\n",
              "<table border=\"1\" class=\"dataframe\">\n",
              "  <thead>\n",
              "    <tr style=\"text-align: right;\">\n",
              "      <th></th>\n",
              "      <th>order_id</th>\n",
              "      <th>quantity</th>\n",
              "      <th>Venda</th>\n",
              "      <th>Empresa_que_compra</th>\n",
              "      <th>data_compra</th>\n",
              "    </tr>\n",
              "  </thead>\n",
              "  <tbody>\n",
              "    <tr>\n",
              "      <th>0</th>\n",
              "      <td>11077</td>\n",
              "      <td>4</td>\n",
              "      <td>31.000</td>\n",
              "      <td>Rattlesnake Canyon Grocery</td>\n",
              "      <td>1998-05-06</td>\n",
              "    </tr>\n",
              "    <tr>\n",
              "      <th>1</th>\n",
              "      <td>11077</td>\n",
              "      <td>3</td>\n",
              "      <td>35.280</td>\n",
              "      <td>Rattlesnake Canyon Grocery</td>\n",
              "      <td>1998-05-06</td>\n",
              "    </tr>\n",
              "    <tr>\n",
              "      <th>2</th>\n",
              "      <td>11077</td>\n",
              "      <td>2</td>\n",
              "      <td>29.700</td>\n",
              "      <td>Rattlesnake Canyon Grocery</td>\n",
              "      <td>1998-05-06</td>\n",
              "    </tr>\n",
              "    <tr>\n",
              "      <th>3</th>\n",
              "      <td>11077</td>\n",
              "      <td>2</td>\n",
              "      <td>64.505</td>\n",
              "      <td>Rattlesnake Canyon Grocery</td>\n",
              "      <td>1998-05-06</td>\n",
              "    </tr>\n",
              "    <tr>\n",
              "      <th>4</th>\n",
              "      <td>11077</td>\n",
              "      <td>2</td>\n",
              "      <td>33.853</td>\n",
              "      <td>Rattlesnake Canyon Grocery</td>\n",
              "      <td>1998-05-06</td>\n",
              "    </tr>\n",
              "  </tbody>\n",
              "</table>\n",
              "</div>\n",
              "      <button class=\"colab-df-convert\" onclick=\"convertToInteractive('df-c86b08ef-bd69-4bf1-a3a0-5e5bdb6c7867')\"\n",
              "              title=\"Convert this dataframe to an interactive table.\"\n",
              "              style=\"display:none;\">\n",
              "        \n",
              "  <svg xmlns=\"http://www.w3.org/2000/svg\" height=\"24px\"viewBox=\"0 0 24 24\"\n",
              "       width=\"24px\">\n",
              "    <path d=\"M0 0h24v24H0V0z\" fill=\"none\"/>\n",
              "    <path d=\"M18.56 5.44l.94 2.06.94-2.06 2.06-.94-2.06-.94-.94-2.06-.94 2.06-2.06.94zm-11 1L8.5 8.5l.94-2.06 2.06-.94-2.06-.94L8.5 2.5l-.94 2.06-2.06.94zm10 10l.94 2.06.94-2.06 2.06-.94-2.06-.94-.94-2.06-.94 2.06-2.06.94z\"/><path d=\"M17.41 7.96l-1.37-1.37c-.4-.4-.92-.59-1.43-.59-.52 0-1.04.2-1.43.59L10.3 9.45l-7.72 7.72c-.78.78-.78 2.05 0 2.83L4 21.41c.39.39.9.59 1.41.59.51 0 1.02-.2 1.41-.59l7.78-7.78 2.81-2.81c.8-.78.8-2.07 0-2.86zM5.41 20L4 18.59l7.72-7.72 1.47 1.35L5.41 20z\"/>\n",
              "  </svg>\n",
              "      </button>\n",
              "      \n",
              "  <style>\n",
              "    .colab-df-container {\n",
              "      display:flex;\n",
              "      flex-wrap:wrap;\n",
              "      gap: 12px;\n",
              "    }\n",
              "\n",
              "    .colab-df-convert {\n",
              "      background-color: #E8F0FE;\n",
              "      border: none;\n",
              "      border-radius: 50%;\n",
              "      cursor: pointer;\n",
              "      display: none;\n",
              "      fill: #1967D2;\n",
              "      height: 32px;\n",
              "      padding: 0 0 0 0;\n",
              "      width: 32px;\n",
              "    }\n",
              "\n",
              "    .colab-df-convert:hover {\n",
              "      background-color: #E2EBFA;\n",
              "      box-shadow: 0px 1px 2px rgba(60, 64, 67, 0.3), 0px 1px 3px 1px rgba(60, 64, 67, 0.15);\n",
              "      fill: #174EA6;\n",
              "    }\n",
              "\n",
              "    [theme=dark] .colab-df-convert {\n",
              "      background-color: #3B4455;\n",
              "      fill: #D2E3FC;\n",
              "    }\n",
              "\n",
              "    [theme=dark] .colab-df-convert:hover {\n",
              "      background-color: #434B5C;\n",
              "      box-shadow: 0px 1px 3px 1px rgba(0, 0, 0, 0.15);\n",
              "      filter: drop-shadow(0px 1px 2px rgba(0, 0, 0, 0.3));\n",
              "      fill: #FFFFFF;\n",
              "    }\n",
              "  </style>\n",
              "\n",
              "      <script>\n",
              "        const buttonEl =\n",
              "          document.querySelector('#df-c86b08ef-bd69-4bf1-a3a0-5e5bdb6c7867 button.colab-df-convert');\n",
              "        buttonEl.style.display =\n",
              "          google.colab.kernel.accessAllowed ? 'block' : 'none';\n",
              "\n",
              "        async function convertToInteractive(key) {\n",
              "          const element = document.querySelector('#df-c86b08ef-bd69-4bf1-a3a0-5e5bdb6c7867');\n",
              "          const dataTable =\n",
              "            await google.colab.kernel.invokeFunction('convertToInteractive',\n",
              "                                                     [key], {});\n",
              "          if (!dataTable) return;\n",
              "\n",
              "          const docLinkHtml = 'Like what you see? Visit the ' +\n",
              "            '<a target=\"_blank\" href=https://colab.research.google.com/notebooks/data_table.ipynb>data table notebook</a>'\n",
              "            + ' to learn more about interactive tables.';\n",
              "          element.innerHTML = '';\n",
              "          dataTable['output_type'] = 'display_data';\n",
              "          await google.colab.output.renderOutput(dataTable, element);\n",
              "          const docLink = document.createElement('div');\n",
              "          docLink.innerHTML = docLinkHtml;\n",
              "          element.appendChild(docLink);\n",
              "        }\n",
              "      </script>\n",
              "    </div>\n",
              "  </div>\n",
              "  "
            ]
          },
          "metadata": {},
          "execution_count": 4
        }
      ]
    },
    {
      "cell_type": "code",
      "source": [
        "# Verificando a existência de dados em branco ou nulos\n",
        "print( df.isnull().any() )"
      ],
      "metadata": {
        "colab": {
          "base_uri": "https://localhost:8080/"
        },
        "id": "aUGaI7HTIzlw",
        "outputId": "680cae6d-f33b-4a51-fa38-19b8e089b4ca"
      },
      "execution_count": 5,
      "outputs": [
        {
          "output_type": "stream",
          "name": "stdout",
          "text": [
            "order_id              False\n",
            "quantity              False\n",
            "Venda                 False\n",
            "Empresa_que_compra    False\n",
            "data_compra           False\n",
            "dtype: bool\n"
          ]
        }
      ]
    },
    {
      "cell_type": "code",
      "source": [
        "# Quantificando quantos registros em branco existem em cada dimensão\n",
        "print (df.isnull().sum())"
      ],
      "metadata": {
        "colab": {
          "base_uri": "https://localhost:8080/"
        },
        "id": "OVbNTwU9I6rc",
        "outputId": "f447572e-bc8e-49c4-8f93-c469f8a363a0"
      },
      "execution_count": 6,
      "outputs": [
        {
          "output_type": "stream",
          "name": "stdout",
          "text": [
            "order_id              0\n",
            "quantity              0\n",
            "Venda                 0\n",
            "Empresa_que_compra    0\n",
            "data_compra           0\n",
            "dtype: int64\n"
          ]
        }
      ]
    },
    {
      "cell_type": "markdown",
      "source": [
        "**RFM (Recency, Frequency, Monetary)**\n",
        "\n",
        "  \n",
        "\n",
        "*   **Recency**: calcula o número de dias entre o dia base (última compra + 1) e a última compra por cada empresa.\n",
        "*   **Frequency**: calcula o número de compras realizadas por cada empresa.\n",
        "*   **Monetary**: calcula o valor total pago por cada empresa."
      ],
      "metadata": {
        "id": "osjCY1jTJibu"
      }
    },
    {
      "cell_type": "code",
      "source": [],
      "metadata": {
        "id": "mkiHaE3ZJ-Wg"
      },
      "execution_count": null,
      "outputs": []
    }
  ]
}